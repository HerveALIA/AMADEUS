{
 "cells": [
  {
   "cell_type": "markdown",
   "id": "f684f3af",
   "metadata": {},
   "source": [
    "# PROJET DE MACHINE LEARNING : AMADEUS"
   ]
  },
  {
   "cell_type": "markdown",
   "id": "32c72fdd",
   "metadata": {},
   "source": [
    "L'objectif de ce projet est de mettre en place un modèle de Machine Learning permettant de prédire un Burn_out"
   ]
  },
  {
   "cell_type": "markdown",
   "id": "e9245c77",
   "metadata": {},
   "source": [
    "### A- IMPORTATION DES PACKAGES ET MODULES "
   ]
  },
  {
   "cell_type": "code",
   "execution_count": 2,
   "id": "491a2c60",
   "metadata": {},
   "outputs": [],
   "source": [
    "# Packages\n",
    "import pandas as pd\n",
    "import numpy as np\n",
    "import seaborn as sns\n",
    "import matplotlib.pyplot as plt\n",
    "import scipy.stats as st\n",
    "from sklearn.ensemble import IsolationForest\n",
    "import warnings\n",
    "warnings.filterwarnings('ignore')"
   ]
  },
  {
   "cell_type": "markdown",
   "id": "49e4c715",
   "metadata": {},
   "source": [
    "### B- IMPORTATION DES DONNEES "
   ]
  },
  {
   "cell_type": "code",
   "execution_count": 3,
   "id": "07c04f64",
   "metadata": {
    "scrolled": false
   },
   "outputs": [
    {
     "data": {
      "text/html": [
       "<div>\n",
       "<style scoped>\n",
       "    .dataframe tbody tr th:only-of-type {\n",
       "        vertical-align: middle;\n",
       "    }\n",
       "\n",
       "    .dataframe tbody tr th {\n",
       "        vertical-align: top;\n",
       "    }\n",
       "\n",
       "    .dataframe thead th {\n",
       "        text-align: right;\n",
       "    }\n",
       "</style>\n",
       "<table border=\"1\" class=\"dataframe\">\n",
       "  <thead>\n",
       "    <tr style=\"text-align: right;\">\n",
       "      <th></th>\n",
       "      <th>Séquentiel</th>\n",
       "      <th>SID</th>\n",
       "      <th>Heure de complétion</th>\n",
       "      <th>1statutactuel</th>\n",
       "      <th>Profession category</th>\n",
       "      <th>MEDIDEASCADRE</th>\n",
       "      <th>STATUTPRO4CAT</th>\n",
       "      <th>MEDIDEvsASCADRE</th>\n",
       "      <th>MEDECIN_ALL</th>\n",
       "      <th>INTERNE</th>\n",
       "      <th>...</th>\n",
       "      <th>PSQI_QUALITE_CONTINU</th>\n",
       "      <th>PSQI_MAUVAISE_QUALITE_BIN</th>\n",
       "      <th>125. Au cours des 30 derniers jours, combien de fois avez-vous pris des médicaments pour mieux dormir (médicaments prescrits par votre médecin ou vendus sans ordonnance) ?</th>\n",
       "      <th>HYPNOTIQUES</th>\n",
       "      <th>126. Au cours des 30 derniers jours, combien de fois avez-vous eu des difficultés à rester éveillé(e) en conduisant, en mangeant, ou en participant à des activités avec d’autres personnes ?</th>\n",
       "      <th>127. Au cours des 30 derniers jours, combien vous a-t-il été difficile d’être suffisamment motivé(e) pour mener à bien vos activités ?</th>\n",
       "      <th>SOMNOLENCE_MOD_SEVERE</th>\n",
       "      <th>MOTIVATION_DEFICIT_MOD_SEVERE+II4</th>\n",
       "      <th>128DIFF_FINANCE</th>\n",
       "      <th>129REMUNERATION_JUSTE_VALEUR</th>\n",
       "    </tr>\n",
       "  </thead>\n",
       "  <tbody>\n",
       "    <tr>\n",
       "      <th>0</th>\n",
       "      <td>26</td>\n",
       "      <td>8424666</td>\n",
       "      <td>4/26/21 16:39</td>\n",
       "      <td>Médecin : PH titulaire</td>\n",
       "      <td>Physician</td>\n",
       "      <td>1</td>\n",
       "      <td>Physician</td>\n",
       "      <td>1.0</td>\n",
       "      <td>1</td>\n",
       "      <td>0</td>\n",
       "      <td>...</td>\n",
       "      <td>2</td>\n",
       "      <td>1</td>\n",
       "      <td>0</td>\n",
       "      <td>0</td>\n",
       "      <td>0</td>\n",
       "      <td>0</td>\n",
       "      <td>0</td>\n",
       "      <td>0</td>\n",
       "      <td>NaN</td>\n",
       "      <td>NaN</td>\n",
       "    </tr>\n",
       "    <tr>\n",
       "      <th>1</th>\n",
       "      <td>27</td>\n",
       "      <td>8437258</td>\n",
       "      <td>4/27/21 15:00</td>\n",
       "      <td>Infirmier Diplômé d'Etat</td>\n",
       "      <td>Nurse</td>\n",
       "      <td>1</td>\n",
       "      <td>Nurse</td>\n",
       "      <td>1.0</td>\n",
       "      <td>0</td>\n",
       "      <td>0</td>\n",
       "      <td>...</td>\n",
       "      <td>2</td>\n",
       "      <td>1</td>\n",
       "      <td>2</td>\n",
       "      <td>1</td>\n",
       "      <td>1</td>\n",
       "      <td>1</td>\n",
       "      <td>0</td>\n",
       "      <td>0</td>\n",
       "      <td>NaN</td>\n",
       "      <td>NaN</td>\n",
       "    </tr>\n",
       "    <tr>\n",
       "      <th>2</th>\n",
       "      <td>28</td>\n",
       "      <td>8437467</td>\n",
       "      <td>4/27/21 15:11</td>\n",
       "      <td>Médecin : PH titulaire</td>\n",
       "      <td>Physician</td>\n",
       "      <td>1</td>\n",
       "      <td>Physician</td>\n",
       "      <td>1.0</td>\n",
       "      <td>1</td>\n",
       "      <td>0</td>\n",
       "      <td>...</td>\n",
       "      <td>2</td>\n",
       "      <td>1</td>\n",
       "      <td>3</td>\n",
       "      <td>1</td>\n",
       "      <td>0</td>\n",
       "      <td>2</td>\n",
       "      <td>0</td>\n",
       "      <td>1</td>\n",
       "      <td>NaN</td>\n",
       "      <td>NaN</td>\n",
       "    </tr>\n",
       "    <tr>\n",
       "      <th>3</th>\n",
       "      <td>29</td>\n",
       "      <td>8437725</td>\n",
       "      <td>4/27/21 15:23</td>\n",
       "      <td>Médecin : Interne en médecine (incluant intern...</td>\n",
       "      <td>Physician</td>\n",
       "      <td>1</td>\n",
       "      <td>Physician</td>\n",
       "      <td>1.0</td>\n",
       "      <td>1</td>\n",
       "      <td>1</td>\n",
       "      <td>...</td>\n",
       "      <td>2</td>\n",
       "      <td>1</td>\n",
       "      <td>1</td>\n",
       "      <td>1</td>\n",
       "      <td>1</td>\n",
       "      <td>1</td>\n",
       "      <td>0</td>\n",
       "      <td>0</td>\n",
       "      <td>NaN</td>\n",
       "      <td>NaN</td>\n",
       "    </tr>\n",
       "    <tr>\n",
       "      <th>4</th>\n",
       "      <td>30</td>\n",
       "      <td>8438934</td>\n",
       "      <td>4/27/21 16:24</td>\n",
       "      <td>Infirmier Diplômé d'Etat</td>\n",
       "      <td>Nurse</td>\n",
       "      <td>1</td>\n",
       "      <td>Nurse</td>\n",
       "      <td>1.0</td>\n",
       "      <td>0</td>\n",
       "      <td>0</td>\n",
       "      <td>...</td>\n",
       "      <td>2</td>\n",
       "      <td>1</td>\n",
       "      <td>1</td>\n",
       "      <td>1</td>\n",
       "      <td>1</td>\n",
       "      <td>2</td>\n",
       "      <td>0</td>\n",
       "      <td>1</td>\n",
       "      <td>NaN</td>\n",
       "      <td>NaN</td>\n",
       "    </tr>\n",
       "  </tbody>\n",
       "</table>\n",
       "<p>5 rows × 237 columns</p>\n",
       "</div>"
      ],
      "text/plain": [
       "   Séquentiel      SID Heure de complétion  \\\n",
       "0          26  8424666       4/26/21 16:39   \n",
       "1          27  8437258       4/27/21 15:00   \n",
       "2          28  8437467       4/27/21 15:11   \n",
       "3          29  8437725       4/27/21 15:23   \n",
       "4          30  8438934       4/27/21 16:24   \n",
       "\n",
       "                                       1statutactuel Profession category  \\\n",
       "0                             Médecin : PH titulaire           Physician   \n",
       "1                           Infirmier Diplômé d'Etat               Nurse   \n",
       "2                             Médecin : PH titulaire           Physician   \n",
       "3  Médecin : Interne en médecine (incluant intern...           Physician   \n",
       "4                           Infirmier Diplômé d'Etat               Nurse   \n",
       "\n",
       "   MEDIDEASCADRE STATUTPRO4CAT  MEDIDEvsASCADRE  MEDECIN_ALL  INTERNE  ...  \\\n",
       "0              1     Physician              1.0            1        0  ...   \n",
       "1              1         Nurse              1.0            0        0  ...   \n",
       "2              1     Physician              1.0            1        0  ...   \n",
       "3              1     Physician              1.0            1        1  ...   \n",
       "4              1         Nurse              1.0            0        0  ...   \n",
       "\n",
       "   PSQI_QUALITE_CONTINU  PSQI_MAUVAISE_QUALITE_BIN  \\\n",
       "0                     2                          1   \n",
       "1                     2                          1   \n",
       "2                     2                          1   \n",
       "3                     2                          1   \n",
       "4                     2                          1   \n",
       "\n",
       "   125. Au cours des 30 derniers jours, combien de fois avez-vous pris des médicaments pour mieux dormir (médicaments prescrits par votre médecin ou vendus sans ordonnance) ?  \\\n",
       "0                                                  0                                                                                                                             \n",
       "1                                                  2                                                                                                                             \n",
       "2                                                  3                                                                                                                             \n",
       "3                                                  1                                                                                                                             \n",
       "4                                                  1                                                                                                                             \n",
       "\n",
       "   HYPNOTIQUES  \\\n",
       "0            0   \n",
       "1            1   \n",
       "2            1   \n",
       "3            1   \n",
       "4            1   \n",
       "\n",
       "   126. Au cours des 30 derniers jours, combien de fois avez-vous eu des difficultés à rester éveillé(e) en conduisant, en mangeant, ou en participant à des activités avec d’autres personnes ?  \\\n",
       "0                                                  0                                                                                                                                               \n",
       "1                                                  1                                                                                                                                               \n",
       "2                                                  0                                                                                                                                               \n",
       "3                                                  1                                                                                                                                               \n",
       "4                                                  1                                                                                                                                               \n",
       "\n",
       "   127. Au cours des 30 derniers jours, combien vous a-t-il été difficile d’être suffisamment motivé(e) pour mener à bien vos activités ?  \\\n",
       "0                                                  0                                                                                        \n",
       "1                                                  1                                                                                        \n",
       "2                                                  2                                                                                        \n",
       "3                                                  1                                                                                        \n",
       "4                                                  2                                                                                        \n",
       "\n",
       "   SOMNOLENCE_MOD_SEVERE  MOTIVATION_DEFICIT_MOD_SEVERE+II4  128DIFF_FINANCE  \\\n",
       "0                      0                                  0              NaN   \n",
       "1                      0                                  0              NaN   \n",
       "2                      0                                  1              NaN   \n",
       "3                      0                                  0              NaN   \n",
       "4                      0                                  1              NaN   \n",
       "\n",
       "   129REMUNERATION_JUSTE_VALEUR  \n",
       "0                           NaN  \n",
       "1                           NaN  \n",
       "2                           NaN  \n",
       "3                           NaN  \n",
       "4                           NaN  \n",
       "\n",
       "[5 rows x 237 columns]"
      ]
     },
     "execution_count": 3,
     "metadata": {},
     "output_type": "execute_result"
    }
   ],
   "source": [
    "dataset = pd.read_csv(\"AMADEUS.csv\")\n",
    "dataset.head()"
   ]
  },
  {
   "cell_type": "markdown",
   "id": "2220aa9b",
   "metadata": {},
   "source": [
    "###  C- DATA ENGINIEERING"
   ]
  },
  {
   "cell_type": "code",
   "execution_count": 4,
   "id": "56880086",
   "metadata": {
    "scrolled": true
   },
   "outputs": [
    {
     "name": "stdout",
     "output_type": "stream",
     "text": [
      "['Séquentiel', 'SID', 'Heure de complétion', '1statutactuel', 'Profession category', 'MEDIDEASCADRE', 'STATUTPRO4CAT', 'MEDIDEvsASCADRE', 'MEDECIN_ALL', 'INTERNE', 'IDE', 'AS', 'CADRE_IDE', 'CADRE_SUP', 'CADRE_IDEETSUP', 'CADRE_CADRESUP_ALL', 'PHARMACIEN', 'PSYCHO', 'SAGEFEMME', 'KINE', 'ERGO', 'DIRECTEURSOINS', 'MED_CDD_VS_CDI_PUBLIC', 'MED_PUBLIC_VS_PRIVE', 'IADE_IBODE_VS_AUTREIDE', '2. Quel âge avez-vous ?', '3. Votre sexe biologique :', 'SEX_M', '4. Votre genre psychique:', 'NON_BINAIRE', 'GENRE_M', 'taille', 'poids', 'IMC', 'SURPOIDS_OBESITE', 'OBESITE', 'codepostal', 'secteur_categories', 'PUBLICETEPBNL_VS_PRIVE', 'PUBLIC_VS_PRIVE_ET_EPBNL', '9. Exercez-vous dans un établissement', 'SANITAIRE_VS_MEDICOSOCIAL', 'ANCIENNETE', 'ANCIENNETE_1AN_OU_MOINS', '11conjoint_domicile', '12enfants_nb', 'ENFANT_BIN', '13reconfort_entourage', '14proche_aidant', 'service_COVID19', 'Anatomopathologie', 'Anesthésie', 'Biologie médicale', 'Chirurgie tête et cou', 'Chirurgie générale', 'Chirurgie infantile/pédiatrique', 'Chirurgie Gynéco-Obstétrique', 'Chirurgie Maxillo-faciale', 'Chirurgie: Neurochirurgie', 'Chirurgie: Ophtalmologie', 'Chirurgie : Orthopédie', 'Chirurgie plastique', 'Chirurgie thoracique et cardiologique', 'Chirurgie Viscérale et Digestive', 'Chirurgie Urologique', 'Chirurgie Vasculaire', 'SERVICE_CHIR', 'Direction des Soins', 'Enseignement/Formation', 'Enseignement/Recherche', 'Médecine : Allergologie', 'Médecine : Cardiologie', 'Médecine : Dermatologie', 'Médecine : Endocrinologie', 'Médecine : Hématologie', 'Médecine : Gastroentérologie', 'Médecine Générale', 'Médecine : Génétique', 'Médecine : Gériatrie', 'Médecine : Gynécologie médicale', 'Médecine : Infectiologie', 'Médecine Interne', 'Médecine: Néphrologie', 'Médecine : Neurologie', 'Médecine Nucléaire', 'Médecine : Ophtalmologie', 'Médecine : Oncologie', 'Médecine : Oto-Rhino-Laryngologie ( ORL)', 'Médecine : Pédiatrie (Néonatologie)', 'Médecine : Pédiatrie (hors néonatologie)', 'Médecine Physique et de Réadaptation', 'Médecine : Pneumologie', 'Médecine: Radiologie', 'Médecine : Rhumatologie', 'Médecine : Soins palliatifs', 'Médecine : Stomatologie', 'Médecine du travail', 'Médecine: Urgences', 'Médecine: Urgences préhospitalières (SAMU)', 'Médecine Vasculaire / angiologie', 'SERVICE_SPEMED', 'Psychiatrie adulte', 'Psychiatrie: pédopsychiatrie et enfance inadaptée', 'Soins critiques : Réanimation', 'Soins critiques : soins continus ou soins intensifs polyvalents', 'Soins critiques : soins intensifs', 'SOINS_CRITIQUES', 'Santé Publique', \"Service d'Information Médicale\", 'Service qualité et gestion des risques', '16TEMPS_COMPLET', '17POSTE_DE_NUIT', '18GARDES_NUIT', '19HORAIRES_CONSTANTS', '20. Quel est votre cycle de travail quotidien ?', 'CYCLE10ET12VS7H30ET48', 'AVECGARDES_VS_SANSGARDE', '21PLANNING_2SEM_CONNU', '22DEPASSEMENT_HORAIRE_PREVU_FQC', '23WKEND_W_MOIS_NB', '24ARRET_NB_J_LASTYEAR', '25MALADIE_CHRONIQUE', '26ALD', 'MBITOT', 'SEP', 'SEP_30ETPLUS', 'DEPERSONNALISATION', 'DEPERSONNALISATION_12ETPLUS', 'SAP', 'SAP_33ETMOINS', 'BURNOUT_NBDIMENSIONS', 'BURNOUT_BIN', 'BURNOUT_SEVERE', 'KARASEK_QUANTITE_RAPIDITE', 'KARASEK_COMPLEXITE_INTENSITE', 'KARASEK_MORCELLEMENT_IMPREVISIBILITE', 'KARASEK_AXE1_DEMANDE_PSYCHOLOGIQUE', 'KARASEK_FORTE_DEMANDE_PSYCHOLOGIQUE_AXE1SUP20_BIN', 'KARASEK_LATITUDE_MARGEMANOEUVRE', 'KARASEK_UTILISATION_COMPETENCE', 'KARASEK_DVLPT_COMPETENCE', 'KARASEK_AXE2_LATITUDE_DECISIONELLE', 'KARASEK_FAIBLE_LATITUDE_DECISIONNELLE_AXE2INF71_BIN', 'JOBSTRAIN', 'KARASEK_SOUTIEN_PRO_SUPERIEURS', 'KARASEK_SOUTIEN_PRO_COLLEGUES', 'KARASEK_SOUTIEN_EMO_SUPERIEURS', 'KARASEK_SOUTIEN_EM0_COLLEGUES', 'KARASEK_AXE3_SOUTIEN_SOCIAL', 'KARASEK_FAIBLE_SOUTIENSOCIAL_AXE3INF24_BIN', 'ISOSTRAIN', '75CRAINTE_ERREUR_FQC', '76HARCELEMENT_MORAL', '77HARCELEMENT_MORAL_INFO', '78HARCELEMENT_SEXUEL', '79HARCELEMENT_SEXUEL_INFO', '80SOBD', '81EDM_LIFETIME_NB', 'EDM_HISTORY', 'RMDD_3EDMETPLUS', '82ATD', '83ANXIO', '84PSYCHOSTIM', '85SUIVI_PSY4', '86SUIVI_PSYCHO', '87NB_CIG', 'FUMEUR', 'HARDSMOKER_20ETPLUS', '88CAFE_TASSES', 'CAFE_3TASSES_ETPLUS', 'CAFE_5TASSES_ETPLUS', 'CAFE_10TASSESETPLUS', 'DETA_TOT', 'DETA_CUTOFF2', \"93. Durant ces 7 derniers jours, combien de jours avez-vous fait de l'activité physique intense?\", \"94. Combien de temps par jour au total avez-vous passé à faire de l'activité physique intense ?\", 'ACT_INTENSE_HEBDO_MINUTES', \"95. Durant ces 7 derniers jours, combien de jours avez-vous fait de l'activité physique modérée?\", \"96. Combien de temps par jour au total avez-vous passé à faire de l'activité physique modérée?\", 'ACT_MODERE_HEBDO_MINUTES', '97. Durant ces 7 derniers jours, combien de jours avez-vous marché pendant au moins 10 minutes consécutives ?', '98. Combien de temps, par jour, avez-vous marché au cours des 7 derniers jours?', 'ACT_LEGER_HEBDO_MINUTES', 'METS_MIN_SEMAINE', 'IPAQ_MODERE', 'IPAQ_ELEVE_BIN', 'CESD1', 'CESD2', 'CESD3', 'CESD5', 'CESD6', 'CESD7', 'CESD9', 'CESD10', 'CESD11', 'CESD13', 'CESD14', 'CESD15', 'CESD17', 'CESD18', 'CESD19', 'CESD20', 'CESD4', 'CESD8', 'CESD12', 'CESD16', 'CESDTOT', 'EDM', '119. Au cours des 30 derniers jours, à quelle heure vous êtes-vous généralement couché(e) le soir? (cocher am pour les horaires de matin et pm pour les horaires de soir)', '120. Au cours des 30 derniers jours, au bout de combien de temps ( en minutes) vous êtes-vous généralement endormi(e) le soir?', 'TB_ENDORMISSEMENT_30MINOUPLUS', '121. Au cours des 30 derniers jours, à quelle heure vous êtes vous généralement levé(e) le matin? (cocher am pour les horaires de matin et pm pour les horaires de soir)', '122.DUREE_SOMM_CONTINU', 'DUREE_SOMM_5HOUMOINS', 'a. Vous n’êtes pas arrivé(e) à vous endormir en 30 minutes', 'b.REVEIL_PRECOCE_CONTINU', 'c. Vous avez dû vous lever pour aller aux toilettes', 'd. Vous avez eu du mal à respirer', 'e. Vous avez toussé ou ronflé bruyamment', 'f. Vous avez eu trop froid', 'g. Vous avez eu trop chaud', 'h.CAUCHEMARS_CONTINU', 'CAUCHEMAR_BINAIRE', 'i. Vous avez eu des douleurs', \"j. Vous avez eu des difficultés à dormir pour d'autres raisons\", 'PSQI_TBSOMMEIL_CONTINU', 'PSQI_TB_SOMMEIL_SEVERE', 'PSQI_QUALITE_CONTINU', 'PSQI_MAUVAISE_QUALITE_BIN', '125. Au cours des 30 derniers jours, combien de fois avez-vous pris des médicaments pour mieux dormir (médicaments prescrits par votre médecin ou vendus sans ordonnance) ?', 'HYPNOTIQUES', '126. Au cours des 30 derniers jours, combien de fois avez-vous eu des difficultés à rester éveillé(e) en conduisant, en mangeant, ou en participant à des activités avec d’autres personnes ?', '127. Au cours des 30 derniers jours, combien vous a-t-il été difficile d’être suffisamment motivé(e) pour mener à bien vos activités ?', 'SOMNOLENCE_MOD_SEVERE', 'MOTIVATION_DEFICIT_MOD_SEVERE+II4', '128DIFF_FINANCE', '129REMUNERATION_JUSTE_VALEUR']\n"
     ]
    }
   ],
   "source": [
    "# Affichage des colonnes ou des variables de mon dataset\n",
    "\n",
    "print(dataset.columns.tolist())"
   ]
  },
  {
   "cell_type": "code",
   "execution_count": 5,
   "id": "839d088c",
   "metadata": {},
   "outputs": [
    {
     "name": "stdout",
     "output_type": "stream",
     "text": [
      "<class 'pandas.core.frame.DataFrame'>\n",
      "RangeIndex: 10325 entries, 0 to 10324\n",
      "Columns: 237 entries, Séquentiel to 129REMUNERATION_JUSTE_VALEUR\n",
      "dtypes: float64(16), int64(206), object(15)\n",
      "memory usage: 18.7+ MB\n"
     ]
    }
   ],
   "source": [
    "dataset.info()"
   ]
  },
  {
   "cell_type": "code",
   "execution_count": 6,
   "id": "cd25a381",
   "metadata": {
    "scrolled": true
   },
   "outputs": [
    {
     "data": {
      "text/plain": [
       "Séquentiel                                                                                                                                   0\n",
       "SID                                                                                                                                          0\n",
       "Heure de complétion                                                                                                                          0\n",
       "1statutactuel                                                                                                                                0\n",
       "Profession category                                                                                                                          0\n",
       "                                                                                                                                          ... \n",
       "127. Au cours des 30 derniers jours, combien vous a-t-il été difficile d’être suffisamment motivé(e) pour mener à bien vos activités ?       0\n",
       "SOMNOLENCE_MOD_SEVERE                                                                                                                        0\n",
       "MOTIVATION_DEFICIT_MOD_SEVERE+II4                                                                                                            0\n",
       "128DIFF_FINANCE                                                                                                                           1430\n",
       "129REMUNERATION_JUSTE_VALEUR                                                                                                              1430\n",
       "Length: 237, dtype: int64"
      ]
     },
     "execution_count": 6,
     "metadata": {},
     "output_type": "execute_result"
    }
   ],
   "source": [
    "dataset.isnull().sum()"
   ]
  },
  {
   "cell_type": "code",
   "execution_count": 7,
   "id": "db52b839",
   "metadata": {
    "scrolled": true
   },
   "outputs": [
    {
     "data": {
      "text/plain": [
       "(10325, 237)"
      ]
     },
     "execution_count": 7,
     "metadata": {},
     "output_type": "execute_result"
    }
   ],
   "source": [
    "dataset.shape"
   ]
  },
  {
   "cell_type": "markdown",
   "id": "c2691922",
   "metadata": {},
   "source": [
    "##### Commentaire : \n",
    "Mon dataset compte 10325 individus et 237 variables.\n",
    "Mais nous n'utiliserons pas toutes les 237 variables donc nous allons subseter les variables qui nous intèrèsse"
   ]
  },
  {
   "cell_type": "markdown",
   "id": "b0a74775",
   "metadata": {},
   "source": [
    "#### 1- CHOIX DE MES VARIABLES "
   ]
  },
  {
   "cell_type": "code",
   "execution_count": 8,
   "id": "84f27b6f",
   "metadata": {},
   "outputs": [],
   "source": [
    "df = dataset[['2. Quel âge avez-vous ?','SEX_M','IMC','PUBLIC_VS_PRIVE_ET_EPBNL','ANCIENNETE','11conjoint_domicile','ENFANT_BIN',\n",
    "'13reconfort_entourage','14proche_aidant','service_COVID19','Anatomopathologie','Anesthésie','Biologie médicale',\n",
    "'Chirurgie tête et cou','Chirurgie générale', 'Chirurgie infantile/pédiatrique', 'Chirurgie Gynéco-Obstétrique', \n",
    "'Chirurgie Maxillo-faciale','Chirurgie: Neurochirurgie','Chirurgie: Ophtalmologie', 'Chirurgie : Orthopédie', 'Chirurgie plastique', \n",
    "'Chirurgie thoracique et cardiologique','Chirurgie Viscérale et Digestive','Chirurgie Urologique', 'Chirurgie Vasculaire',\n",
    "'Direction des Soins', 'Enseignement/Formation', 'Enseignement/Recherche', 'Médecine : Allergologie', 'Médecine : Cardiologie', \n",
    "'Médecine : Dermatologie', 'Médecine : Endocrinologie', 'Médecine : Hématologie', 'Médecine : Gastroentérologie', 'Médecine Générale', \n",
    "'Médecine : Génétique', 'Médecine : Gériatrie', 'Médecine : Gynécologie médicale','Médecine : Infectiologie', 'Médecine Interne',\n",
    "'Médecine: Néphrologie', 'Médecine : Neurologie','Médecine Nucléaire', 'Médecine : Ophtalmologie', 'Médecine : Oncologie', \n",
    "'Médecine : Oto-Rhino-Laryngologie ( ORL)', 'Médecine : Pédiatrie (Néonatologie)', 'Médecine : Pédiatrie (hors néonatologie)', \n",
    "'Médecine Physique et de Réadaptation', 'Médecine : Pneumologie', 'Médecine: Radiologie', 'Médecine : Rhumatologie', 'Médecine : Soins palliatifs',\n",
    "'Médecine : Stomatologie', 'Médecine du travail', 'Médecine: Urgences', 'Médecine: Urgences préhospitalières (SAMU)', 'Médecine Vasculaire / angiologie', \n",
    "'Psychiatrie adulte','Psychiatrie: pédopsychiatrie et enfance inadaptée', 'Soins critiques : Réanimation', 'Soins critiques : soins continus ou soins intensifs polyvalents', 'Soins critiques : soins intensifs', \n",
    "'Santé Publique', \"Service d'Information Médicale\", 'Service qualité et gestion des risques', '16TEMPS_COMPLET', '17POSTE_DE_NUIT', \n",
    "'18GARDES_NUIT', '19HORAIRES_CONSTANTS', '21PLANNING_2SEM_CONNU', '22DEPASSEMENT_HORAIRE_PREVU_FQC', '23WKEND_W_MOIS_NB', '24ARRET_NB_J_LASTYEAR', \n",
    "'25MALADIE_CHRONIQUE', '26ALD','KARASEK_QUANTITE_RAPIDITE', 'KARASEK_COMPLEXITE_INTENSITE','KARASEK_MORCELLEMENT_IMPREVISIBILITE',\n",
    "'KARASEK_LATITUDE_MARGEMANOEUVRE', 'KARASEK_UTILISATION_COMPETENCE', 'KARASEK_DVLPT_COMPETENCE', \n",
    "'KARASEK_SOUTIEN_PRO_SUPERIEURS', 'KARASEK_SOUTIEN_PRO_COLLEGUES', 'KARASEK_SOUTIEN_EMO_SUPERIEURS', 'KARASEK_SOUTIEN_EM0_COLLEGUES', \n",
    " '75CRAINTE_ERREUR_FQC', '76HARCELEMENT_MORAL','78HARCELEMENT_SEXUEL','80SOBD','81EDM_LIFETIME_NB','82ATD', '83ANXIO', '84PSYCHOSTIM',\n",
    " '85SUIVI_PSY4', '86SUIVI_PSYCHO', '87NB_CIG', '88CAFE_TASSES','DETA_CUTOFF2','METS_MIN_SEMAINE','CESD1', 'CESD2', 'CESD3', 'CESD5', 'CESD6', 'CESD7',\n",
    "'CESD9', 'CESD10', 'CESD11', 'CESD13', 'CESD14', 'CESD15','CESD17', 'CESD18', 'CESD19', 'CESD20', 'CESD4', 'CESD8', 'CESD12', 'CESD16', \n",
    "'120. Au cours des 30 derniers jours, au bout de combien de temps ( en minutes) vous êtes-vous généralement endormi(e) le soir?', \n",
    "'122.DUREE_SOMM_CONTINU','PSQI_TBSOMMEIL_CONTINU',  'PSQI_QUALITE_CONTINU', \n",
    "'125. Au cours des 30 derniers jours, combien de fois avez-vous pris des médicaments pour mieux dormir (médicaments prescrits par votre médecin ou vendus sans ordonnance) ?',\n",
    "'126. Au cours des 30 derniers jours, combien de fois avez-vous eu des difficultés à rester éveillé(e) en conduisant, en mangeant, ou en participant à des activités avec d’autres personnes ?',\n",
    "'127. Au cours des 30 derniers jours, combien vous a-t-il été difficile d’être suffisamment motivé(e) pour mener à bien vos activités ?','BURNOUT_BIN']]"
   ]
  },
  {
   "cell_type": "code",
   "execution_count": 9,
   "id": "4a987a68",
   "metadata": {},
   "outputs": [
    {
     "data": {
      "text/html": [
       "<div>\n",
       "<style scoped>\n",
       "    .dataframe tbody tr th:only-of-type {\n",
       "        vertical-align: middle;\n",
       "    }\n",
       "\n",
       "    .dataframe tbody tr th {\n",
       "        vertical-align: top;\n",
       "    }\n",
       "\n",
       "    .dataframe thead th {\n",
       "        text-align: right;\n",
       "    }\n",
       "</style>\n",
       "<table border=\"1\" class=\"dataframe\">\n",
       "  <thead>\n",
       "    <tr style=\"text-align: right;\">\n",
       "      <th></th>\n",
       "      <th>2. Quel âge avez-vous ?</th>\n",
       "      <th>SEX_M</th>\n",
       "      <th>IMC</th>\n",
       "      <th>PUBLIC_VS_PRIVE_ET_EPBNL</th>\n",
       "      <th>ANCIENNETE</th>\n",
       "      <th>11conjoint_domicile</th>\n",
       "      <th>ENFANT_BIN</th>\n",
       "      <th>13reconfort_entourage</th>\n",
       "      <th>14proche_aidant</th>\n",
       "      <th>service_COVID19</th>\n",
       "      <th>...</th>\n",
       "      <th>CESD12</th>\n",
       "      <th>CESD16</th>\n",
       "      <th>120. Au cours des 30 derniers jours, au bout de combien de temps ( en minutes) vous êtes-vous généralement endormi(e) le soir?</th>\n",
       "      <th>122.DUREE_SOMM_CONTINU</th>\n",
       "      <th>PSQI_TBSOMMEIL_CONTINU</th>\n",
       "      <th>PSQI_QUALITE_CONTINU</th>\n",
       "      <th>125. Au cours des 30 derniers jours, combien de fois avez-vous pris des médicaments pour mieux dormir (médicaments prescrits par votre médecin ou vendus sans ordonnance) ?</th>\n",
       "      <th>126. Au cours des 30 derniers jours, combien de fois avez-vous eu des difficultés à rester éveillé(e) en conduisant, en mangeant, ou en participant à des activités avec d’autres personnes ?</th>\n",
       "      <th>127. Au cours des 30 derniers jours, combien vous a-t-il été difficile d’être suffisamment motivé(e) pour mener à bien vos activités ?</th>\n",
       "      <th>BURNOUT_BIN</th>\n",
       "    </tr>\n",
       "  </thead>\n",
       "  <tbody>\n",
       "    <tr>\n",
       "      <th>0</th>\n",
       "      <td>39</td>\n",
       "      <td>1</td>\n",
       "      <td>24,69135802</td>\n",
       "      <td>1</td>\n",
       "      <td>10,00</td>\n",
       "      <td>1</td>\n",
       "      <td>0</td>\n",
       "      <td>1</td>\n",
       "      <td>0</td>\n",
       "      <td>0</td>\n",
       "      <td>...</td>\n",
       "      <td>0</td>\n",
       "      <td>0</td>\n",
       "      <td>5.0</td>\n",
       "      <td>6,5</td>\n",
       "      <td>10</td>\n",
       "      <td>2</td>\n",
       "      <td>0</td>\n",
       "      <td>0</td>\n",
       "      <td>0</td>\n",
       "      <td>0</td>\n",
       "    </tr>\n",
       "    <tr>\n",
       "      <th>1</th>\n",
       "      <td>26</td>\n",
       "      <td>0</td>\n",
       "      <td>21,75546853</td>\n",
       "      <td>1</td>\n",
       "      <td>4,00</td>\n",
       "      <td>0</td>\n",
       "      <td>0</td>\n",
       "      <td>1</td>\n",
       "      <td>0</td>\n",
       "      <td>0</td>\n",
       "      <td>...</td>\n",
       "      <td>0</td>\n",
       "      <td>2</td>\n",
       "      <td>120.0</td>\n",
       "      <td>5</td>\n",
       "      <td>8</td>\n",
       "      <td>2</td>\n",
       "      <td>2</td>\n",
       "      <td>1</td>\n",
       "      <td>1</td>\n",
       "      <td>0</td>\n",
       "    </tr>\n",
       "    <tr>\n",
       "      <th>2</th>\n",
       "      <td>35</td>\n",
       "      <td>0</td>\n",
       "      <td>16,32653061</td>\n",
       "      <td>1</td>\n",
       "      <td>6,00</td>\n",
       "      <td>0</td>\n",
       "      <td>0</td>\n",
       "      <td>1</td>\n",
       "      <td>0</td>\n",
       "      <td>0</td>\n",
       "      <td>...</td>\n",
       "      <td>3</td>\n",
       "      <td>3</td>\n",
       "      <td>20.0</td>\n",
       "      <td>6</td>\n",
       "      <td>11</td>\n",
       "      <td>2</td>\n",
       "      <td>3</td>\n",
       "      <td>0</td>\n",
       "      <td>2</td>\n",
       "      <td>0</td>\n",
       "    </tr>\n",
       "    <tr>\n",
       "      <th>3</th>\n",
       "      <td>28</td>\n",
       "      <td>0</td>\n",
       "      <td>23,87511478</td>\n",
       "      <td>1</td>\n",
       "      <td>4,00</td>\n",
       "      <td>0</td>\n",
       "      <td>0</td>\n",
       "      <td>1</td>\n",
       "      <td>0</td>\n",
       "      <td>0</td>\n",
       "      <td>...</td>\n",
       "      <td>3</td>\n",
       "      <td>3</td>\n",
       "      <td>30.0</td>\n",
       "      <td>6</td>\n",
       "      <td>6</td>\n",
       "      <td>2</td>\n",
       "      <td>1</td>\n",
       "      <td>1</td>\n",
       "      <td>1</td>\n",
       "      <td>0</td>\n",
       "    </tr>\n",
       "    <tr>\n",
       "      <th>4</th>\n",
       "      <td>31</td>\n",
       "      <td>0</td>\n",
       "      <td>18,96192742</td>\n",
       "      <td>1</td>\n",
       "      <td>6,00</td>\n",
       "      <td>1</td>\n",
       "      <td>0</td>\n",
       "      <td>0</td>\n",
       "      <td>0</td>\n",
       "      <td>0</td>\n",
       "      <td>...</td>\n",
       "      <td>2</td>\n",
       "      <td>3</td>\n",
       "      <td>15.0</td>\n",
       "      <td>7</td>\n",
       "      <td>14</td>\n",
       "      <td>2</td>\n",
       "      <td>1</td>\n",
       "      <td>1</td>\n",
       "      <td>2</td>\n",
       "      <td>0</td>\n",
       "    </tr>\n",
       "    <tr>\n",
       "      <th>...</th>\n",
       "      <td>...</td>\n",
       "      <td>...</td>\n",
       "      <td>...</td>\n",
       "      <td>...</td>\n",
       "      <td>...</td>\n",
       "      <td>...</td>\n",
       "      <td>...</td>\n",
       "      <td>...</td>\n",
       "      <td>...</td>\n",
       "      <td>...</td>\n",
       "      <td>...</td>\n",
       "      <td>...</td>\n",
       "      <td>...</td>\n",
       "      <td>...</td>\n",
       "      <td>...</td>\n",
       "      <td>...</td>\n",
       "      <td>...</td>\n",
       "      <td>...</td>\n",
       "      <td>...</td>\n",
       "      <td>...</td>\n",
       "      <td>...</td>\n",
       "    </tr>\n",
       "    <tr>\n",
       "      <th>10320</th>\n",
       "      <td>58</td>\n",
       "      <td>0</td>\n",
       "      <td>24,45606342</td>\n",
       "      <td>1</td>\n",
       "      <td>30,00</td>\n",
       "      <td>0</td>\n",
       "      <td>1</td>\n",
       "      <td>1</td>\n",
       "      <td>0</td>\n",
       "      <td>0</td>\n",
       "      <td>...</td>\n",
       "      <td>0</td>\n",
       "      <td>0</td>\n",
       "      <td>15.0</td>\n",
       "      <td>6</td>\n",
       "      <td>9</td>\n",
       "      <td>2</td>\n",
       "      <td>0</td>\n",
       "      <td>3</td>\n",
       "      <td>1</td>\n",
       "      <td>0</td>\n",
       "    </tr>\n",
       "    <tr>\n",
       "      <th>10321</th>\n",
       "      <td>40</td>\n",
       "      <td>0</td>\n",
       "      <td>21,73650525</td>\n",
       "      <td>0</td>\n",
       "      <td>7,00</td>\n",
       "      <td>0</td>\n",
       "      <td>1</td>\n",
       "      <td>1</td>\n",
       "      <td>1</td>\n",
       "      <td>0</td>\n",
       "      <td>...</td>\n",
       "      <td>0</td>\n",
       "      <td>0</td>\n",
       "      <td>10.0</td>\n",
       "      <td>6,5</td>\n",
       "      <td>0</td>\n",
       "      <td>1</td>\n",
       "      <td>0</td>\n",
       "      <td>0</td>\n",
       "      <td>0</td>\n",
       "      <td>0</td>\n",
       "    </tr>\n",
       "    <tr>\n",
       "      <th>10322</th>\n",
       "      <td>30</td>\n",
       "      <td>0</td>\n",
       "      <td>25</td>\n",
       "      <td>1</td>\n",
       "      <td>3,00</td>\n",
       "      <td>0</td>\n",
       "      <td>0</td>\n",
       "      <td>1</td>\n",
       "      <td>0</td>\n",
       "      <td>0</td>\n",
       "      <td>...</td>\n",
       "      <td>0</td>\n",
       "      <td>1</td>\n",
       "      <td>15.0</td>\n",
       "      <td>7</td>\n",
       "      <td>13</td>\n",
       "      <td>1</td>\n",
       "      <td>1</td>\n",
       "      <td>2</td>\n",
       "      <td>1</td>\n",
       "      <td>1</td>\n",
       "    </tr>\n",
       "    <tr>\n",
       "      <th>10323</th>\n",
       "      <td>39</td>\n",
       "      <td>0</td>\n",
       "      <td>27,63605442</td>\n",
       "      <td>1</td>\n",
       "      <td>5,00</td>\n",
       "      <td>1</td>\n",
       "      <td>1</td>\n",
       "      <td>1</td>\n",
       "      <td>0</td>\n",
       "      <td>0</td>\n",
       "      <td>...</td>\n",
       "      <td>0</td>\n",
       "      <td>0</td>\n",
       "      <td>5.0</td>\n",
       "      <td>7,5</td>\n",
       "      <td>7</td>\n",
       "      <td>1</td>\n",
       "      <td>0</td>\n",
       "      <td>0</td>\n",
       "      <td>1</td>\n",
       "      <td>0</td>\n",
       "    </tr>\n",
       "    <tr>\n",
       "      <th>10324</th>\n",
       "      <td>46</td>\n",
       "      <td>0</td>\n",
       "      <td>18,16620425</td>\n",
       "      <td>1</td>\n",
       "      <td>21,00</td>\n",
       "      <td>1</td>\n",
       "      <td>1</td>\n",
       "      <td>1</td>\n",
       "      <td>0</td>\n",
       "      <td>0</td>\n",
       "      <td>...</td>\n",
       "      <td>2</td>\n",
       "      <td>2</td>\n",
       "      <td>60.0</td>\n",
       "      <td>6</td>\n",
       "      <td>7</td>\n",
       "      <td>2</td>\n",
       "      <td>1</td>\n",
       "      <td>0</td>\n",
       "      <td>1</td>\n",
       "      <td>0</td>\n",
       "    </tr>\n",
       "  </tbody>\n",
       "</table>\n",
       "<p>10325 rows × 129 columns</p>\n",
       "</div>"
      ],
      "text/plain": [
       "       2. Quel âge avez-vous ?  SEX_M          IMC  PUBLIC_VS_PRIVE_ET_EPBNL  \\\n",
       "0                           39      1  24,69135802                         1   \n",
       "1                           26      0  21,75546853                         1   \n",
       "2                           35      0  16,32653061                         1   \n",
       "3                           28      0  23,87511478                         1   \n",
       "4                           31      0  18,96192742                         1   \n",
       "...                        ...    ...          ...                       ...   \n",
       "10320                       58      0  24,45606342                         1   \n",
       "10321                       40      0  21,73650525                         0   \n",
       "10322                       30      0           25                         1   \n",
       "10323                       39      0  27,63605442                         1   \n",
       "10324                       46      0  18,16620425                         1   \n",
       "\n",
       "      ANCIENNETE  11conjoint_domicile  ENFANT_BIN  13reconfort_entourage  \\\n",
       "0          10,00                    1           0                      1   \n",
       "1           4,00                    0           0                      1   \n",
       "2           6,00                    0           0                      1   \n",
       "3           4,00                    0           0                      1   \n",
       "4           6,00                    1           0                      0   \n",
       "...          ...                  ...         ...                    ...   \n",
       "10320      30,00                    0           1                      1   \n",
       "10321       7,00                    0           1                      1   \n",
       "10322       3,00                    0           0                      1   \n",
       "10323       5,00                    1           1                      1   \n",
       "10324      21,00                    1           1                      1   \n",
       "\n",
       "       14proche_aidant  service_COVID19  ...  CESD12  CESD16  \\\n",
       "0                    0                0  ...       0       0   \n",
       "1                    0                0  ...       0       2   \n",
       "2                    0                0  ...       3       3   \n",
       "3                    0                0  ...       3       3   \n",
       "4                    0                0  ...       2       3   \n",
       "...                ...              ...  ...     ...     ...   \n",
       "10320                0                0  ...       0       0   \n",
       "10321                1                0  ...       0       0   \n",
       "10322                0                0  ...       0       1   \n",
       "10323                0                0  ...       0       0   \n",
       "10324                0                0  ...       2       2   \n",
       "\n",
       "       120. Au cours des 30 derniers jours, au bout de combien de temps ( en minutes) vous êtes-vous généralement endormi(e) le soir?  \\\n",
       "0                                                    5.0                                                                                \n",
       "1                                                  120.0                                                                                \n",
       "2                                                   20.0                                                                                \n",
       "3                                                   30.0                                                                                \n",
       "4                                                   15.0                                                                                \n",
       "...                                                  ...                                                                                \n",
       "10320                                               15.0                                                                                \n",
       "10321                                               10.0                                                                                \n",
       "10322                                               15.0                                                                                \n",
       "10323                                                5.0                                                                                \n",
       "10324                                               60.0                                                                                \n",
       "\n",
       "       122.DUREE_SOMM_CONTINU  PSQI_TBSOMMEIL_CONTINU  PSQI_QUALITE_CONTINU  \\\n",
       "0                         6,5                      10                     2   \n",
       "1                           5                       8                     2   \n",
       "2                           6                      11                     2   \n",
       "3                           6                       6                     2   \n",
       "4                           7                      14                     2   \n",
       "...                       ...                     ...                   ...   \n",
       "10320                       6                       9                     2   \n",
       "10321                     6,5                       0                     1   \n",
       "10322                       7                      13                     1   \n",
       "10323                     7,5                       7                     1   \n",
       "10324                       6                       7                     2   \n",
       "\n",
       "       125. Au cours des 30 derniers jours, combien de fois avez-vous pris des médicaments pour mieux dormir (médicaments prescrits par votre médecin ou vendus sans ordonnance) ?  \\\n",
       "0                                                      0                                                                                                                             \n",
       "1                                                      2                                                                                                                             \n",
       "2                                                      3                                                                                                                             \n",
       "3                                                      1                                                                                                                             \n",
       "4                                                      1                                                                                                                             \n",
       "...                                                  ...                                                                                                                             \n",
       "10320                                                  0                                                                                                                             \n",
       "10321                                                  0                                                                                                                             \n",
       "10322                                                  1                                                                                                                             \n",
       "10323                                                  0                                                                                                                             \n",
       "10324                                                  1                                                                                                                             \n",
       "\n",
       "       126. Au cours des 30 derniers jours, combien de fois avez-vous eu des difficultés à rester éveillé(e) en conduisant, en mangeant, ou en participant à des activités avec d’autres personnes ?  \\\n",
       "0                                                      0                                                                                                                                               \n",
       "1                                                      1                                                                                                                                               \n",
       "2                                                      0                                                                                                                                               \n",
       "3                                                      1                                                                                                                                               \n",
       "4                                                      1                                                                                                                                               \n",
       "...                                                  ...                                                                                                                                               \n",
       "10320                                                  3                                                                                                                                               \n",
       "10321                                                  0                                                                                                                                               \n",
       "10322                                                  2                                                                                                                                               \n",
       "10323                                                  0                                                                                                                                               \n",
       "10324                                                  0                                                                                                                                               \n",
       "\n",
       "       127. Au cours des 30 derniers jours, combien vous a-t-il été difficile d’être suffisamment motivé(e) pour mener à bien vos activités ?  \\\n",
       "0                                                      0                                                                                        \n",
       "1                                                      1                                                                                        \n",
       "2                                                      2                                                                                        \n",
       "3                                                      1                                                                                        \n",
       "4                                                      2                                                                                        \n",
       "...                                                  ...                                                                                        \n",
       "10320                                                  1                                                                                        \n",
       "10321                                                  0                                                                                        \n",
       "10322                                                  1                                                                                        \n",
       "10323                                                  1                                                                                        \n",
       "10324                                                  1                                                                                        \n",
       "\n",
       "       BURNOUT_BIN  \n",
       "0                0  \n",
       "1                0  \n",
       "2                0  \n",
       "3                0  \n",
       "4                0  \n",
       "...            ...  \n",
       "10320            0  \n",
       "10321            0  \n",
       "10322            1  \n",
       "10323            0  \n",
       "10324            0  \n",
       "\n",
       "[10325 rows x 129 columns]"
      ]
     },
     "execution_count": 9,
     "metadata": {},
     "output_type": "execute_result"
    }
   ],
   "source": [
    "df"
   ]
  },
  {
   "cell_type": "code",
   "execution_count": 10,
   "id": "7c8037b7",
   "metadata": {},
   "outputs": [
    {
     "data": {
      "text/plain": [
       "(10325, 129)"
      ]
     },
     "execution_count": 10,
     "metadata": {},
     "output_type": "execute_result"
    }
   ],
   "source": [
    "df.shape"
   ]
  },
  {
   "cell_type": "markdown",
   "id": "076703f9",
   "metadata": {},
   "source": [
    "Après le choix de nos variables nous voyons que nous avons fait 129 variables mais toujours avec 10325 individus"
   ]
  },
  {
   "cell_type": "markdown",
   "id": "d87fa10c",
   "metadata": {},
   "source": [
    "#### 2-  Renommer les variables avec un tableau de correspondance"
   ]
  },
  {
   "cell_type": "code",
   "execution_count": 11,
   "id": "3f78927b",
   "metadata": {},
   "outputs": [],
   "source": [
    "df1 = df.copy()  # Create copy of DataFrame"
   ]
  },
  {
   "cell_type": "code",
   "execution_count": 12,
   "id": "488b30c1",
   "metadata": {
    "scrolled": true
   },
   "outputs": [
    {
     "data": {
      "text/plain": [
       "[dtype('int64'),\n",
       " dtype('int64'),\n",
       " dtype('O'),\n",
       " dtype('int64'),\n",
       " dtype('O'),\n",
       " dtype('int64'),\n",
       " dtype('int64'),\n",
       " dtype('int64'),\n",
       " dtype('int64'),\n",
       " dtype('int64'),\n",
       " dtype('int64'),\n",
       " dtype('int64'),\n",
       " dtype('int64'),\n",
       " dtype('int64'),\n",
       " dtype('int64'),\n",
       " dtype('int64'),\n",
       " dtype('int64'),\n",
       " dtype('int64'),\n",
       " dtype('int64'),\n",
       " dtype('int64'),\n",
       " dtype('int64'),\n",
       " dtype('int64'),\n",
       " dtype('int64'),\n",
       " dtype('int64'),\n",
       " dtype('int64'),\n",
       " dtype('int64'),\n",
       " dtype('int64'),\n",
       " dtype('int64'),\n",
       " dtype('int64'),\n",
       " dtype('int64'),\n",
       " dtype('int64'),\n",
       " dtype('int64'),\n",
       " dtype('int64'),\n",
       " dtype('int64'),\n",
       " dtype('int64'),\n",
       " dtype('int64'),\n",
       " dtype('int64'),\n",
       " dtype('int64'),\n",
       " dtype('int64'),\n",
       " dtype('int64'),\n",
       " dtype('int64'),\n",
       " dtype('int64'),\n",
       " dtype('int64'),\n",
       " dtype('int64'),\n",
       " dtype('int64'),\n",
       " dtype('int64'),\n",
       " dtype('int64'),\n",
       " dtype('int64'),\n",
       " dtype('int64'),\n",
       " dtype('int64'),\n",
       " dtype('int64'),\n",
       " dtype('int64'),\n",
       " dtype('int64'),\n",
       " dtype('int64'),\n",
       " dtype('int64'),\n",
       " dtype('int64'),\n",
       " dtype('int64'),\n",
       " dtype('int64'),\n",
       " dtype('int64'),\n",
       " dtype('int64'),\n",
       " dtype('int64'),\n",
       " dtype('int64'),\n",
       " dtype('int64'),\n",
       " dtype('int64'),\n",
       " dtype('int64'),\n",
       " dtype('int64'),\n",
       " dtype('int64'),\n",
       " dtype('int64'),\n",
       " dtype('int64'),\n",
       " dtype('float64'),\n",
       " dtype('int64'),\n",
       " dtype('int64'),\n",
       " dtype('int64'),\n",
       " dtype('int64'),\n",
       " dtype('int64'),\n",
       " dtype('int64'),\n",
       " dtype('int64'),\n",
       " dtype('int64'),\n",
       " dtype('int64'),\n",
       " dtype('int64'),\n",
       " dtype('int64'),\n",
       " dtype('int64'),\n",
       " dtype('int64'),\n",
       " dtype('int64'),\n",
       " dtype('int64'),\n",
       " dtype('int64'),\n",
       " dtype('int64'),\n",
       " dtype('int64'),\n",
       " dtype('int64'),\n",
       " dtype('int64'),\n",
       " dtype('int64'),\n",
       " dtype('int64'),\n",
       " dtype('int64'),\n",
       " dtype('int64'),\n",
       " dtype('int64'),\n",
       " dtype('int64'),\n",
       " dtype('int64'),\n",
       " dtype('int64'),\n",
       " dtype('int64'),\n",
       " dtype('int64'),\n",
       " dtype('O'),\n",
       " dtype('int64'),\n",
       " dtype('int64'),\n",
       " dtype('int64'),\n",
       " dtype('int64'),\n",
       " dtype('int64'),\n",
       " dtype('int64'),\n",
       " dtype('int64'),\n",
       " dtype('int64'),\n",
       " dtype('int64'),\n",
       " dtype('int64'),\n",
       " dtype('int64'),\n",
       " dtype('int64'),\n",
       " dtype('int64'),\n",
       " dtype('int64'),\n",
       " dtype('int64'),\n",
       " dtype('int64'),\n",
       " dtype('int64'),\n",
       " dtype('int64'),\n",
       " dtype('int64'),\n",
       " dtype('int64'),\n",
       " dtype('float64'),\n",
       " dtype('O'),\n",
       " dtype('int64'),\n",
       " dtype('int64'),\n",
       " dtype('int64'),\n",
       " dtype('int64'),\n",
       " dtype('int64'),\n",
       " dtype('int64')]"
      ]
     },
     "execution_count": 12,
     "metadata": {},
     "output_type": "execute_result"
    }
   ],
   "source": [
    "df1.dtypes.tolist()"
   ]
  },
  {
   "cell_type": "markdown",
   "id": "27dedae3",
   "metadata": {},
   "source": [
    "##### Commentaire : \n",
    "Nous avons vérifié le type de nos variables afin de nous assurer qu'ils sont tous des numériques ou des floatés mais ci-dessus nous voyons qu'il y a 4 variables qui sont des objets donc nous allons changer leur type"
   ]
  },
  {
   "cell_type": "code",
   "execution_count": 13,
   "id": "41ba72fb",
   "metadata": {
    "scrolled": true
   },
   "outputs": [
    {
     "data": {
      "text/plain": [
       "Index(['IMC', 'ANCIENNETE', 'METS_MIN_SEMAINE', '122.DUREE_SOMM_CONTINU'], dtype='object')"
      ]
     },
     "execution_count": 13,
     "metadata": {},
     "output_type": "execute_result"
    }
   ],
   "source": [
    "df1.select_dtypes(object).columns"
   ]
  },
  {
   "cell_type": "markdown",
   "id": "5bdbdd9a",
   "metadata": {},
   "source": [
    "### 1ère variable :     IMC"
   ]
  },
  {
   "cell_type": "code",
   "execution_count": 14,
   "id": "ea791769",
   "metadata": {},
   "outputs": [
    {
     "data": {
      "text/plain": [
       "0        24,69135802\n",
       "1        21,75546853\n",
       "2        16,32653061\n",
       "3        23,87511478\n",
       "4        18,96192742\n",
       "            ...     \n",
       "10320    24,45606342\n",
       "10321    21,73650525\n",
       "10322             25\n",
       "10323    27,63605442\n",
       "10324    18,16620425\n",
       "Name: IMC, Length: 10325, dtype: object"
      ]
     },
     "execution_count": 14,
     "metadata": {},
     "output_type": "execute_result"
    }
   ],
   "source": [
    "df1['IMC']"
   ]
  },
  {
   "cell_type": "code",
   "execution_count": 15,
   "id": "162c9aae",
   "metadata": {
    "scrolled": true
   },
   "outputs": [],
   "source": [
    "df1['IMC']=df1['IMC'].apply(lambda x: str(x).replace(\",\", \".\"))\n",
    "df1['IMC']=df1['IMC'].astype(float)"
   ]
  },
  {
   "cell_type": "code",
   "execution_count": 16,
   "id": "cd29f6d7",
   "metadata": {},
   "outputs": [
    {
     "data": {
      "text/plain": [
       "0        24.691358\n",
       "1        21.755469\n",
       "2        16.326531\n",
       "3        23.875115\n",
       "4        18.961927\n",
       "           ...    \n",
       "10320    24.456063\n",
       "10321    21.736505\n",
       "10322    25.000000\n",
       "10323    27.636054\n",
       "10324    18.166204\n",
       "Name: IMC, Length: 10325, dtype: float64"
      ]
     },
     "execution_count": 16,
     "metadata": {},
     "output_type": "execute_result"
    }
   ],
   "source": [
    "df1['IMC']"
   ]
  },
  {
   "cell_type": "markdown",
   "id": "02ab90c1",
   "metadata": {},
   "source": [
    "### 2éme variable :  ANCIENNETE"
   ]
  },
  {
   "cell_type": "code",
   "execution_count": 17,
   "id": "bba5168e",
   "metadata": {},
   "outputs": [],
   "source": [
    "df1['ANCIENNETE']=df1['ANCIENNETE'].apply(lambda x: str(x).replace(\",\", \".\"))\n",
    "df1['ANCIENNETE']=df1['ANCIENNETE'].astype(float)"
   ]
  },
  {
   "cell_type": "code",
   "execution_count": 18,
   "id": "5fedc882",
   "metadata": {},
   "outputs": [
    {
     "data": {
      "text/plain": [
       "0        10.0\n",
       "1         4.0\n",
       "2         6.0\n",
       "3         4.0\n",
       "4         6.0\n",
       "         ... \n",
       "10320    30.0\n",
       "10321     7.0\n",
       "10322     3.0\n",
       "10323     5.0\n",
       "10324    21.0\n",
       "Name: ANCIENNETE, Length: 10325, dtype: float64"
      ]
     },
     "execution_count": 18,
     "metadata": {},
     "output_type": "execute_result"
    }
   ],
   "source": [
    "df1['ANCIENNETE']"
   ]
  },
  {
   "cell_type": "markdown",
   "id": "7693b21a",
   "metadata": {},
   "source": [
    "### 3éme variable :  METS_MIN_SEMAINE"
   ]
  },
  {
   "cell_type": "code",
   "execution_count": 19,
   "id": "0bc88b10",
   "metadata": {},
   "outputs": [
    {
     "data": {
      "text/plain": [
       "0           960\n",
       "1           891\n",
       "2        2212,5\n",
       "3         586,5\n",
       "4          3660\n",
       "          ...  \n",
       "10320      7572\n",
       "10321     817,5\n",
       "10322    2209,5\n",
       "10323      1074\n",
       "10324       153\n",
       "Name: METS_MIN_SEMAINE, Length: 10325, dtype: object"
      ]
     },
     "execution_count": 19,
     "metadata": {},
     "output_type": "execute_result"
    }
   ],
   "source": [
    "df1['METS_MIN_SEMAINE']"
   ]
  },
  {
   "cell_type": "code",
   "execution_count": 20,
   "id": "6d501a8e",
   "metadata": {},
   "outputs": [],
   "source": [
    "df1['METS_MIN_SEMAINE']=df1['METS_MIN_SEMAINE'].apply(lambda x: str(x).replace(\",\", \".\"))\n",
    "df1['METS_MIN_SEMAINE']=df1['METS_MIN_SEMAINE'].astype(float)"
   ]
  },
  {
   "cell_type": "code",
   "execution_count": 21,
   "id": "43f987de",
   "metadata": {},
   "outputs": [
    {
     "data": {
      "text/plain": [
       "0         960.0\n",
       "1         891.0\n",
       "2        2212.5\n",
       "3         586.5\n",
       "4        3660.0\n",
       "          ...  \n",
       "10320    7572.0\n",
       "10321     817.5\n",
       "10322    2209.5\n",
       "10323    1074.0\n",
       "10324     153.0\n",
       "Name: METS_MIN_SEMAINE, Length: 10325, dtype: float64"
      ]
     },
     "execution_count": 21,
     "metadata": {},
     "output_type": "execute_result"
    }
   ],
   "source": [
    "df1['METS_MIN_SEMAINE']"
   ]
  },
  {
   "cell_type": "markdown",
   "id": "52aedb12",
   "metadata": {},
   "source": [
    "### 4éme variable :  122.DUREE_SOMM_CONTINU"
   ]
  },
  {
   "cell_type": "code",
   "execution_count": 22,
   "id": "2bc02876",
   "metadata": {},
   "outputs": [
    {
     "data": {
      "text/plain": [
       "0        6,5\n",
       "1          5\n",
       "2          6\n",
       "3          6\n",
       "4          7\n",
       "        ... \n",
       "10320      6\n",
       "10321    6,5\n",
       "10322      7\n",
       "10323    7,5\n",
       "10324      6\n",
       "Name: 122.DUREE_SOMM_CONTINU, Length: 10325, dtype: object"
      ]
     },
     "execution_count": 22,
     "metadata": {},
     "output_type": "execute_result"
    }
   ],
   "source": [
    "df1['122.DUREE_SOMM_CONTINU']"
   ]
  },
  {
   "cell_type": "code",
   "execution_count": 23,
   "id": "6419a9a1",
   "metadata": {},
   "outputs": [],
   "source": [
    "df1['122.DUREE_SOMM_CONTINU']=df1['122.DUREE_SOMM_CONTINU'].apply(lambda x: str(x).replace(\",\", \".\"))\n",
    "df1['122.DUREE_SOMM_CONTINU']=df1['122.DUREE_SOMM_CONTINU'].astype(float)"
   ]
  },
  {
   "cell_type": "code",
   "execution_count": 24,
   "id": "51e8338d",
   "metadata": {},
   "outputs": [
    {
     "data": {
      "text/plain": [
       "0        6.5\n",
       "1        5.0\n",
       "2        6.0\n",
       "3        6.0\n",
       "4        7.0\n",
       "        ... \n",
       "10320    6.0\n",
       "10321    6.5\n",
       "10322    7.0\n",
       "10323    7.5\n",
       "10324    6.0\n",
       "Name: 122.DUREE_SOMM_CONTINU, Length: 10325, dtype: float64"
      ]
     },
     "execution_count": 24,
     "metadata": {},
     "output_type": "execute_result"
    }
   ],
   "source": [
    "df1['122.DUREE_SOMM_CONTINU']"
   ]
  },
  {
   "cell_type": "code",
   "execution_count": 25,
   "id": "9760cc68",
   "metadata": {},
   "outputs": [
    {
     "data": {
      "text/plain": [
       "[dtype('int64'),\n",
       " dtype('int64'),\n",
       " dtype('float64'),\n",
       " dtype('int64'),\n",
       " dtype('float64'),\n",
       " dtype('int64'),\n",
       " dtype('int64'),\n",
       " dtype('int64'),\n",
       " dtype('int64'),\n",
       " dtype('int64'),\n",
       " dtype('int64'),\n",
       " dtype('int64'),\n",
       " dtype('int64'),\n",
       " dtype('int64'),\n",
       " dtype('int64'),\n",
       " dtype('int64'),\n",
       " dtype('int64'),\n",
       " dtype('int64'),\n",
       " dtype('int64'),\n",
       " dtype('int64'),\n",
       " dtype('int64'),\n",
       " dtype('int64'),\n",
       " dtype('int64'),\n",
       " dtype('int64'),\n",
       " dtype('int64'),\n",
       " dtype('int64'),\n",
       " dtype('int64'),\n",
       " dtype('int64'),\n",
       " dtype('int64'),\n",
       " dtype('int64'),\n",
       " dtype('int64'),\n",
       " dtype('int64'),\n",
       " dtype('int64'),\n",
       " dtype('int64'),\n",
       " dtype('int64'),\n",
       " dtype('int64'),\n",
       " dtype('int64'),\n",
       " dtype('int64'),\n",
       " dtype('int64'),\n",
       " dtype('int64'),\n",
       " dtype('int64'),\n",
       " dtype('int64'),\n",
       " dtype('int64'),\n",
       " dtype('int64'),\n",
       " dtype('int64'),\n",
       " dtype('int64'),\n",
       " dtype('int64'),\n",
       " dtype('int64'),\n",
       " dtype('int64'),\n",
       " dtype('int64'),\n",
       " dtype('int64'),\n",
       " dtype('int64'),\n",
       " dtype('int64'),\n",
       " dtype('int64'),\n",
       " dtype('int64'),\n",
       " dtype('int64'),\n",
       " dtype('int64'),\n",
       " dtype('int64'),\n",
       " dtype('int64'),\n",
       " dtype('int64'),\n",
       " dtype('int64'),\n",
       " dtype('int64'),\n",
       " dtype('int64'),\n",
       " dtype('int64'),\n",
       " dtype('int64'),\n",
       " dtype('int64'),\n",
       " dtype('int64'),\n",
       " dtype('int64'),\n",
       " dtype('int64'),\n",
       " dtype('float64'),\n",
       " dtype('int64'),\n",
       " dtype('int64'),\n",
       " dtype('int64'),\n",
       " dtype('int64'),\n",
       " dtype('int64'),\n",
       " dtype('int64'),\n",
       " dtype('int64'),\n",
       " dtype('int64'),\n",
       " dtype('int64'),\n",
       " dtype('int64'),\n",
       " dtype('int64'),\n",
       " dtype('int64'),\n",
       " dtype('int64'),\n",
       " dtype('int64'),\n",
       " dtype('int64'),\n",
       " dtype('int64'),\n",
       " dtype('int64'),\n",
       " dtype('int64'),\n",
       " dtype('int64'),\n",
       " dtype('int64'),\n",
       " dtype('int64'),\n",
       " dtype('int64'),\n",
       " dtype('int64'),\n",
       " dtype('int64'),\n",
       " dtype('int64'),\n",
       " dtype('int64'),\n",
       " dtype('int64'),\n",
       " dtype('int64'),\n",
       " dtype('int64'),\n",
       " dtype('int64'),\n",
       " dtype('float64'),\n",
       " dtype('int64'),\n",
       " dtype('int64'),\n",
       " dtype('int64'),\n",
       " dtype('int64'),\n",
       " dtype('int64'),\n",
       " dtype('int64'),\n",
       " dtype('int64'),\n",
       " dtype('int64'),\n",
       " dtype('int64'),\n",
       " dtype('int64'),\n",
       " dtype('int64'),\n",
       " dtype('int64'),\n",
       " dtype('int64'),\n",
       " dtype('int64'),\n",
       " dtype('int64'),\n",
       " dtype('int64'),\n",
       " dtype('int64'),\n",
       " dtype('int64'),\n",
       " dtype('int64'),\n",
       " dtype('int64'),\n",
       " dtype('float64'),\n",
       " dtype('float64'),\n",
       " dtype('int64'),\n",
       " dtype('int64'),\n",
       " dtype('int64'),\n",
       " dtype('int64'),\n",
       " dtype('int64'),\n",
       " dtype('int64')]"
      ]
     },
     "execution_count": 25,
     "metadata": {},
     "output_type": "execute_result"
    }
   ],
   "source": [
    "df1.dtypes.tolist()"
   ]
  },
  {
   "cell_type": "markdown",
   "id": "6e6b292f",
   "metadata": {},
   "source": [
    "##### Commentaire : \n",
    "Donc nous avons toutes nos variables qui sont des variables quantitatives "
   ]
  },
  {
   "cell_type": "markdown",
   "id": "a9f4fa1e",
   "metadata": {},
   "source": [
    "#### 3-  Gestion des données manquantes"
   ]
  },
  {
   "cell_type": "code",
   "execution_count": 26,
   "id": "019befcd",
   "metadata": {
    "scrolled": true
   },
   "outputs": [
    {
     "data": {
      "text/plain": [
       "18GARDES_NUIT                                                                                                                     118\n",
       "120. Au cours des 30 derniers jours, au bout de combien de temps ( en minutes) vous êtes-vous généralement endormi(e) le soir?      4\n",
       "122.DUREE_SOMM_CONTINU                                                                                                            140\n",
       "dtype: int64"
      ]
     },
     "execution_count": 26,
     "metadata": {},
     "output_type": "execute_result"
    }
   ],
   "source": [
    "df1.isnull().sum()[df1.isnull().sum()>0]"
   ]
  },
  {
   "cell_type": "markdown",
   "id": "584afa85",
   "metadata": {},
   "source": [
    "##### Commentaire : \n",
    "Nous avons 3 variables dans notre dataframe qui ont respectivement 118, 4 et 140 données manquantes"
   ]
  },
  {
   "cell_type": "code",
   "execution_count": 27,
   "id": "55f81db6",
   "metadata": {},
   "outputs": [],
   "source": [
    "def missing_values(data):\n",
    "    total = data.isnull().sum().sort_values(ascending=False)\n",
    "    percent = (data.isnull().sum()/data.isnull().count()).sort_values(ascending=False)\n",
    "    missing_data = pd.concat([total,percent], axis=1, keys=['Total', 'Pourcentage'])\n",
    "    #Affiche que les variables avec des na\n",
    "    #display (missing_data[(percent>0)])\n",
    "    return missing_data[(percent>0)]"
   ]
  },
  {
   "cell_type": "code",
   "execution_count": 28,
   "id": "789050a7",
   "metadata": {},
   "outputs": [
    {
     "data": {
      "text/html": [
       "<div>\n",
       "<style scoped>\n",
       "    .dataframe tbody tr th:only-of-type {\n",
       "        vertical-align: middle;\n",
       "    }\n",
       "\n",
       "    .dataframe tbody tr th {\n",
       "        vertical-align: top;\n",
       "    }\n",
       "\n",
       "    .dataframe thead th {\n",
       "        text-align: right;\n",
       "    }\n",
       "</style>\n",
       "<table border=\"1\" class=\"dataframe\">\n",
       "  <thead>\n",
       "    <tr style=\"text-align: right;\">\n",
       "      <th></th>\n",
       "      <th>122.DUREE_SOMM_CONTINU</th>\n",
       "      <th>18GARDES_NUIT</th>\n",
       "      <th>120. Au cours des 30 derniers jours, au bout de combien de temps ( en minutes) vous êtes-vous généralement endormi(e) le soir?</th>\n",
       "    </tr>\n",
       "  </thead>\n",
       "  <tbody>\n",
       "    <tr>\n",
       "      <th>Total</th>\n",
       "      <td>140.000000</td>\n",
       "      <td>118.000000</td>\n",
       "      <td>4.000000</td>\n",
       "    </tr>\n",
       "    <tr>\n",
       "      <th>Pourcentage</th>\n",
       "      <td>0.013559</td>\n",
       "      <td>0.011429</td>\n",
       "      <td>0.000387</td>\n",
       "    </tr>\n",
       "  </tbody>\n",
       "</table>\n",
       "</div>"
      ],
      "text/plain": [
       "             122.DUREE_SOMM_CONTINU  18GARDES_NUIT  \\\n",
       "Total                    140.000000     118.000000   \n",
       "Pourcentage                0.013559       0.011429   \n",
       "\n",
       "             120. Au cours des 30 derniers jours, au bout de combien de temps ( en minutes) vous êtes-vous généralement endormi(e) le soir?  \n",
       "Total                                                 4.000000                                                                               \n",
       "Pourcentage                                           0.000387                                                                               "
      ]
     },
     "execution_count": 28,
     "metadata": {},
     "output_type": "execute_result"
    }
   ],
   "source": [
    "missing_values(df1).T\n",
    "#le T c'est pour transposer la table "
   ]
  },
  {
   "cell_type": "markdown",
   "id": "198f8c8f",
   "metadata": {},
   "source": [
    "### Machine Learning Superviséé"
   ]
  },
  {
   "cell_type": "markdown",
   "id": "f7a79762",
   "metadata": {},
   "source": [
    "### 1ère Partie  : Data_préprocessing"
   ]
  },
  {
   "cell_type": "markdown",
   "id": "83806742",
   "metadata": {},
   "source": [
    "#### Imputation par la moyenne"
   ]
  },
  {
   "cell_type": "code",
   "execution_count": 29,
   "id": "6b4ec089",
   "metadata": {},
   "outputs": [],
   "source": [
    "# Etant donné que j'ai des données manquantes dans mon dataframe je les remplace par la moyenne de la variable concernée "
   ]
  },
  {
   "cell_type": "code",
   "execution_count": 30,
   "id": "d1f667d8",
   "metadata": {},
   "outputs": [
    {
     "data": {
      "text/plain": [
       "6.616789396170839"
      ]
     },
     "execution_count": 30,
     "metadata": {},
     "output_type": "execute_result"
    }
   ],
   "source": [
    "df1['122.DUREE_SOMM_CONTINU'].mean()"
   ]
  },
  {
   "cell_type": "code",
   "execution_count": 31,
   "id": "7ac56f92",
   "metadata": {},
   "outputs": [],
   "source": [
    "df1.fillna(df1.mean(),inplace=True)"
   ]
  },
  {
   "cell_type": "code",
   "execution_count": 32,
   "id": "047f04af",
   "metadata": {},
   "outputs": [
    {
     "data": {
      "text/html": [
       "<div>\n",
       "<style scoped>\n",
       "    .dataframe tbody tr th:only-of-type {\n",
       "        vertical-align: middle;\n",
       "    }\n",
       "\n",
       "    .dataframe tbody tr th {\n",
       "        vertical-align: top;\n",
       "    }\n",
       "\n",
       "    .dataframe thead th {\n",
       "        text-align: right;\n",
       "    }\n",
       "</style>\n",
       "<table border=\"1\" class=\"dataframe\">\n",
       "  <thead>\n",
       "    <tr style=\"text-align: right;\">\n",
       "      <th></th>\n",
       "    </tr>\n",
       "  </thead>\n",
       "  <tbody>\n",
       "    <tr>\n",
       "      <th>Total</th>\n",
       "    </tr>\n",
       "    <tr>\n",
       "      <th>Pourcentage</th>\n",
       "    </tr>\n",
       "  </tbody>\n",
       "</table>\n",
       "</div>"
      ],
      "text/plain": [
       "Empty DataFrame\n",
       "Columns: []\n",
       "Index: [Total, Pourcentage]"
      ]
     },
     "execution_count": 32,
     "metadata": {},
     "output_type": "execute_result"
    }
   ],
   "source": [
    "missing_values(df1).T\n",
    "#le T c'est pour transposer la table \n"
   ]
  },
  {
   "cell_type": "code",
   "execution_count": 33,
   "id": "038aa6a8",
   "metadata": {},
   "outputs": [
    {
     "data": {
      "text/plain": [
       "Index([], dtype='object')"
      ]
     },
     "execution_count": 33,
     "metadata": {},
     "output_type": "execute_result"
    }
   ],
   "source": [
    "df1.select_dtypes(object).columns"
   ]
  },
  {
   "cell_type": "code",
   "execution_count": 34,
   "id": "baa8d135",
   "metadata": {},
   "outputs": [],
   "source": [
    "# 1) Créer une matrice des variables indépendantes et le vecteur de la variable dépendante.\n",
    "# X est la matrice et Y est le vecteur\n",
    "# PS: Astuce : Très souvent la dernière colonne est la colonne dépendante le y à prédire\n",
    "# La matrice des variables indépendantes est aussi appeelée matrice de features"
   ]
  },
  {
   "cell_type": "code",
   "execution_count": 35,
   "id": "2273765b",
   "metadata": {
    "scrolled": false
   },
   "outputs": [
    {
     "data": {
      "text/html": [
       "<div>\n",
       "<style scoped>\n",
       "    .dataframe tbody tr th:only-of-type {\n",
       "        vertical-align: middle;\n",
       "    }\n",
       "\n",
       "    .dataframe tbody tr th {\n",
       "        vertical-align: top;\n",
       "    }\n",
       "\n",
       "    .dataframe thead th {\n",
       "        text-align: right;\n",
       "    }\n",
       "</style>\n",
       "<table border=\"1\" class=\"dataframe\">\n",
       "  <thead>\n",
       "    <tr style=\"text-align: right;\">\n",
       "      <th></th>\n",
       "      <th>2. Quel âge avez-vous ?</th>\n",
       "      <th>SEX_M</th>\n",
       "      <th>IMC</th>\n",
       "      <th>PUBLIC_VS_PRIVE_ET_EPBNL</th>\n",
       "      <th>ANCIENNETE</th>\n",
       "      <th>11conjoint_domicile</th>\n",
       "      <th>ENFANT_BIN</th>\n",
       "      <th>13reconfort_entourage</th>\n",
       "      <th>14proche_aidant</th>\n",
       "      <th>service_COVID19</th>\n",
       "      <th>...</th>\n",
       "      <th>CESD12</th>\n",
       "      <th>CESD16</th>\n",
       "      <th>120. Au cours des 30 derniers jours, au bout de combien de temps ( en minutes) vous êtes-vous généralement endormi(e) le soir?</th>\n",
       "      <th>122.DUREE_SOMM_CONTINU</th>\n",
       "      <th>PSQI_TBSOMMEIL_CONTINU</th>\n",
       "      <th>PSQI_QUALITE_CONTINU</th>\n",
       "      <th>125. Au cours des 30 derniers jours, combien de fois avez-vous pris des médicaments pour mieux dormir (médicaments prescrits par votre médecin ou vendus sans ordonnance) ?</th>\n",
       "      <th>126. Au cours des 30 derniers jours, combien de fois avez-vous eu des difficultés à rester éveillé(e) en conduisant, en mangeant, ou en participant à des activités avec d’autres personnes ?</th>\n",
       "      <th>127. Au cours des 30 derniers jours, combien vous a-t-il été difficile d’être suffisamment motivé(e) pour mener à bien vos activités ?</th>\n",
       "      <th>BURNOUT_BIN</th>\n",
       "    </tr>\n",
       "  </thead>\n",
       "  <tbody>\n",
       "    <tr>\n",
       "      <th>0</th>\n",
       "      <td>39</td>\n",
       "      <td>1</td>\n",
       "      <td>24.691358</td>\n",
       "      <td>1</td>\n",
       "      <td>10.0</td>\n",
       "      <td>1</td>\n",
       "      <td>0</td>\n",
       "      <td>1</td>\n",
       "      <td>0</td>\n",
       "      <td>0</td>\n",
       "      <td>...</td>\n",
       "      <td>0</td>\n",
       "      <td>0</td>\n",
       "      <td>5.0</td>\n",
       "      <td>6.5</td>\n",
       "      <td>10</td>\n",
       "      <td>2</td>\n",
       "      <td>0</td>\n",
       "      <td>0</td>\n",
       "      <td>0</td>\n",
       "      <td>0</td>\n",
       "    </tr>\n",
       "    <tr>\n",
       "      <th>1</th>\n",
       "      <td>26</td>\n",
       "      <td>0</td>\n",
       "      <td>21.755469</td>\n",
       "      <td>1</td>\n",
       "      <td>4.0</td>\n",
       "      <td>0</td>\n",
       "      <td>0</td>\n",
       "      <td>1</td>\n",
       "      <td>0</td>\n",
       "      <td>0</td>\n",
       "      <td>...</td>\n",
       "      <td>0</td>\n",
       "      <td>2</td>\n",
       "      <td>120.0</td>\n",
       "      <td>5.0</td>\n",
       "      <td>8</td>\n",
       "      <td>2</td>\n",
       "      <td>2</td>\n",
       "      <td>1</td>\n",
       "      <td>1</td>\n",
       "      <td>0</td>\n",
       "    </tr>\n",
       "    <tr>\n",
       "      <th>2</th>\n",
       "      <td>35</td>\n",
       "      <td>0</td>\n",
       "      <td>16.326531</td>\n",
       "      <td>1</td>\n",
       "      <td>6.0</td>\n",
       "      <td>0</td>\n",
       "      <td>0</td>\n",
       "      <td>1</td>\n",
       "      <td>0</td>\n",
       "      <td>0</td>\n",
       "      <td>...</td>\n",
       "      <td>3</td>\n",
       "      <td>3</td>\n",
       "      <td>20.0</td>\n",
       "      <td>6.0</td>\n",
       "      <td>11</td>\n",
       "      <td>2</td>\n",
       "      <td>3</td>\n",
       "      <td>0</td>\n",
       "      <td>2</td>\n",
       "      <td>0</td>\n",
       "    </tr>\n",
       "    <tr>\n",
       "      <th>3</th>\n",
       "      <td>28</td>\n",
       "      <td>0</td>\n",
       "      <td>23.875115</td>\n",
       "      <td>1</td>\n",
       "      <td>4.0</td>\n",
       "      <td>0</td>\n",
       "      <td>0</td>\n",
       "      <td>1</td>\n",
       "      <td>0</td>\n",
       "      <td>0</td>\n",
       "      <td>...</td>\n",
       "      <td>3</td>\n",
       "      <td>3</td>\n",
       "      <td>30.0</td>\n",
       "      <td>6.0</td>\n",
       "      <td>6</td>\n",
       "      <td>2</td>\n",
       "      <td>1</td>\n",
       "      <td>1</td>\n",
       "      <td>1</td>\n",
       "      <td>0</td>\n",
       "    </tr>\n",
       "    <tr>\n",
       "      <th>4</th>\n",
       "      <td>31</td>\n",
       "      <td>0</td>\n",
       "      <td>18.961927</td>\n",
       "      <td>1</td>\n",
       "      <td>6.0</td>\n",
       "      <td>1</td>\n",
       "      <td>0</td>\n",
       "      <td>0</td>\n",
       "      <td>0</td>\n",
       "      <td>0</td>\n",
       "      <td>...</td>\n",
       "      <td>2</td>\n",
       "      <td>3</td>\n",
       "      <td>15.0</td>\n",
       "      <td>7.0</td>\n",
       "      <td>14</td>\n",
       "      <td>2</td>\n",
       "      <td>1</td>\n",
       "      <td>1</td>\n",
       "      <td>2</td>\n",
       "      <td>0</td>\n",
       "    </tr>\n",
       "    <tr>\n",
       "      <th>...</th>\n",
       "      <td>...</td>\n",
       "      <td>...</td>\n",
       "      <td>...</td>\n",
       "      <td>...</td>\n",
       "      <td>...</td>\n",
       "      <td>...</td>\n",
       "      <td>...</td>\n",
       "      <td>...</td>\n",
       "      <td>...</td>\n",
       "      <td>...</td>\n",
       "      <td>...</td>\n",
       "      <td>...</td>\n",
       "      <td>...</td>\n",
       "      <td>...</td>\n",
       "      <td>...</td>\n",
       "      <td>...</td>\n",
       "      <td>...</td>\n",
       "      <td>...</td>\n",
       "      <td>...</td>\n",
       "      <td>...</td>\n",
       "      <td>...</td>\n",
       "    </tr>\n",
       "    <tr>\n",
       "      <th>10320</th>\n",
       "      <td>58</td>\n",
       "      <td>0</td>\n",
       "      <td>24.456063</td>\n",
       "      <td>1</td>\n",
       "      <td>30.0</td>\n",
       "      <td>0</td>\n",
       "      <td>1</td>\n",
       "      <td>1</td>\n",
       "      <td>0</td>\n",
       "      <td>0</td>\n",
       "      <td>...</td>\n",
       "      <td>0</td>\n",
       "      <td>0</td>\n",
       "      <td>15.0</td>\n",
       "      <td>6.0</td>\n",
       "      <td>9</td>\n",
       "      <td>2</td>\n",
       "      <td>0</td>\n",
       "      <td>3</td>\n",
       "      <td>1</td>\n",
       "      <td>0</td>\n",
       "    </tr>\n",
       "    <tr>\n",
       "      <th>10321</th>\n",
       "      <td>40</td>\n",
       "      <td>0</td>\n",
       "      <td>21.736505</td>\n",
       "      <td>0</td>\n",
       "      <td>7.0</td>\n",
       "      <td>0</td>\n",
       "      <td>1</td>\n",
       "      <td>1</td>\n",
       "      <td>1</td>\n",
       "      <td>0</td>\n",
       "      <td>...</td>\n",
       "      <td>0</td>\n",
       "      <td>0</td>\n",
       "      <td>10.0</td>\n",
       "      <td>6.5</td>\n",
       "      <td>0</td>\n",
       "      <td>1</td>\n",
       "      <td>0</td>\n",
       "      <td>0</td>\n",
       "      <td>0</td>\n",
       "      <td>0</td>\n",
       "    </tr>\n",
       "    <tr>\n",
       "      <th>10322</th>\n",
       "      <td>30</td>\n",
       "      <td>0</td>\n",
       "      <td>25.000000</td>\n",
       "      <td>1</td>\n",
       "      <td>3.0</td>\n",
       "      <td>0</td>\n",
       "      <td>0</td>\n",
       "      <td>1</td>\n",
       "      <td>0</td>\n",
       "      <td>0</td>\n",
       "      <td>...</td>\n",
       "      <td>0</td>\n",
       "      <td>1</td>\n",
       "      <td>15.0</td>\n",
       "      <td>7.0</td>\n",
       "      <td>13</td>\n",
       "      <td>1</td>\n",
       "      <td>1</td>\n",
       "      <td>2</td>\n",
       "      <td>1</td>\n",
       "      <td>1</td>\n",
       "    </tr>\n",
       "    <tr>\n",
       "      <th>10323</th>\n",
       "      <td>39</td>\n",
       "      <td>0</td>\n",
       "      <td>27.636054</td>\n",
       "      <td>1</td>\n",
       "      <td>5.0</td>\n",
       "      <td>1</td>\n",
       "      <td>1</td>\n",
       "      <td>1</td>\n",
       "      <td>0</td>\n",
       "      <td>0</td>\n",
       "      <td>...</td>\n",
       "      <td>0</td>\n",
       "      <td>0</td>\n",
       "      <td>5.0</td>\n",
       "      <td>7.5</td>\n",
       "      <td>7</td>\n",
       "      <td>1</td>\n",
       "      <td>0</td>\n",
       "      <td>0</td>\n",
       "      <td>1</td>\n",
       "      <td>0</td>\n",
       "    </tr>\n",
       "    <tr>\n",
       "      <th>10324</th>\n",
       "      <td>46</td>\n",
       "      <td>0</td>\n",
       "      <td>18.166204</td>\n",
       "      <td>1</td>\n",
       "      <td>21.0</td>\n",
       "      <td>1</td>\n",
       "      <td>1</td>\n",
       "      <td>1</td>\n",
       "      <td>0</td>\n",
       "      <td>0</td>\n",
       "      <td>...</td>\n",
       "      <td>2</td>\n",
       "      <td>2</td>\n",
       "      <td>60.0</td>\n",
       "      <td>6.0</td>\n",
       "      <td>7</td>\n",
       "      <td>2</td>\n",
       "      <td>1</td>\n",
       "      <td>0</td>\n",
       "      <td>1</td>\n",
       "      <td>0</td>\n",
       "    </tr>\n",
       "  </tbody>\n",
       "</table>\n",
       "<p>10325 rows × 129 columns</p>\n",
       "</div>"
      ],
      "text/plain": [
       "       2. Quel âge avez-vous ?  SEX_M        IMC  PUBLIC_VS_PRIVE_ET_EPBNL  \\\n",
       "0                           39      1  24.691358                         1   \n",
       "1                           26      0  21.755469                         1   \n",
       "2                           35      0  16.326531                         1   \n",
       "3                           28      0  23.875115                         1   \n",
       "4                           31      0  18.961927                         1   \n",
       "...                        ...    ...        ...                       ...   \n",
       "10320                       58      0  24.456063                         1   \n",
       "10321                       40      0  21.736505                         0   \n",
       "10322                       30      0  25.000000                         1   \n",
       "10323                       39      0  27.636054                         1   \n",
       "10324                       46      0  18.166204                         1   \n",
       "\n",
       "       ANCIENNETE  11conjoint_domicile  ENFANT_BIN  13reconfort_entourage  \\\n",
       "0            10.0                    1           0                      1   \n",
       "1             4.0                    0           0                      1   \n",
       "2             6.0                    0           0                      1   \n",
       "3             4.0                    0           0                      1   \n",
       "4             6.0                    1           0                      0   \n",
       "...           ...                  ...         ...                    ...   \n",
       "10320        30.0                    0           1                      1   \n",
       "10321         7.0                    0           1                      1   \n",
       "10322         3.0                    0           0                      1   \n",
       "10323         5.0                    1           1                      1   \n",
       "10324        21.0                    1           1                      1   \n",
       "\n",
       "       14proche_aidant  service_COVID19  ...  CESD12  CESD16  \\\n",
       "0                    0                0  ...       0       0   \n",
       "1                    0                0  ...       0       2   \n",
       "2                    0                0  ...       3       3   \n",
       "3                    0                0  ...       3       3   \n",
       "4                    0                0  ...       2       3   \n",
       "...                ...              ...  ...     ...     ...   \n",
       "10320                0                0  ...       0       0   \n",
       "10321                1                0  ...       0       0   \n",
       "10322                0                0  ...       0       1   \n",
       "10323                0                0  ...       0       0   \n",
       "10324                0                0  ...       2       2   \n",
       "\n",
       "       120. Au cours des 30 derniers jours, au bout de combien de temps ( en minutes) vous êtes-vous généralement endormi(e) le soir?  \\\n",
       "0                                                    5.0                                                                                \n",
       "1                                                  120.0                                                                                \n",
       "2                                                   20.0                                                                                \n",
       "3                                                   30.0                                                                                \n",
       "4                                                   15.0                                                                                \n",
       "...                                                  ...                                                                                \n",
       "10320                                               15.0                                                                                \n",
       "10321                                               10.0                                                                                \n",
       "10322                                               15.0                                                                                \n",
       "10323                                                5.0                                                                                \n",
       "10324                                               60.0                                                                                \n",
       "\n",
       "       122.DUREE_SOMM_CONTINU  PSQI_TBSOMMEIL_CONTINU  PSQI_QUALITE_CONTINU  \\\n",
       "0                         6.5                      10                     2   \n",
       "1                         5.0                       8                     2   \n",
       "2                         6.0                      11                     2   \n",
       "3                         6.0                       6                     2   \n",
       "4                         7.0                      14                     2   \n",
       "...                       ...                     ...                   ...   \n",
       "10320                     6.0                       9                     2   \n",
       "10321                     6.5                       0                     1   \n",
       "10322                     7.0                      13                     1   \n",
       "10323                     7.5                       7                     1   \n",
       "10324                     6.0                       7                     2   \n",
       "\n",
       "       125. Au cours des 30 derniers jours, combien de fois avez-vous pris des médicaments pour mieux dormir (médicaments prescrits par votre médecin ou vendus sans ordonnance) ?  \\\n",
       "0                                                      0                                                                                                                             \n",
       "1                                                      2                                                                                                                             \n",
       "2                                                      3                                                                                                                             \n",
       "3                                                      1                                                                                                                             \n",
       "4                                                      1                                                                                                                             \n",
       "...                                                  ...                                                                                                                             \n",
       "10320                                                  0                                                                                                                             \n",
       "10321                                                  0                                                                                                                             \n",
       "10322                                                  1                                                                                                                             \n",
       "10323                                                  0                                                                                                                             \n",
       "10324                                                  1                                                                                                                             \n",
       "\n",
       "       126. Au cours des 30 derniers jours, combien de fois avez-vous eu des difficultés à rester éveillé(e) en conduisant, en mangeant, ou en participant à des activités avec d’autres personnes ?  \\\n",
       "0                                                      0                                                                                                                                               \n",
       "1                                                      1                                                                                                                                               \n",
       "2                                                      0                                                                                                                                               \n",
       "3                                                      1                                                                                                                                               \n",
       "4                                                      1                                                                                                                                               \n",
       "...                                                  ...                                                                                                                                               \n",
       "10320                                                  3                                                                                                                                               \n",
       "10321                                                  0                                                                                                                                               \n",
       "10322                                                  2                                                                                                                                               \n",
       "10323                                                  0                                                                                                                                               \n",
       "10324                                                  0                                                                                                                                               \n",
       "\n",
       "       127. Au cours des 30 derniers jours, combien vous a-t-il été difficile d’être suffisamment motivé(e) pour mener à bien vos activités ?  \\\n",
       "0                                                      0                                                                                        \n",
       "1                                                      1                                                                                        \n",
       "2                                                      2                                                                                        \n",
       "3                                                      1                                                                                        \n",
       "4                                                      2                                                                                        \n",
       "...                                                  ...                                                                                        \n",
       "10320                                                  1                                                                                        \n",
       "10321                                                  0                                                                                        \n",
       "10322                                                  1                                                                                        \n",
       "10323                                                  1                                                                                        \n",
       "10324                                                  1                                                                                        \n",
       "\n",
       "       BURNOUT_BIN  \n",
       "0                0  \n",
       "1                0  \n",
       "2                0  \n",
       "3                0  \n",
       "4                0  \n",
       "...            ...  \n",
       "10320            0  \n",
       "10321            0  \n",
       "10322            1  \n",
       "10323            0  \n",
       "10324            0  \n",
       "\n",
       "[10325 rows x 129 columns]"
      ]
     },
     "execution_count": 35,
     "metadata": {},
     "output_type": "execute_result"
    }
   ],
   "source": [
    "df1"
   ]
  },
  {
   "cell_type": "code",
   "execution_count": 36,
   "id": "18852d7c",
   "metadata": {
    "scrolled": true
   },
   "outputs": [
    {
     "name": "stdout",
     "output_type": "stream",
     "text": [
      "['2. Quel âge avez-vous ?', 'SEX_M', 'IMC', 'PUBLIC_VS_PRIVE_ET_EPBNL', 'ANCIENNETE', '11conjoint_domicile', 'ENFANT_BIN', '13reconfort_entourage', '14proche_aidant', 'service_COVID19', 'Anatomopathologie', 'Anesthésie', 'Biologie médicale', 'Chirurgie tête et cou', 'Chirurgie générale', 'Chirurgie infantile/pédiatrique', 'Chirurgie Gynéco-Obstétrique', 'Chirurgie Maxillo-faciale', 'Chirurgie: Neurochirurgie', 'Chirurgie: Ophtalmologie', 'Chirurgie : Orthopédie', 'Chirurgie plastique', 'Chirurgie thoracique et cardiologique', 'Chirurgie Viscérale et Digestive', 'Chirurgie Urologique', 'Chirurgie Vasculaire', 'Direction des Soins', 'Enseignement/Formation', 'Enseignement/Recherche', 'Médecine : Allergologie', 'Médecine : Cardiologie', 'Médecine : Dermatologie', 'Médecine : Endocrinologie', 'Médecine : Hématologie', 'Médecine : Gastroentérologie', 'Médecine Générale', 'Médecine : Génétique', 'Médecine : Gériatrie', 'Médecine : Gynécologie médicale', 'Médecine : Infectiologie', 'Médecine Interne', 'Médecine: Néphrologie', 'Médecine : Neurologie', 'Médecine Nucléaire', 'Médecine : Ophtalmologie', 'Médecine : Oncologie', 'Médecine : Oto-Rhino-Laryngologie ( ORL)', 'Médecine : Pédiatrie (Néonatologie)', 'Médecine : Pédiatrie (hors néonatologie)', 'Médecine Physique et de Réadaptation', 'Médecine : Pneumologie', 'Médecine: Radiologie', 'Médecine : Rhumatologie', 'Médecine : Soins palliatifs', 'Médecine : Stomatologie', 'Médecine du travail', 'Médecine: Urgences', 'Médecine: Urgences préhospitalières (SAMU)', 'Médecine Vasculaire / angiologie', 'Psychiatrie adulte', 'Psychiatrie: pédopsychiatrie et enfance inadaptée', 'Soins critiques : Réanimation', 'Soins critiques : soins continus ou soins intensifs polyvalents', 'Soins critiques : soins intensifs', 'Santé Publique', \"Service d'Information Médicale\", 'Service qualité et gestion des risques', '16TEMPS_COMPLET', '17POSTE_DE_NUIT', '18GARDES_NUIT', '19HORAIRES_CONSTANTS', '21PLANNING_2SEM_CONNU', '22DEPASSEMENT_HORAIRE_PREVU_FQC', '23WKEND_W_MOIS_NB', '24ARRET_NB_J_LASTYEAR', '25MALADIE_CHRONIQUE', '26ALD', 'KARASEK_QUANTITE_RAPIDITE', 'KARASEK_COMPLEXITE_INTENSITE', 'KARASEK_MORCELLEMENT_IMPREVISIBILITE', 'KARASEK_LATITUDE_MARGEMANOEUVRE', 'KARASEK_UTILISATION_COMPETENCE', 'KARASEK_DVLPT_COMPETENCE', 'KARASEK_SOUTIEN_PRO_SUPERIEURS', 'KARASEK_SOUTIEN_PRO_COLLEGUES', 'KARASEK_SOUTIEN_EMO_SUPERIEURS', 'KARASEK_SOUTIEN_EM0_COLLEGUES', '75CRAINTE_ERREUR_FQC', '76HARCELEMENT_MORAL', '78HARCELEMENT_SEXUEL', '80SOBD', '81EDM_LIFETIME_NB', '82ATD', '83ANXIO', '84PSYCHOSTIM', '85SUIVI_PSY4', '86SUIVI_PSYCHO', '87NB_CIG', '88CAFE_TASSES', 'DETA_CUTOFF2', 'METS_MIN_SEMAINE', 'CESD1', 'CESD2', 'CESD3', 'CESD5', 'CESD6', 'CESD7', 'CESD9', 'CESD10', 'CESD11', 'CESD13', 'CESD14', 'CESD15', 'CESD17', 'CESD18', 'CESD19', 'CESD20', 'CESD4', 'CESD8', 'CESD12', 'CESD16', '120. Au cours des 30 derniers jours, au bout de combien de temps ( en minutes) vous êtes-vous généralement endormi(e) le soir?', '122.DUREE_SOMM_CONTINU', 'PSQI_TBSOMMEIL_CONTINU', 'PSQI_QUALITE_CONTINU', '125. Au cours des 30 derniers jours, combien de fois avez-vous pris des médicaments pour mieux dormir (médicaments prescrits par votre médecin ou vendus sans ordonnance) ?', '126. Au cours des 30 derniers jours, combien de fois avez-vous eu des difficultés à rester éveillé(e) en conduisant, en mangeant, ou en participant à des activités avec d’autres personnes ?', '127. Au cours des 30 derniers jours, combien vous a-t-il été difficile d’être suffisamment motivé(e) pour mener à bien vos activités ?', 'BURNOUT_BIN']\n"
     ]
    }
   ],
   "source": [
    "print(df1.columns.tolist())"
   ]
  },
  {
   "cell_type": "markdown",
   "id": "2ef5d800",
   "metadata": {},
   "source": [
    "# Gestion des variables binaires et non binaires "
   ]
  },
  {
   "cell_type": "code",
   "execution_count": 37,
   "id": "dafd4943",
   "metadata": {},
   "outputs": [],
   "source": [
    "binary_vars = []\n",
    "non_binary_vars = []\n",
    "for col in df1.columns:\n",
    "    if df1[col].nunique() == 2:\n",
    "        binary_vars.append(col)\n",
    "    else:\n",
    "        non_binary_vars.append(col)"
   ]
  },
  {
   "cell_type": "code",
   "execution_count": 38,
   "id": "adccd3c8",
   "metadata": {
    "scrolled": true
   },
   "outputs": [
    {
     "name": "stdout",
     "output_type": "stream",
     "text": [
      "Colonnes binaires : ['SEX_M', 'PUBLIC_VS_PRIVE_ET_EPBNL', '11conjoint_domicile', 'ENFANT_BIN', '13reconfort_entourage', '14proche_aidant', 'service_COVID19', 'Anatomopathologie', 'Anesthésie', 'Biologie médicale', 'Chirurgie tête et cou', 'Chirurgie générale', 'Chirurgie infantile/pédiatrique', 'Chirurgie Gynéco-Obstétrique', 'Chirurgie Maxillo-faciale', 'Chirurgie: Neurochirurgie', 'Chirurgie: Ophtalmologie', 'Chirurgie : Orthopédie', 'Chirurgie plastique', 'Chirurgie thoracique et cardiologique', 'Chirurgie Viscérale et Digestive', 'Chirurgie Urologique', 'Chirurgie Vasculaire', 'Direction des Soins', 'Enseignement/Formation', 'Enseignement/Recherche', 'Médecine : Allergologie', 'Médecine : Cardiologie', 'Médecine : Dermatologie', 'Médecine : Endocrinologie', 'Médecine : Hématologie', 'Médecine : Gastroentérologie', 'Médecine Générale', 'Médecine : Génétique', 'Médecine : Gériatrie', 'Médecine : Gynécologie médicale', 'Médecine : Infectiologie', 'Médecine Interne', 'Médecine: Néphrologie', 'Médecine : Neurologie', 'Médecine Nucléaire', 'Médecine : Ophtalmologie', 'Médecine : Oncologie', 'Médecine : Oto-Rhino-Laryngologie ( ORL)', 'Médecine : Pédiatrie (Néonatologie)', 'Médecine : Pédiatrie (hors néonatologie)', 'Médecine Physique et de Réadaptation', 'Médecine : Pneumologie', 'Médecine: Radiologie', 'Médecine : Rhumatologie', 'Médecine : Soins palliatifs', 'Médecine : Stomatologie', 'Médecine du travail', 'Médecine: Urgences', 'Médecine: Urgences préhospitalières (SAMU)', 'Médecine Vasculaire / angiologie', 'Psychiatrie adulte', 'Psychiatrie: pédopsychiatrie et enfance inadaptée', 'Soins critiques : Réanimation', 'Soins critiques : soins continus ou soins intensifs polyvalents', 'Soins critiques : soins intensifs', 'Santé Publique', \"Service d'Information Médicale\", 'Service qualité et gestion des risques', '16TEMPS_COMPLET', '17POSTE_DE_NUIT', '19HORAIRES_CONSTANTS', '21PLANNING_2SEM_CONNU', '25MALADIE_CHRONIQUE', '26ALD', '76HARCELEMENT_MORAL', '78HARCELEMENT_SEXUEL', '80SOBD', '82ATD', '83ANXIO', '84PSYCHOSTIM', '85SUIVI_PSY4', '86SUIVI_PSYCHO', 'DETA_CUTOFF2', 'BURNOUT_BIN']\n"
     ]
    }
   ],
   "source": [
    "# Afficher les colonnes binaires\n",
    "print('Colonnes binaires :', binary_vars)"
   ]
  },
  {
   "cell_type": "code",
   "execution_count": 39,
   "id": "15b89da9",
   "metadata": {},
   "outputs": [
    {
     "name": "stdout",
     "output_type": "stream",
     "text": [
      "49\n",
      "80\n"
     ]
    }
   ],
   "source": [
    "print(len(non_binary_vars))\n",
    "print(len(binary_vars))"
   ]
  },
  {
   "cell_type": "code",
   "execution_count": 40,
   "id": "7ba649b9",
   "metadata": {},
   "outputs": [
    {
     "name": "stdout",
     "output_type": "stream",
     "text": [
      "Colonnes non binaires : ['2. Quel âge avez-vous ?', 'IMC', 'ANCIENNETE', '18GARDES_NUIT', '22DEPASSEMENT_HORAIRE_PREVU_FQC', '23WKEND_W_MOIS_NB', '24ARRET_NB_J_LASTYEAR', 'KARASEK_QUANTITE_RAPIDITE', 'KARASEK_COMPLEXITE_INTENSITE', 'KARASEK_MORCELLEMENT_IMPREVISIBILITE', 'KARASEK_LATITUDE_MARGEMANOEUVRE', 'KARASEK_UTILISATION_COMPETENCE', 'KARASEK_DVLPT_COMPETENCE', 'KARASEK_SOUTIEN_PRO_SUPERIEURS', 'KARASEK_SOUTIEN_PRO_COLLEGUES', 'KARASEK_SOUTIEN_EMO_SUPERIEURS', 'KARASEK_SOUTIEN_EM0_COLLEGUES', '75CRAINTE_ERREUR_FQC', '81EDM_LIFETIME_NB', '87NB_CIG', '88CAFE_TASSES', 'METS_MIN_SEMAINE', 'CESD1', 'CESD2', 'CESD3', 'CESD5', 'CESD6', 'CESD7', 'CESD9', 'CESD10', 'CESD11', 'CESD13', 'CESD14', 'CESD15', 'CESD17', 'CESD18', 'CESD19', 'CESD20', 'CESD4', 'CESD8', 'CESD12', 'CESD16', '120. Au cours des 30 derniers jours, au bout de combien de temps ( en minutes) vous êtes-vous généralement endormi(e) le soir?', '122.DUREE_SOMM_CONTINU', 'PSQI_TBSOMMEIL_CONTINU', 'PSQI_QUALITE_CONTINU', '125. Au cours des 30 derniers jours, combien de fois avez-vous pris des médicaments pour mieux dormir (médicaments prescrits par votre médecin ou vendus sans ordonnance) ?', '126. Au cours des 30 derniers jours, combien de fois avez-vous eu des difficultés à rester éveillé(e) en conduisant, en mangeant, ou en participant à des activités avec d’autres personnes ?', '127. Au cours des 30 derniers jours, combien vous a-t-il été difficile d’être suffisamment motivé(e) pour mener à bien vos activités ?']\n"
     ]
    }
   ],
   "source": [
    "# Afficher les colonnes non_binaires\n",
    "print('Colonnes non binaires :', non_binary_vars)"
   ]
  },
  {
   "cell_type": "code",
   "execution_count": 41,
   "id": "3faab950",
   "metadata": {},
   "outputs": [],
   "source": [
    "from sklearn.preprocessing import StandardScaler\n",
    "scaler1 = StandardScaler()"
   ]
  },
  {
   "cell_type": "code",
   "execution_count": 42,
   "id": "2c228555",
   "metadata": {},
   "outputs": [],
   "source": [
    "# Standardisation des variables non binaires\n",
    "scaler1 = StandardScaler()\n",
    "df1[non_binary_vars] = scaler1.fit_transform(df1[non_binary_vars])"
   ]
  },
  {
   "cell_type": "code",
   "execution_count": 43,
   "id": "72e96898",
   "metadata": {},
   "outputs": [],
   "source": [
    "# Concaténation des variables binaires et non binaires\n",
    "df2 = pd.concat([df1[binary_vars], df1[non_binary_vars]], axis=1)"
   ]
  },
  {
   "cell_type": "code",
   "execution_count": 44,
   "id": "1e6ddff8",
   "metadata": {
    "scrolled": false
   },
   "outputs": [
    {
     "data": {
      "text/html": [
       "<div>\n",
       "<style scoped>\n",
       "    .dataframe tbody tr th:only-of-type {\n",
       "        vertical-align: middle;\n",
       "    }\n",
       "\n",
       "    .dataframe tbody tr th {\n",
       "        vertical-align: top;\n",
       "    }\n",
       "\n",
       "    .dataframe thead th {\n",
       "        text-align: right;\n",
       "    }\n",
       "</style>\n",
       "<table border=\"1\" class=\"dataframe\">\n",
       "  <thead>\n",
       "    <tr style=\"text-align: right;\">\n",
       "      <th></th>\n",
       "      <th>SEX_M</th>\n",
       "      <th>PUBLIC_VS_PRIVE_ET_EPBNL</th>\n",
       "      <th>11conjoint_domicile</th>\n",
       "      <th>ENFANT_BIN</th>\n",
       "      <th>13reconfort_entourage</th>\n",
       "      <th>14proche_aidant</th>\n",
       "      <th>service_COVID19</th>\n",
       "      <th>Anatomopathologie</th>\n",
       "      <th>Anesthésie</th>\n",
       "      <th>Biologie médicale</th>\n",
       "      <th>...</th>\n",
       "      <th>CESD8</th>\n",
       "      <th>CESD12</th>\n",
       "      <th>CESD16</th>\n",
       "      <th>120. Au cours des 30 derniers jours, au bout de combien de temps ( en minutes) vous êtes-vous généralement endormi(e) le soir?</th>\n",
       "      <th>122.DUREE_SOMM_CONTINU</th>\n",
       "      <th>PSQI_TBSOMMEIL_CONTINU</th>\n",
       "      <th>PSQI_QUALITE_CONTINU</th>\n",
       "      <th>125. Au cours des 30 derniers jours, combien de fois avez-vous pris des médicaments pour mieux dormir (médicaments prescrits par votre médecin ou vendus sans ordonnance) ?</th>\n",
       "      <th>126. Au cours des 30 derniers jours, combien de fois avez-vous eu des difficultés à rester éveillé(e) en conduisant, en mangeant, ou en participant à des activités avec d’autres personnes ?</th>\n",
       "      <th>127. Au cours des 30 derniers jours, combien vous a-t-il été difficile d’être suffisamment motivé(e) pour mener à bien vos activités ?</th>\n",
       "    </tr>\n",
       "  </thead>\n",
       "  <tbody>\n",
       "    <tr>\n",
       "      <th>0</th>\n",
       "      <td>1</td>\n",
       "      <td>1</td>\n",
       "      <td>1</td>\n",
       "      <td>0</td>\n",
       "      <td>1</td>\n",
       "      <td>0</td>\n",
       "      <td>0</td>\n",
       "      <td>0</td>\n",
       "      <td>0</td>\n",
       "      <td>0</td>\n",
       "      <td>...</td>\n",
       "      <td>1.445208</td>\n",
       "      <td>-0.938764</td>\n",
       "      <td>-1.065129</td>\n",
       "      <td>-0.516179</td>\n",
       "      <td>-0.091942</td>\n",
       "      <td>0.357193</td>\n",
       "      <td>0.756248</td>\n",
       "      <td>-0.441040</td>\n",
       "      <td>-0.785521</td>\n",
       "      <td>-1.500656</td>\n",
       "    </tr>\n",
       "    <tr>\n",
       "      <th>1</th>\n",
       "      <td>0</td>\n",
       "      <td>1</td>\n",
       "      <td>0</td>\n",
       "      <td>0</td>\n",
       "      <td>1</td>\n",
       "      <td>0</td>\n",
       "      <td>0</td>\n",
       "      <td>0</td>\n",
       "      <td>0</td>\n",
       "      <td>0</td>\n",
       "      <td>...</td>\n",
       "      <td>-1.122199</td>\n",
       "      <td>-0.938764</td>\n",
       "      <td>0.701247</td>\n",
       "      <td>2.044576</td>\n",
       "      <td>-1.272809</td>\n",
       "      <td>-0.078048</td>\n",
       "      <td>0.756248</td>\n",
       "      <td>1.844401</td>\n",
       "      <td>0.405799</td>\n",
       "      <td>-0.197411</td>\n",
       "    </tr>\n",
       "    <tr>\n",
       "      <th>2</th>\n",
       "      <td>0</td>\n",
       "      <td>1</td>\n",
       "      <td>0</td>\n",
       "      <td>0</td>\n",
       "      <td>1</td>\n",
       "      <td>0</td>\n",
       "      <td>0</td>\n",
       "      <td>0</td>\n",
       "      <td>0</td>\n",
       "      <td>0</td>\n",
       "      <td>...</td>\n",
       "      <td>1.445208</td>\n",
       "      <td>1.965283</td>\n",
       "      <td>1.584435</td>\n",
       "      <td>-0.182168</td>\n",
       "      <td>-0.485564</td>\n",
       "      <td>0.574813</td>\n",
       "      <td>0.756248</td>\n",
       "      <td>2.987122</td>\n",
       "      <td>-0.785521</td>\n",
       "      <td>1.105833</td>\n",
       "    </tr>\n",
       "    <tr>\n",
       "      <th>3</th>\n",
       "      <td>0</td>\n",
       "      <td>1</td>\n",
       "      <td>0</td>\n",
       "      <td>0</td>\n",
       "      <td>1</td>\n",
       "      <td>0</td>\n",
       "      <td>0</td>\n",
       "      <td>0</td>\n",
       "      <td>0</td>\n",
       "      <td>0</td>\n",
       "      <td>...</td>\n",
       "      <td>1.445208</td>\n",
       "      <td>1.965283</td>\n",
       "      <td>1.584435</td>\n",
       "      <td>0.040507</td>\n",
       "      <td>-0.485564</td>\n",
       "      <td>-0.513289</td>\n",
       "      <td>0.756248</td>\n",
       "      <td>0.701680</td>\n",
       "      <td>0.405799</td>\n",
       "      <td>-0.197411</td>\n",
       "    </tr>\n",
       "    <tr>\n",
       "      <th>4</th>\n",
       "      <td>0</td>\n",
       "      <td>1</td>\n",
       "      <td>1</td>\n",
       "      <td>0</td>\n",
       "      <td>0</td>\n",
       "      <td>0</td>\n",
       "      <td>0</td>\n",
       "      <td>0</td>\n",
       "      <td>0</td>\n",
       "      <td>0</td>\n",
       "      <td>...</td>\n",
       "      <td>1.445208</td>\n",
       "      <td>0.997267</td>\n",
       "      <td>1.584435</td>\n",
       "      <td>-0.293505</td>\n",
       "      <td>0.301681</td>\n",
       "      <td>1.227675</td>\n",
       "      <td>0.756248</td>\n",
       "      <td>0.701680</td>\n",
       "      <td>0.405799</td>\n",
       "      <td>1.105833</td>\n",
       "    </tr>\n",
       "    <tr>\n",
       "      <th>...</th>\n",
       "      <td>...</td>\n",
       "      <td>...</td>\n",
       "      <td>...</td>\n",
       "      <td>...</td>\n",
       "      <td>...</td>\n",
       "      <td>...</td>\n",
       "      <td>...</td>\n",
       "      <td>...</td>\n",
       "      <td>...</td>\n",
       "      <td>...</td>\n",
       "      <td>...</td>\n",
       "      <td>...</td>\n",
       "      <td>...</td>\n",
       "      <td>...</td>\n",
       "      <td>...</td>\n",
       "      <td>...</td>\n",
       "      <td>...</td>\n",
       "      <td>...</td>\n",
       "      <td>...</td>\n",
       "      <td>...</td>\n",
       "      <td>...</td>\n",
       "    </tr>\n",
       "    <tr>\n",
       "      <th>10320</th>\n",
       "      <td>0</td>\n",
       "      <td>1</td>\n",
       "      <td>0</td>\n",
       "      <td>1</td>\n",
       "      <td>1</td>\n",
       "      <td>0</td>\n",
       "      <td>0</td>\n",
       "      <td>0</td>\n",
       "      <td>0</td>\n",
       "      <td>0</td>\n",
       "      <td>...</td>\n",
       "      <td>0.589405</td>\n",
       "      <td>-0.938764</td>\n",
       "      <td>-1.065129</td>\n",
       "      <td>-0.293505</td>\n",
       "      <td>-0.485564</td>\n",
       "      <td>0.139572</td>\n",
       "      <td>0.756248</td>\n",
       "      <td>-0.441040</td>\n",
       "      <td>2.788438</td>\n",
       "      <td>-0.197411</td>\n",
       "    </tr>\n",
       "    <tr>\n",
       "      <th>10321</th>\n",
       "      <td>0</td>\n",
       "      <td>0</td>\n",
       "      <td>0</td>\n",
       "      <td>1</td>\n",
       "      <td>1</td>\n",
       "      <td>1</td>\n",
       "      <td>0</td>\n",
       "      <td>0</td>\n",
       "      <td>1</td>\n",
       "      <td>0</td>\n",
       "      <td>...</td>\n",
       "      <td>-1.122199</td>\n",
       "      <td>-0.938764</td>\n",
       "      <td>-1.065129</td>\n",
       "      <td>-0.404842</td>\n",
       "      <td>-0.091942</td>\n",
       "      <td>-1.819013</td>\n",
       "      <td>-0.542099</td>\n",
       "      <td>-0.441040</td>\n",
       "      <td>-0.785521</td>\n",
       "      <td>-1.500656</td>\n",
       "    </tr>\n",
       "    <tr>\n",
       "      <th>10322</th>\n",
       "      <td>0</td>\n",
       "      <td>1</td>\n",
       "      <td>0</td>\n",
       "      <td>0</td>\n",
       "      <td>1</td>\n",
       "      <td>0</td>\n",
       "      <td>0</td>\n",
       "      <td>0</td>\n",
       "      <td>0</td>\n",
       "      <td>0</td>\n",
       "      <td>...</td>\n",
       "      <td>-0.266397</td>\n",
       "      <td>-0.938764</td>\n",
       "      <td>-0.181941</td>\n",
       "      <td>-0.293505</td>\n",
       "      <td>0.301681</td>\n",
       "      <td>1.010054</td>\n",
       "      <td>-0.542099</td>\n",
       "      <td>0.701680</td>\n",
       "      <td>1.597118</td>\n",
       "      <td>-0.197411</td>\n",
       "    </tr>\n",
       "    <tr>\n",
       "      <th>10323</th>\n",
       "      <td>0</td>\n",
       "      <td>1</td>\n",
       "      <td>1</td>\n",
       "      <td>1</td>\n",
       "      <td>1</td>\n",
       "      <td>0</td>\n",
       "      <td>0</td>\n",
       "      <td>0</td>\n",
       "      <td>0</td>\n",
       "      <td>0</td>\n",
       "      <td>...</td>\n",
       "      <td>-1.122199</td>\n",
       "      <td>-0.938764</td>\n",
       "      <td>-1.065129</td>\n",
       "      <td>-0.516179</td>\n",
       "      <td>0.695303</td>\n",
       "      <td>-0.295669</td>\n",
       "      <td>-0.542099</td>\n",
       "      <td>-0.441040</td>\n",
       "      <td>-0.785521</td>\n",
       "      <td>-0.197411</td>\n",
       "    </tr>\n",
       "    <tr>\n",
       "      <th>10324</th>\n",
       "      <td>0</td>\n",
       "      <td>1</td>\n",
       "      <td>1</td>\n",
       "      <td>1</td>\n",
       "      <td>1</td>\n",
       "      <td>0</td>\n",
       "      <td>0</td>\n",
       "      <td>0</td>\n",
       "      <td>0</td>\n",
       "      <td>0</td>\n",
       "      <td>...</td>\n",
       "      <td>0.589405</td>\n",
       "      <td>0.997267</td>\n",
       "      <td>0.701247</td>\n",
       "      <td>0.708530</td>\n",
       "      <td>-0.485564</td>\n",
       "      <td>-0.295669</td>\n",
       "      <td>0.756248</td>\n",
       "      <td>0.701680</td>\n",
       "      <td>-0.785521</td>\n",
       "      <td>-0.197411</td>\n",
       "    </tr>\n",
       "  </tbody>\n",
       "</table>\n",
       "<p>10325 rows × 129 columns</p>\n",
       "</div>"
      ],
      "text/plain": [
       "       SEX_M  PUBLIC_VS_PRIVE_ET_EPBNL  11conjoint_domicile  ENFANT_BIN  \\\n",
       "0          1                         1                    1           0   \n",
       "1          0                         1                    0           0   \n",
       "2          0                         1                    0           0   \n",
       "3          0                         1                    0           0   \n",
       "4          0                         1                    1           0   \n",
       "...      ...                       ...                  ...         ...   \n",
       "10320      0                         1                    0           1   \n",
       "10321      0                         0                    0           1   \n",
       "10322      0                         1                    0           0   \n",
       "10323      0                         1                    1           1   \n",
       "10324      0                         1                    1           1   \n",
       "\n",
       "       13reconfort_entourage  14proche_aidant  service_COVID19  \\\n",
       "0                          1                0                0   \n",
       "1                          1                0                0   \n",
       "2                          1                0                0   \n",
       "3                          1                0                0   \n",
       "4                          0                0                0   \n",
       "...                      ...              ...              ...   \n",
       "10320                      1                0                0   \n",
       "10321                      1                1                0   \n",
       "10322                      1                0                0   \n",
       "10323                      1                0                0   \n",
       "10324                      1                0                0   \n",
       "\n",
       "       Anatomopathologie  Anesthésie  Biologie médicale  ...     CESD8  \\\n",
       "0                      0           0                  0  ...  1.445208   \n",
       "1                      0           0                  0  ... -1.122199   \n",
       "2                      0           0                  0  ...  1.445208   \n",
       "3                      0           0                  0  ...  1.445208   \n",
       "4                      0           0                  0  ...  1.445208   \n",
       "...                  ...         ...                ...  ...       ...   \n",
       "10320                  0           0                  0  ...  0.589405   \n",
       "10321                  0           1                  0  ... -1.122199   \n",
       "10322                  0           0                  0  ... -0.266397   \n",
       "10323                  0           0                  0  ... -1.122199   \n",
       "10324                  0           0                  0  ...  0.589405   \n",
       "\n",
       "         CESD12    CESD16  \\\n",
       "0     -0.938764 -1.065129   \n",
       "1     -0.938764  0.701247   \n",
       "2      1.965283  1.584435   \n",
       "3      1.965283  1.584435   \n",
       "4      0.997267  1.584435   \n",
       "...         ...       ...   \n",
       "10320 -0.938764 -1.065129   \n",
       "10321 -0.938764 -1.065129   \n",
       "10322 -0.938764 -0.181941   \n",
       "10323 -0.938764 -1.065129   \n",
       "10324  0.997267  0.701247   \n",
       "\n",
       "       120. Au cours des 30 derniers jours, au bout de combien de temps ( en minutes) vous êtes-vous généralement endormi(e) le soir?  \\\n",
       "0                                              -0.516179                                                                                \n",
       "1                                               2.044576                                                                                \n",
       "2                                              -0.182168                                                                                \n",
       "3                                               0.040507                                                                                \n",
       "4                                              -0.293505                                                                                \n",
       "...                                                  ...                                                                                \n",
       "10320                                          -0.293505                                                                                \n",
       "10321                                          -0.404842                                                                                \n",
       "10322                                          -0.293505                                                                                \n",
       "10323                                          -0.516179                                                                                \n",
       "10324                                           0.708530                                                                                \n",
       "\n",
       "       122.DUREE_SOMM_CONTINU  PSQI_TBSOMMEIL_CONTINU  PSQI_QUALITE_CONTINU  \\\n",
       "0                   -0.091942                0.357193              0.756248   \n",
       "1                   -1.272809               -0.078048              0.756248   \n",
       "2                   -0.485564                0.574813              0.756248   \n",
       "3                   -0.485564               -0.513289              0.756248   \n",
       "4                    0.301681                1.227675              0.756248   \n",
       "...                       ...                     ...                   ...   \n",
       "10320               -0.485564                0.139572              0.756248   \n",
       "10321               -0.091942               -1.819013             -0.542099   \n",
       "10322                0.301681                1.010054             -0.542099   \n",
       "10323                0.695303               -0.295669             -0.542099   \n",
       "10324               -0.485564               -0.295669              0.756248   \n",
       "\n",
       "       125. Au cours des 30 derniers jours, combien de fois avez-vous pris des médicaments pour mieux dormir (médicaments prescrits par votre médecin ou vendus sans ordonnance) ?  \\\n",
       "0                                              -0.441040                                                                                                                             \n",
       "1                                               1.844401                                                                                                                             \n",
       "2                                               2.987122                                                                                                                             \n",
       "3                                               0.701680                                                                                                                             \n",
       "4                                               0.701680                                                                                                                             \n",
       "...                                                  ...                                                                                                                             \n",
       "10320                                          -0.441040                                                                                                                             \n",
       "10321                                          -0.441040                                                                                                                             \n",
       "10322                                           0.701680                                                                                                                             \n",
       "10323                                          -0.441040                                                                                                                             \n",
       "10324                                           0.701680                                                                                                                             \n",
       "\n",
       "       126. Au cours des 30 derniers jours, combien de fois avez-vous eu des difficultés à rester éveillé(e) en conduisant, en mangeant, ou en participant à des activités avec d’autres personnes ?  \\\n",
       "0                                              -0.785521                                                                                                                                               \n",
       "1                                               0.405799                                                                                                                                               \n",
       "2                                              -0.785521                                                                                                                                               \n",
       "3                                               0.405799                                                                                                                                               \n",
       "4                                               0.405799                                                                                                                                               \n",
       "...                                                  ...                                                                                                                                               \n",
       "10320                                           2.788438                                                                                                                                               \n",
       "10321                                          -0.785521                                                                                                                                               \n",
       "10322                                           1.597118                                                                                                                                               \n",
       "10323                                          -0.785521                                                                                                                                               \n",
       "10324                                          -0.785521                                                                                                                                               \n",
       "\n",
       "       127. Au cours des 30 derniers jours, combien vous a-t-il été difficile d’être suffisamment motivé(e) pour mener à bien vos activités ?  \n",
       "0                                              -1.500656                                                                                       \n",
       "1                                              -0.197411                                                                                       \n",
       "2                                               1.105833                                                                                       \n",
       "3                                              -0.197411                                                                                       \n",
       "4                                               1.105833                                                                                       \n",
       "...                                                  ...                                                                                       \n",
       "10320                                          -0.197411                                                                                       \n",
       "10321                                          -1.500656                                                                                       \n",
       "10322                                          -0.197411                                                                                       \n",
       "10323                                          -0.197411                                                                                       \n",
       "10324                                          -0.197411                                                                                       \n",
       "\n",
       "[10325 rows x 129 columns]"
      ]
     },
     "execution_count": 44,
     "metadata": {},
     "output_type": "execute_result"
    }
   ],
   "source": [
    "df2"
   ]
  },
  {
   "cell_type": "code",
   "execution_count": 45,
   "id": "c826b7df",
   "metadata": {},
   "outputs": [
    {
     "name": "stdout",
     "output_type": "stream",
     "text": [
      "       2. Quel âge avez-vous ?           IMC    ANCIENNETE  18GARDES_NUIT  \\\n",
      "count             1.032500e+04  1.032500e+04  1.032500e+04   1.032500e+04   \n",
      "mean             -4.835841e-16 -5.950580e-17 -1.637001e-16   9.251679e-16   \n",
      "std               1.000048e+00  1.000048e+00  1.000048e+00   1.000048e+00   \n",
      "min              -2.147470e+00 -3.627698e+00 -1.373875e+00  -6.559551e-01   \n",
      "25%              -8.569756e-01 -6.548159e-01 -8.812349e-01  -6.559551e-01   \n",
      "50%              -2.737223e-02 -2.065375e-01 -1.915382e-01  -6.559551e-01   \n",
      "75%               8.022312e-01  4.417609e-01  5.966867e-01   1.542119e+00   \n",
      "max               2.553616e+00  2.475882e+01  3.059889e+00   1.542119e+00   \n",
      "\n",
      "       22DEPASSEMENT_HORAIRE_PREVU_FQC  23WKEND_W_MOIS_NB  \\\n",
      "count                     1.032500e+04       1.032500e+04   \n",
      "mean                      6.281981e-16      -8.221538e-16   \n",
      "std                       1.000048e+00       1.000048e+00   \n",
      "min                      -2.004674e+00      -9.605314e-01   \n",
      "25%                      -9.572178e-01      -9.605314e-01   \n",
      "50%                       6.139667e-01       6.750703e-02   \n",
      "75%                       6.139667e-01       1.095545e+00   \n",
      "max                       1.137695e+00       3.151622e+00   \n",
      "\n",
      "       24ARRET_NB_J_LASTYEAR  KARASEK_QUANTITE_RAPIDITE  \\\n",
      "count           1.032500e+04               1.032500e+04   \n",
      "mean           -1.429263e-15              -1.404204e-16   \n",
      "std             1.000048e+00               1.000048e+00   \n",
      "min            -3.066041e-01              -2.768331e+00   \n",
      "25%            -3.066041e-01              -8.162724e-01   \n",
      "50%            -3.066041e-01               1.597568e-01   \n",
      "75%            -1.351559e-01               6.477715e-01   \n",
      "max             1.220911e+01               1.623801e+00   \n",
      "\n",
      "       KARASEK_COMPLEXITE_INTENSITE  KARASEK_MORCELLEMENT_IMPREVISIBILITE  \\\n",
      "count                  1.032500e+04                          1.032500e+04   \n",
      "mean                   5.509717e-16                          1.478408e-15   \n",
      "std                    1.000048e+00                          1.000048e+00   \n",
      "min                   -3.585926e+00                         -2.811005e+00   \n",
      "25%                   -5.906437e-01                         -8.667967e-01   \n",
      "50%                    8.412901e-03                          1.053074e-01   \n",
      "75%                    6.074695e-01                          5.913594e-01   \n",
      "max                    1.805583e+00                          1.563463e+00   \n",
      "\n",
      "       ...         CESD8        CESD12        CESD16  \\\n",
      "count  ...  1.032500e+04  1.032500e+04  1.032500e+04   \n",
      "mean   ... -8.983613e-16 -5.124725e-15 -2.361297e-15   \n",
      "std    ...  1.000048e+00  1.000048e+00  1.000048e+00   \n",
      "min    ... -1.122199e+00 -9.387642e-01 -1.065129e+00   \n",
      "25%    ... -1.122199e+00 -9.387642e-01 -1.065129e+00   \n",
      "50%    ... -2.663969e-01  2.925142e-02 -1.819410e-01   \n",
      "75%    ...  5.894053e-01  9.972671e-01  7.012469e-01   \n",
      "max    ...  1.445208e+00  1.965283e+00  1.584435e+00   \n",
      "\n",
      "       120. Au cours des 30 derniers jours, au bout de combien de temps ( en minutes) vous êtes-vous généralement endormi(e) le soir?  \\\n",
      "count                                       1.032500e+04                                                                                \n",
      "mean                                        9.140926e-17                                                                                \n",
      "std                                         1.000048e+00                                                                                \n",
      "min                                        -6.275163e-01                                                                                \n",
      "25%                                        -4.048419e-01                                                                                \n",
      "50%                                        -2.935047e-01                                                                                \n",
      "75%                                         4.050685e-02                                                                                \n",
      "max                                         3.143760e+01                                                                                \n",
      "\n",
      "       122.DUREE_SOMM_CONTINU  PSQI_TBSOMMEIL_CONTINU  PSQI_QUALITE_CONTINU  \\\n",
      "count            1.032500e+04            1.032500e+04          1.032500e+04   \n",
      "mean             6.874781e-17           -2.513459e-16          7.158116e-17   \n",
      "std              1.000048e+00            1.000048e+00          1.000048e+00   \n",
      "min             -4.421788e+00           -1.819013e+00         -1.840447e+00   \n",
      "25%             -4.855642e-01           -7.309100e-01         -5.420995e-01   \n",
      "50%             -9.194184e-02           -7.804832e-02         -5.420995e-01   \n",
      "75%              6.953029e-01            5.748133e-01          7.562483e-01   \n",
      "max              7.386883e+00            4.056742e+00          2.054596e+00   \n",
      "\n",
      "       125. Au cours des 30 derniers jours, combien de fois avez-vous pris des médicaments pour mieux dormir (médicaments prescrits par votre médecin ou vendus sans ordonnance) ?  \\\n",
      "count                                       1.032500e+04                                                                                                                             \n",
      "mean                                       -2.689578e-15                                                                                                                             \n",
      "std                                         1.000048e+00                                                                                                                             \n",
      "min                                        -4.410405e-01                                                                                                                             \n",
      "25%                                        -4.410405e-01                                                                                                                             \n",
      "50%                                        -4.410405e-01                                                                                                                             \n",
      "75%                                        -4.410405e-01                                                                                                                             \n",
      "max                                         2.987122e+00                                                                                                                             \n",
      "\n",
      "       126. Au cours des 30 derniers jours, combien de fois avez-vous eu des difficultés à rester éveillé(e) en conduisant, en mangeant, ou en participant à des activités avec d’autres personnes ?  \\\n",
      "count                                       1.032500e+04                                                                                                                                               \n",
      "mean                                        1.788916e-15                                                                                                                                               \n",
      "std                                         1.000048e+00                                                                                                                                               \n",
      "min                                        -7.855211e-01                                                                                                                                               \n",
      "25%                                        -7.855211e-01                                                                                                                                               \n",
      "50%                                        -7.855211e-01                                                                                                                                               \n",
      "75%                                         4.057987e-01                                                                                                                                               \n",
      "max                                         2.788438e+00                                                                                                                                               \n",
      "\n",
      "       127. Au cours des 30 derniers jours, combien vous a-t-il été difficile d’être suffisamment motivé(e) pour mener à bien vos activités ?  \n",
      "count                                       1.032500e+04                                                                                       \n",
      "mean                                       -8.433448e-16                                                                                       \n",
      "std                                         1.000048e+00                                                                                       \n",
      "min                                        -1.500656e+00                                                                                       \n",
      "25%                                        -1.974115e-01                                                                                       \n",
      "50%                                        -1.974115e-01                                                                                       \n",
      "75%                                         1.105833e+00                                                                                       \n",
      "max                                         2.409077e+00                                                                                       \n",
      "\n",
      "[8 rows x 49 columns]\n"
     ]
    }
   ],
   "source": [
    "print(df2[non_binary_vars].describe())"
   ]
  },
  {
   "cell_type": "code",
   "execution_count": 46,
   "id": "e08c1f27",
   "metadata": {},
   "outputs": [
    {
     "data": {
      "text/plain": [
       "0        0\n",
       "1        0\n",
       "2        0\n",
       "3        0\n",
       "4        0\n",
       "        ..\n",
       "10320    0\n",
       "10321    0\n",
       "10322    1\n",
       "10323    0\n",
       "10324    0\n",
       "Name: BURNOUT_BIN, Length: 10325, dtype: int64"
      ]
     },
     "execution_count": 46,
     "metadata": {},
     "output_type": "execute_result"
    }
   ],
   "source": [
    "df2['BURNOUT_BIN']"
   ]
  },
  {
   "cell_type": "code",
   "execution_count": 47,
   "id": "a8c12575",
   "metadata": {},
   "outputs": [],
   "source": [
    "# 1) Créer une matrice des variables indépendantes et le vecteur de la variable dépendante.\n",
    "# X est la matrice et Y est le vecteur\n",
    "# PS: Astuce : Très souvent la dernière colonne est la colonne dépendante le y à prédire\n",
    "# La matrice des variables indépendantes est aussi appeelée matrice de featuresµ\n",
    "\n",
    "X = df2.drop('BURNOUT_BIN', axis=1)  # Supprimer la colonne \"target\" de la matrice X\n",
    "Y = df2['BURNOUT_BIN']              # Sélectionner uniquement la colonne \"target\" pour Y\n",
    "\n",
    "# Diviser les données en "
   ]
  },
  {
   "cell_type": "code",
   "execution_count": 48,
   "id": "385c2943",
   "metadata": {},
   "outputs": [
    {
     "data": {
      "text/html": [
       "<div>\n",
       "<style scoped>\n",
       "    .dataframe tbody tr th:only-of-type {\n",
       "        vertical-align: middle;\n",
       "    }\n",
       "\n",
       "    .dataframe tbody tr th {\n",
       "        vertical-align: top;\n",
       "    }\n",
       "\n",
       "    .dataframe thead th {\n",
       "        text-align: right;\n",
       "    }\n",
       "</style>\n",
       "<table border=\"1\" class=\"dataframe\">\n",
       "  <thead>\n",
       "    <tr style=\"text-align: right;\">\n",
       "      <th></th>\n",
       "      <th>SEX_M</th>\n",
       "      <th>PUBLIC_VS_PRIVE_ET_EPBNL</th>\n",
       "      <th>11conjoint_domicile</th>\n",
       "      <th>ENFANT_BIN</th>\n",
       "      <th>13reconfort_entourage</th>\n",
       "      <th>14proche_aidant</th>\n",
       "      <th>service_COVID19</th>\n",
       "      <th>Anatomopathologie</th>\n",
       "      <th>Anesthésie</th>\n",
       "      <th>Biologie médicale</th>\n",
       "      <th>...</th>\n",
       "      <th>CESD8</th>\n",
       "      <th>CESD12</th>\n",
       "      <th>CESD16</th>\n",
       "      <th>120. Au cours des 30 derniers jours, au bout de combien de temps ( en minutes) vous êtes-vous généralement endormi(e) le soir?</th>\n",
       "      <th>122.DUREE_SOMM_CONTINU</th>\n",
       "      <th>PSQI_TBSOMMEIL_CONTINU</th>\n",
       "      <th>PSQI_QUALITE_CONTINU</th>\n",
       "      <th>125. Au cours des 30 derniers jours, combien de fois avez-vous pris des médicaments pour mieux dormir (médicaments prescrits par votre médecin ou vendus sans ordonnance) ?</th>\n",
       "      <th>126. Au cours des 30 derniers jours, combien de fois avez-vous eu des difficultés à rester éveillé(e) en conduisant, en mangeant, ou en participant à des activités avec d’autres personnes ?</th>\n",
       "      <th>127. Au cours des 30 derniers jours, combien vous a-t-il été difficile d’être suffisamment motivé(e) pour mener à bien vos activités ?</th>\n",
       "    </tr>\n",
       "  </thead>\n",
       "  <tbody>\n",
       "    <tr>\n",
       "      <th>0</th>\n",
       "      <td>1</td>\n",
       "      <td>1</td>\n",
       "      <td>1</td>\n",
       "      <td>0</td>\n",
       "      <td>1</td>\n",
       "      <td>0</td>\n",
       "      <td>0</td>\n",
       "      <td>0</td>\n",
       "      <td>0</td>\n",
       "      <td>0</td>\n",
       "      <td>...</td>\n",
       "      <td>1.445208</td>\n",
       "      <td>-0.938764</td>\n",
       "      <td>-1.065129</td>\n",
       "      <td>-0.516179</td>\n",
       "      <td>-0.091942</td>\n",
       "      <td>0.357193</td>\n",
       "      <td>0.756248</td>\n",
       "      <td>-0.441040</td>\n",
       "      <td>-0.785521</td>\n",
       "      <td>-1.500656</td>\n",
       "    </tr>\n",
       "    <tr>\n",
       "      <th>1</th>\n",
       "      <td>0</td>\n",
       "      <td>1</td>\n",
       "      <td>0</td>\n",
       "      <td>0</td>\n",
       "      <td>1</td>\n",
       "      <td>0</td>\n",
       "      <td>0</td>\n",
       "      <td>0</td>\n",
       "      <td>0</td>\n",
       "      <td>0</td>\n",
       "      <td>...</td>\n",
       "      <td>-1.122199</td>\n",
       "      <td>-0.938764</td>\n",
       "      <td>0.701247</td>\n",
       "      <td>2.044576</td>\n",
       "      <td>-1.272809</td>\n",
       "      <td>-0.078048</td>\n",
       "      <td>0.756248</td>\n",
       "      <td>1.844401</td>\n",
       "      <td>0.405799</td>\n",
       "      <td>-0.197411</td>\n",
       "    </tr>\n",
       "    <tr>\n",
       "      <th>2</th>\n",
       "      <td>0</td>\n",
       "      <td>1</td>\n",
       "      <td>0</td>\n",
       "      <td>0</td>\n",
       "      <td>1</td>\n",
       "      <td>0</td>\n",
       "      <td>0</td>\n",
       "      <td>0</td>\n",
       "      <td>0</td>\n",
       "      <td>0</td>\n",
       "      <td>...</td>\n",
       "      <td>1.445208</td>\n",
       "      <td>1.965283</td>\n",
       "      <td>1.584435</td>\n",
       "      <td>-0.182168</td>\n",
       "      <td>-0.485564</td>\n",
       "      <td>0.574813</td>\n",
       "      <td>0.756248</td>\n",
       "      <td>2.987122</td>\n",
       "      <td>-0.785521</td>\n",
       "      <td>1.105833</td>\n",
       "    </tr>\n",
       "    <tr>\n",
       "      <th>3</th>\n",
       "      <td>0</td>\n",
       "      <td>1</td>\n",
       "      <td>0</td>\n",
       "      <td>0</td>\n",
       "      <td>1</td>\n",
       "      <td>0</td>\n",
       "      <td>0</td>\n",
       "      <td>0</td>\n",
       "      <td>0</td>\n",
       "      <td>0</td>\n",
       "      <td>...</td>\n",
       "      <td>1.445208</td>\n",
       "      <td>1.965283</td>\n",
       "      <td>1.584435</td>\n",
       "      <td>0.040507</td>\n",
       "      <td>-0.485564</td>\n",
       "      <td>-0.513289</td>\n",
       "      <td>0.756248</td>\n",
       "      <td>0.701680</td>\n",
       "      <td>0.405799</td>\n",
       "      <td>-0.197411</td>\n",
       "    </tr>\n",
       "    <tr>\n",
       "      <th>4</th>\n",
       "      <td>0</td>\n",
       "      <td>1</td>\n",
       "      <td>1</td>\n",
       "      <td>0</td>\n",
       "      <td>0</td>\n",
       "      <td>0</td>\n",
       "      <td>0</td>\n",
       "      <td>0</td>\n",
       "      <td>0</td>\n",
       "      <td>0</td>\n",
       "      <td>...</td>\n",
       "      <td>1.445208</td>\n",
       "      <td>0.997267</td>\n",
       "      <td>1.584435</td>\n",
       "      <td>-0.293505</td>\n",
       "      <td>0.301681</td>\n",
       "      <td>1.227675</td>\n",
       "      <td>0.756248</td>\n",
       "      <td>0.701680</td>\n",
       "      <td>0.405799</td>\n",
       "      <td>1.105833</td>\n",
       "    </tr>\n",
       "    <tr>\n",
       "      <th>...</th>\n",
       "      <td>...</td>\n",
       "      <td>...</td>\n",
       "      <td>...</td>\n",
       "      <td>...</td>\n",
       "      <td>...</td>\n",
       "      <td>...</td>\n",
       "      <td>...</td>\n",
       "      <td>...</td>\n",
       "      <td>...</td>\n",
       "      <td>...</td>\n",
       "      <td>...</td>\n",
       "      <td>...</td>\n",
       "      <td>...</td>\n",
       "      <td>...</td>\n",
       "      <td>...</td>\n",
       "      <td>...</td>\n",
       "      <td>...</td>\n",
       "      <td>...</td>\n",
       "      <td>...</td>\n",
       "      <td>...</td>\n",
       "      <td>...</td>\n",
       "    </tr>\n",
       "    <tr>\n",
       "      <th>10320</th>\n",
       "      <td>0</td>\n",
       "      <td>1</td>\n",
       "      <td>0</td>\n",
       "      <td>1</td>\n",
       "      <td>1</td>\n",
       "      <td>0</td>\n",
       "      <td>0</td>\n",
       "      <td>0</td>\n",
       "      <td>0</td>\n",
       "      <td>0</td>\n",
       "      <td>...</td>\n",
       "      <td>0.589405</td>\n",
       "      <td>-0.938764</td>\n",
       "      <td>-1.065129</td>\n",
       "      <td>-0.293505</td>\n",
       "      <td>-0.485564</td>\n",
       "      <td>0.139572</td>\n",
       "      <td>0.756248</td>\n",
       "      <td>-0.441040</td>\n",
       "      <td>2.788438</td>\n",
       "      <td>-0.197411</td>\n",
       "    </tr>\n",
       "    <tr>\n",
       "      <th>10321</th>\n",
       "      <td>0</td>\n",
       "      <td>0</td>\n",
       "      <td>0</td>\n",
       "      <td>1</td>\n",
       "      <td>1</td>\n",
       "      <td>1</td>\n",
       "      <td>0</td>\n",
       "      <td>0</td>\n",
       "      <td>1</td>\n",
       "      <td>0</td>\n",
       "      <td>...</td>\n",
       "      <td>-1.122199</td>\n",
       "      <td>-0.938764</td>\n",
       "      <td>-1.065129</td>\n",
       "      <td>-0.404842</td>\n",
       "      <td>-0.091942</td>\n",
       "      <td>-1.819013</td>\n",
       "      <td>-0.542099</td>\n",
       "      <td>-0.441040</td>\n",
       "      <td>-0.785521</td>\n",
       "      <td>-1.500656</td>\n",
       "    </tr>\n",
       "    <tr>\n",
       "      <th>10322</th>\n",
       "      <td>0</td>\n",
       "      <td>1</td>\n",
       "      <td>0</td>\n",
       "      <td>0</td>\n",
       "      <td>1</td>\n",
       "      <td>0</td>\n",
       "      <td>0</td>\n",
       "      <td>0</td>\n",
       "      <td>0</td>\n",
       "      <td>0</td>\n",
       "      <td>...</td>\n",
       "      <td>-0.266397</td>\n",
       "      <td>-0.938764</td>\n",
       "      <td>-0.181941</td>\n",
       "      <td>-0.293505</td>\n",
       "      <td>0.301681</td>\n",
       "      <td>1.010054</td>\n",
       "      <td>-0.542099</td>\n",
       "      <td>0.701680</td>\n",
       "      <td>1.597118</td>\n",
       "      <td>-0.197411</td>\n",
       "    </tr>\n",
       "    <tr>\n",
       "      <th>10323</th>\n",
       "      <td>0</td>\n",
       "      <td>1</td>\n",
       "      <td>1</td>\n",
       "      <td>1</td>\n",
       "      <td>1</td>\n",
       "      <td>0</td>\n",
       "      <td>0</td>\n",
       "      <td>0</td>\n",
       "      <td>0</td>\n",
       "      <td>0</td>\n",
       "      <td>...</td>\n",
       "      <td>-1.122199</td>\n",
       "      <td>-0.938764</td>\n",
       "      <td>-1.065129</td>\n",
       "      <td>-0.516179</td>\n",
       "      <td>0.695303</td>\n",
       "      <td>-0.295669</td>\n",
       "      <td>-0.542099</td>\n",
       "      <td>-0.441040</td>\n",
       "      <td>-0.785521</td>\n",
       "      <td>-0.197411</td>\n",
       "    </tr>\n",
       "    <tr>\n",
       "      <th>10324</th>\n",
       "      <td>0</td>\n",
       "      <td>1</td>\n",
       "      <td>1</td>\n",
       "      <td>1</td>\n",
       "      <td>1</td>\n",
       "      <td>0</td>\n",
       "      <td>0</td>\n",
       "      <td>0</td>\n",
       "      <td>0</td>\n",
       "      <td>0</td>\n",
       "      <td>...</td>\n",
       "      <td>0.589405</td>\n",
       "      <td>0.997267</td>\n",
       "      <td>0.701247</td>\n",
       "      <td>0.708530</td>\n",
       "      <td>-0.485564</td>\n",
       "      <td>-0.295669</td>\n",
       "      <td>0.756248</td>\n",
       "      <td>0.701680</td>\n",
       "      <td>-0.785521</td>\n",
       "      <td>-0.197411</td>\n",
       "    </tr>\n",
       "  </tbody>\n",
       "</table>\n",
       "<p>10325 rows × 128 columns</p>\n",
       "</div>"
      ],
      "text/plain": [
       "       SEX_M  PUBLIC_VS_PRIVE_ET_EPBNL  11conjoint_domicile  ENFANT_BIN  \\\n",
       "0          1                         1                    1           0   \n",
       "1          0                         1                    0           0   \n",
       "2          0                         1                    0           0   \n",
       "3          0                         1                    0           0   \n",
       "4          0                         1                    1           0   \n",
       "...      ...                       ...                  ...         ...   \n",
       "10320      0                         1                    0           1   \n",
       "10321      0                         0                    0           1   \n",
       "10322      0                         1                    0           0   \n",
       "10323      0                         1                    1           1   \n",
       "10324      0                         1                    1           1   \n",
       "\n",
       "       13reconfort_entourage  14proche_aidant  service_COVID19  \\\n",
       "0                          1                0                0   \n",
       "1                          1                0                0   \n",
       "2                          1                0                0   \n",
       "3                          1                0                0   \n",
       "4                          0                0                0   \n",
       "...                      ...              ...              ...   \n",
       "10320                      1                0                0   \n",
       "10321                      1                1                0   \n",
       "10322                      1                0                0   \n",
       "10323                      1                0                0   \n",
       "10324                      1                0                0   \n",
       "\n",
       "       Anatomopathologie  Anesthésie  Biologie médicale  ...     CESD8  \\\n",
       "0                      0           0                  0  ...  1.445208   \n",
       "1                      0           0                  0  ... -1.122199   \n",
       "2                      0           0                  0  ...  1.445208   \n",
       "3                      0           0                  0  ...  1.445208   \n",
       "4                      0           0                  0  ...  1.445208   \n",
       "...                  ...         ...                ...  ...       ...   \n",
       "10320                  0           0                  0  ...  0.589405   \n",
       "10321                  0           1                  0  ... -1.122199   \n",
       "10322                  0           0                  0  ... -0.266397   \n",
       "10323                  0           0                  0  ... -1.122199   \n",
       "10324                  0           0                  0  ...  0.589405   \n",
       "\n",
       "         CESD12    CESD16  \\\n",
       "0     -0.938764 -1.065129   \n",
       "1     -0.938764  0.701247   \n",
       "2      1.965283  1.584435   \n",
       "3      1.965283  1.584435   \n",
       "4      0.997267  1.584435   \n",
       "...         ...       ...   \n",
       "10320 -0.938764 -1.065129   \n",
       "10321 -0.938764 -1.065129   \n",
       "10322 -0.938764 -0.181941   \n",
       "10323 -0.938764 -1.065129   \n",
       "10324  0.997267  0.701247   \n",
       "\n",
       "       120. Au cours des 30 derniers jours, au bout de combien de temps ( en minutes) vous êtes-vous généralement endormi(e) le soir?  \\\n",
       "0                                              -0.516179                                                                                \n",
       "1                                               2.044576                                                                                \n",
       "2                                              -0.182168                                                                                \n",
       "3                                               0.040507                                                                                \n",
       "4                                              -0.293505                                                                                \n",
       "...                                                  ...                                                                                \n",
       "10320                                          -0.293505                                                                                \n",
       "10321                                          -0.404842                                                                                \n",
       "10322                                          -0.293505                                                                                \n",
       "10323                                          -0.516179                                                                                \n",
       "10324                                           0.708530                                                                                \n",
       "\n",
       "       122.DUREE_SOMM_CONTINU  PSQI_TBSOMMEIL_CONTINU  PSQI_QUALITE_CONTINU  \\\n",
       "0                   -0.091942                0.357193              0.756248   \n",
       "1                   -1.272809               -0.078048              0.756248   \n",
       "2                   -0.485564                0.574813              0.756248   \n",
       "3                   -0.485564               -0.513289              0.756248   \n",
       "4                    0.301681                1.227675              0.756248   \n",
       "...                       ...                     ...                   ...   \n",
       "10320               -0.485564                0.139572              0.756248   \n",
       "10321               -0.091942               -1.819013             -0.542099   \n",
       "10322                0.301681                1.010054             -0.542099   \n",
       "10323                0.695303               -0.295669             -0.542099   \n",
       "10324               -0.485564               -0.295669              0.756248   \n",
       "\n",
       "       125. Au cours des 30 derniers jours, combien de fois avez-vous pris des médicaments pour mieux dormir (médicaments prescrits par votre médecin ou vendus sans ordonnance) ?  \\\n",
       "0                                              -0.441040                                                                                                                             \n",
       "1                                               1.844401                                                                                                                             \n",
       "2                                               2.987122                                                                                                                             \n",
       "3                                               0.701680                                                                                                                             \n",
       "4                                               0.701680                                                                                                                             \n",
       "...                                                  ...                                                                                                                             \n",
       "10320                                          -0.441040                                                                                                                             \n",
       "10321                                          -0.441040                                                                                                                             \n",
       "10322                                           0.701680                                                                                                                             \n",
       "10323                                          -0.441040                                                                                                                             \n",
       "10324                                           0.701680                                                                                                                             \n",
       "\n",
       "       126. Au cours des 30 derniers jours, combien de fois avez-vous eu des difficultés à rester éveillé(e) en conduisant, en mangeant, ou en participant à des activités avec d’autres personnes ?  \\\n",
       "0                                              -0.785521                                                                                                                                               \n",
       "1                                               0.405799                                                                                                                                               \n",
       "2                                              -0.785521                                                                                                                                               \n",
       "3                                               0.405799                                                                                                                                               \n",
       "4                                               0.405799                                                                                                                                               \n",
       "...                                                  ...                                                                                                                                               \n",
       "10320                                           2.788438                                                                                                                                               \n",
       "10321                                          -0.785521                                                                                                                                               \n",
       "10322                                           1.597118                                                                                                                                               \n",
       "10323                                          -0.785521                                                                                                                                               \n",
       "10324                                          -0.785521                                                                                                                                               \n",
       "\n",
       "       127. Au cours des 30 derniers jours, combien vous a-t-il été difficile d’être suffisamment motivé(e) pour mener à bien vos activités ?  \n",
       "0                                              -1.500656                                                                                       \n",
       "1                                              -0.197411                                                                                       \n",
       "2                                               1.105833                                                                                       \n",
       "3                                              -0.197411                                                                                       \n",
       "4                                               1.105833                                                                                       \n",
       "...                                                  ...                                                                                       \n",
       "10320                                          -0.197411                                                                                       \n",
       "10321                                          -1.500656                                                                                       \n",
       "10322                                          -0.197411                                                                                       \n",
       "10323                                          -0.197411                                                                                       \n",
       "10324                                          -0.197411                                                                                       \n",
       "\n",
       "[10325 rows x 128 columns]"
      ]
     },
     "execution_count": 48,
     "metadata": {},
     "output_type": "execute_result"
    }
   ],
   "source": [
    "X"
   ]
  },
  {
   "cell_type": "code",
   "execution_count": 49,
   "id": "34f1b382",
   "metadata": {
    "scrolled": true
   },
   "outputs": [
    {
     "data": {
      "text/plain": [
       "0        0\n",
       "1        0\n",
       "2        0\n",
       "3        0\n",
       "4        0\n",
       "        ..\n",
       "10320    0\n",
       "10321    0\n",
       "10322    1\n",
       "10323    0\n",
       "10324    0\n",
       "Name: BURNOUT_BIN, Length: 10325, dtype: int64"
      ]
     },
     "execution_count": 49,
     "metadata": {},
     "output_type": "execute_result"
    }
   ],
   "source": [
    "Y"
   ]
  },
  {
   "cell_type": "markdown",
   "id": "46058322",
   "metadata": {},
   "source": [
    "### e) Séparation du dataset en training_set et en test_set"
   ]
  },
  {
   "cell_type": "code",
   "execution_count": 50,
   "id": "c5048b12",
   "metadata": {},
   "outputs": [],
   "source": [
    "from sklearn.model_selection import train_test_split\n",
    "\n",
    "X_train, X_test, Y_train, Y_test = train_test_split(X, Y, test_size = 1/3, random_state= 0)"
   ]
  },
  {
   "cell_type": "code",
   "execution_count": 51,
   "id": "8522c702",
   "metadata": {},
   "outputs": [],
   "source": [
    "#Vérifionsla proportion des 1 et des 0 dans mon Y"
   ]
  },
  {
   "cell_type": "code",
   "execution_count": 52,
   "id": "90acf975",
   "metadata": {},
   "outputs": [
    {
     "data": {
      "text/plain": [
       "(array([0, 1], dtype=int64), array([4613, 5712], dtype=int64))"
      ]
     },
     "execution_count": 52,
     "metadata": {},
     "output_type": "execute_result"
    }
   ],
   "source": [
    "np.unique(Y,return_counts=True)"
   ]
  },
  {
   "cell_type": "code",
   "execution_count": 53,
   "id": "77094ddc",
   "metadata": {
    "scrolled": true
   },
   "outputs": [
    {
     "name": "stdout",
     "output_type": "stream",
     "text": [
      "       SEX_M  PUBLIC_VS_PRIVE_ET_EPBNL  11conjoint_domicile  ENFANT_BIN  \\\n",
      "6885       0                         0                    1           0   \n",
      "4497       1                         1                    0           1   \n",
      "2345       0                         1                    1           0   \n",
      "3820       0                         1                    0           1   \n",
      "10015      0                         1                    1           0   \n",
      "...      ...                       ...                  ...         ...   \n",
      "9225       0                         1                    1           1   \n",
      "4859       0                         1                    1           1   \n",
      "3264       0                         1                    1           1   \n",
      "9845       0                         1                    1           1   \n",
      "2732       1                         1                    0           0   \n",
      "\n",
      "       13reconfort_entourage  14proche_aidant  service_COVID19  \\\n",
      "6885                       0                1                0   \n",
      "4497                       1                0                0   \n",
      "2345                       1                0                0   \n",
      "3820                       1                0                0   \n",
      "10015                      1                0                0   \n",
      "...                      ...              ...              ...   \n",
      "9225                       1                0                0   \n",
      "4859                       1                0                0   \n",
      "3264                       1                1                0   \n",
      "9845                       1                1                0   \n",
      "2732                       0                0                0   \n",
      "\n",
      "       Anatomopathologie  Anesthésie  Biologie médicale  ...     CESD8  \\\n",
      "6885                   0           0                  0  ... -1.122199   \n",
      "4497                   0           0                  1  ...  1.445208   \n",
      "2345                   0           0                  0  ... -1.122199   \n",
      "3820                   0           0                  0  ... -0.266397   \n",
      "10015                  0           0                  0  ... -1.122199   \n",
      "...                  ...         ...                ...  ...       ...   \n",
      "9225                   0           0                  0  ...  0.589405   \n",
      "4859                   0           0                  0  ... -1.122199   \n",
      "3264                   0           1                  0  ... -1.122199   \n",
      "9845                   0           0                  0  ...  1.445208   \n",
      "2732                   0           0                  0  ...  0.589405   \n",
      "\n",
      "         CESD12    CESD16  \\\n",
      "6885   0.029251 -0.181941   \n",
      "4497   0.997267  1.584435   \n",
      "2345  -0.938764 -1.065129   \n",
      "3820   0.997267 -0.181941   \n",
      "10015 -0.938764 -1.065129   \n",
      "...         ...       ...   \n",
      "9225  -0.938764 -0.181941   \n",
      "4859  -0.938764 -1.065129   \n",
      "3264   0.029251  0.701247   \n",
      "9845   0.997267  0.701247   \n",
      "2732   1.965283  1.584435   \n",
      "\n",
      "       120. Au cours des 30 derniers jours, au bout de combien de temps ( en minutes) vous êtes-vous généralement endormi(e) le soir?  \\\n",
      "6885                                           -0.182168                                                                                \n",
      "4497                                            0.040507                                                                                \n",
      "2345                                           -0.404842                                                                                \n",
      "3820                                           -0.404842                                                                                \n",
      "10015                                           0.374518                                                                                \n",
      "...                                                  ...                                                                                \n",
      "9225                                           -0.404842                                                                                \n",
      "4859                                           -0.404842                                                                                \n",
      "3264                                           -0.293505                                                                                \n",
      "9845                                            4.048646                                                                                \n",
      "2732                                           -0.404842                                                                                \n",
      "\n",
      "       122.DUREE_SOMM_CONTINU  PSQI_TBSOMMEIL_CONTINU  PSQI_QUALITE_CONTINU  \\\n",
      "6885                -0.485564                2.533398              0.756248   \n",
      "4497                -1.272809               -0.730910              0.756248   \n",
      "2345                 1.876170               -1.819013             -1.840447   \n",
      "3820                -0.091942               -1.383772             -1.840447   \n",
      "10015               -0.485564               -0.513289              0.756248   \n",
      "...                       ...                     ...                   ...   \n",
      "9225                 1.088925                0.139572             -0.542099   \n",
      "4859                 0.695303               -1.383772             -0.542099   \n",
      "3264                 1.088925               -0.730910             -0.542099   \n",
      "9845                -0.091942                1.010054              0.756248   \n",
      "2732                -1.272809               -0.295669              2.054596   \n",
      "\n",
      "       125. Au cours des 30 derniers jours, combien de fois avez-vous pris des médicaments pour mieux dormir (médicaments prescrits par votre médecin ou vendus sans ordonnance) ?  \\\n",
      "6885                                           -0.441040                                                                                                                             \n",
      "4497                                           -0.441040                                                                                                                             \n",
      "2345                                            0.701680                                                                                                                             \n",
      "3820                                           -0.441040                                                                                                                             \n",
      "10015                                          -0.441040                                                                                                                             \n",
      "...                                                  ...                                                                                                                             \n",
      "9225                                           -0.441040                                                                                                                             \n",
      "4859                                           -0.441040                                                                                                                             \n",
      "3264                                           -0.441040                                                                                                                             \n",
      "9845                                           -0.441040                                                                                                                             \n",
      "2732                                            1.844401                                                                                                                             \n",
      "\n",
      "       126. Au cours des 30 derniers jours, combien de fois avez-vous eu des difficultés à rester éveillé(e) en conduisant, en mangeant, ou en participant à des activités avec d’autres personnes ?  \\\n",
      "6885                                            0.405799                                                                                                                                               \n",
      "4497                                            0.405799                                                                                                                                               \n",
      "2345                                            0.405799                                                                                                                                               \n",
      "3820                                           -0.785521                                                                                                                                               \n",
      "10015                                          -0.785521                                                                                                                                               \n",
      "...                                                  ...                                                                                                                                               \n",
      "9225                                           -0.785521                                                                                                                                               \n",
      "4859                                            0.405799                                                                                                                                               \n",
      "3264                                           -0.785521                                                                                                                                               \n",
      "9845                                            0.405799                                                                                                                                               \n",
      "2732                                           -0.785521                                                                                                                                               \n",
      "\n",
      "       127. Au cours des 30 derniers jours, combien vous a-t-il été difficile d’être suffisamment motivé(e) pour mener à bien vos activités ?  \n",
      "6885                                           -0.197411                                                                                       \n",
      "4497                                           -0.197411                                                                                       \n",
      "2345                                           -1.500656                                                                                       \n",
      "3820                                           -0.197411                                                                                       \n",
      "10015                                          -1.500656                                                                                       \n",
      "...                                                  ...                                                                                       \n",
      "9225                                           -1.500656                                                                                       \n",
      "4859                                           -0.197411                                                                                       \n",
      "3264                                           -1.500656                                                                                       \n",
      "9845                                            1.105833                                                                                       \n",
      "2732                                            2.409077                                                                                       \n",
      "\n",
      "[6883 rows x 128 columns]\n",
      "      SEX_M  PUBLIC_VS_PRIVE_ET_EPBNL  11conjoint_domicile  ENFANT_BIN  \\\n",
      "3209      0                         1                    0           0   \n",
      "3840      0                         1                    0           1   \n",
      "6683      1                         1                    1           0   \n",
      "2030      0                         1                    0           1   \n",
      "9279      1                         1                    1           0   \n",
      "...     ...                       ...                  ...         ...   \n",
      "8161      0                         1                    1           1   \n",
      "9205      0                         1                    0           1   \n",
      "8932      0                         1                    0           1   \n",
      "3761      1                         1                    1           1   \n",
      "6002      0                         1                    1           1   \n",
      "\n",
      "      13reconfort_entourage  14proche_aidant  service_COVID19  \\\n",
      "3209                      1                1                0   \n",
      "3840                      1                0                0   \n",
      "6683                      1                0                0   \n",
      "2030                      1                0                0   \n",
      "9279                      1                0                0   \n",
      "...                     ...              ...              ...   \n",
      "8161                      1                0                0   \n",
      "9205                      1                0                0   \n",
      "8932                      0                0                0   \n",
      "3761                      1                0                0   \n",
      "6002                      1                0                0   \n",
      "\n",
      "      Anatomopathologie  Anesthésie  Biologie médicale  ...     CESD8  \\\n",
      "3209                  0           0                  0  ... -1.122199   \n",
      "3840                  0           0                  0  ... -0.266397   \n",
      "6683                  0           0                  0  ... -0.266397   \n",
      "2030                  0           0                  0  ... -1.122199   \n",
      "9279                  0           0                  0  ... -0.266397   \n",
      "...                 ...         ...                ...  ...       ...   \n",
      "8161                  0           0                  0  ...  1.445208   \n",
      "9205                  0           0                  0  ... -0.266397   \n",
      "8932                  0           0                  0  ...  1.445208   \n",
      "3761                  0           0                  0  ...  0.589405   \n",
      "6002                  0           0                  0  ... -1.122199   \n",
      "\n",
      "        CESD12    CESD16  \\\n",
      "3209 -0.938764 -0.181941   \n",
      "3840  0.997267 -1.065129   \n",
      "6683 -0.938764 -1.065129   \n",
      "2030 -0.938764 -1.065129   \n",
      "9279 -0.938764 -1.065129   \n",
      "...        ...       ...   \n",
      "8161  0.997267 -0.181941   \n",
      "9205  0.029251 -0.181941   \n",
      "8932  1.965283  1.584435   \n",
      "3761  0.029251  0.701247   \n",
      "6002  0.029251 -0.181941   \n",
      "\n",
      "      120. Au cours des 30 derniers jours, au bout de combien de temps ( en minutes) vous êtes-vous généralement endormi(e) le soir?  \\\n",
      "3209                                          -0.404842                                                                                \n",
      "3840                                           0.708530                                                                                \n",
      "6683                                          -0.516179                                                                                \n",
      "2030                                          -0.182168                                                                                \n",
      "9279                                          -0.516179                                                                                \n",
      "...                                                 ...                                                                                \n",
      "8161                                          -0.516179                                                                                \n",
      "9205                                           0.040507                                                                                \n",
      "8932                                           0.040507                                                                                \n",
      "3761                                          -0.293505                                                                                \n",
      "6002                                           0.040507                                                                                \n",
      "\n",
      "      122.DUREE_SOMM_CONTINU  PSQI_TBSOMMEIL_CONTINU  PSQI_QUALITE_CONTINU  \\\n",
      "3209                0.695303               -0.295669             -1.840447   \n",
      "3840                1.088925               -0.295669             -1.840447   \n",
      "6683                0.695303               -1.383772             -1.840447   \n",
      "2030                1.876170               -0.295669             -0.542099   \n",
      "9279                0.695303               -1.601392             -1.840447   \n",
      "...                      ...                     ...                   ...   \n",
      "8161                1.088925               -0.078048             -0.542099   \n",
      "9205               -0.485564               -0.948531              0.756248   \n",
      "8932                0.301681                0.574813              0.756248   \n",
      "3761               -0.485564                0.792434             -0.542099   \n",
      "6002               -0.879187               -1.166151             -0.542099   \n",
      "\n",
      "      125. Au cours des 30 derniers jours, combien de fois avez-vous pris des médicaments pour mieux dormir (médicaments prescrits par votre médecin ou vendus sans ordonnance) ?  \\\n",
      "3209                                          -0.441040                                                                                                                             \n",
      "3840                                           2.987122                                                                                                                             \n",
      "6683                                          -0.441040                                                                                                                             \n",
      "2030                                          -0.441040                                                                                                                             \n",
      "9279                                          -0.441040                                                                                                                             \n",
      "...                                                 ...                                                                                                                             \n",
      "8161                                          -0.441040                                                                                                                             \n",
      "9205                                          -0.441040                                                                                                                             \n",
      "8932                                           0.701680                                                                                                                             \n",
      "3761                                          -0.441040                                                                                                                             \n",
      "6002                                          -0.441040                                                                                                                             \n",
      "\n",
      "      126. Au cours des 30 derniers jours, combien de fois avez-vous eu des difficultés à rester éveillé(e) en conduisant, en mangeant, ou en participant à des activités avec d’autres personnes ?  \\\n",
      "3209                                          -0.785521                                                                                                                                               \n",
      "3840                                          -0.785521                                                                                                                                               \n",
      "6683                                           0.405799                                                                                                                                               \n",
      "2030                                          -0.785521                                                                                                                                               \n",
      "9279                                           1.597118                                                                                                                                               \n",
      "...                                                 ...                                                                                                                                               \n",
      "8161                                          -0.785521                                                                                                                                               \n",
      "9205                                           1.597118                                                                                                                                               \n",
      "8932                                           1.597118                                                                                                                                               \n",
      "3761                                           0.405799                                                                                                                                               \n",
      "6002                                           0.405799                                                                                                                                               \n",
      "\n",
      "      127. Au cours des 30 derniers jours, combien vous a-t-il été difficile d’être suffisamment motivé(e) pour mener à bien vos activités ?  \n",
      "3209                                          -1.500656                                                                                       \n",
      "3840                                          -0.197411                                                                                       \n",
      "6683                                          -0.197411                                                                                       \n",
      "2030                                          -1.500656                                                                                       \n",
      "9279                                          -0.197411                                                                                       \n",
      "...                                                 ...                                                                                       \n",
      "8161                                           1.105833                                                                                       \n",
      "9205                                           1.105833                                                                                       \n",
      "8932                                           2.409077                                                                                       \n",
      "3761                                          -0.197411                                                                                       \n",
      "6002                                          -0.197411                                                                                       \n",
      "\n",
      "[3442 rows x 128 columns]\n",
      "6885     0\n",
      "4497     1\n",
      "2345     1\n",
      "3820     0\n",
      "10015    0\n",
      "        ..\n",
      "9225     0\n",
      "4859     0\n",
      "3264     0\n",
      "9845     1\n",
      "2732     1\n",
      "Name: BURNOUT_BIN, Length: 6883, dtype: int64\n",
      "3209    0\n",
      "3840    0\n",
      "6683    0\n",
      "2030    0\n",
      "9279    1\n",
      "       ..\n",
      "8161    1\n",
      "9205    0\n",
      "8932    1\n",
      "3761    1\n",
      "6002    0\n",
      "Name: BURNOUT_BIN, Length: 3442, dtype: int64\n"
     ]
    }
   ],
   "source": [
    "print(X_train)\n",
    "print(X_test)\n",
    "print(Y_train)\n",
    "print(Y_test)"
   ]
  },
  {
   "cell_type": "code",
   "execution_count": 54,
   "id": "c53afcee",
   "metadata": {
    "scrolled": false
   },
   "outputs": [
    {
     "data": {
      "text/html": [
       "<div>\n",
       "<style scoped>\n",
       "    .dataframe tbody tr th:only-of-type {\n",
       "        vertical-align: middle;\n",
       "    }\n",
       "\n",
       "    .dataframe tbody tr th {\n",
       "        vertical-align: top;\n",
       "    }\n",
       "\n",
       "    .dataframe thead th {\n",
       "        text-align: right;\n",
       "    }\n",
       "</style>\n",
       "<table border=\"1\" class=\"dataframe\">\n",
       "  <thead>\n",
       "    <tr style=\"text-align: right;\">\n",
       "      <th></th>\n",
       "      <th>SEX_M</th>\n",
       "      <th>PUBLIC_VS_PRIVE_ET_EPBNL</th>\n",
       "      <th>11conjoint_domicile</th>\n",
       "      <th>ENFANT_BIN</th>\n",
       "      <th>13reconfort_entourage</th>\n",
       "      <th>14proche_aidant</th>\n",
       "      <th>service_COVID19</th>\n",
       "      <th>Anatomopathologie</th>\n",
       "      <th>Anesthésie</th>\n",
       "      <th>Biologie médicale</th>\n",
       "      <th>...</th>\n",
       "      <th>CESD8</th>\n",
       "      <th>CESD12</th>\n",
       "      <th>CESD16</th>\n",
       "      <th>120. Au cours des 30 derniers jours, au bout de combien de temps ( en minutes) vous êtes-vous généralement endormi(e) le soir?</th>\n",
       "      <th>122.DUREE_SOMM_CONTINU</th>\n",
       "      <th>PSQI_TBSOMMEIL_CONTINU</th>\n",
       "      <th>PSQI_QUALITE_CONTINU</th>\n",
       "      <th>125. Au cours des 30 derniers jours, combien de fois avez-vous pris des médicaments pour mieux dormir (médicaments prescrits par votre médecin ou vendus sans ordonnance) ?</th>\n",
       "      <th>126. Au cours des 30 derniers jours, combien de fois avez-vous eu des difficultés à rester éveillé(e) en conduisant, en mangeant, ou en participant à des activités avec d’autres personnes ?</th>\n",
       "      <th>127. Au cours des 30 derniers jours, combien vous a-t-il été difficile d’être suffisamment motivé(e) pour mener à bien vos activités ?</th>\n",
       "    </tr>\n",
       "  </thead>\n",
       "  <tbody>\n",
       "    <tr>\n",
       "      <th>6885</th>\n",
       "      <td>0</td>\n",
       "      <td>0</td>\n",
       "      <td>1</td>\n",
       "      <td>0</td>\n",
       "      <td>0</td>\n",
       "      <td>1</td>\n",
       "      <td>0</td>\n",
       "      <td>0</td>\n",
       "      <td>0</td>\n",
       "      <td>0</td>\n",
       "      <td>...</td>\n",
       "      <td>-1.122199</td>\n",
       "      <td>0.029251</td>\n",
       "      <td>-0.181941</td>\n",
       "      <td>-0.182168</td>\n",
       "      <td>-0.485564</td>\n",
       "      <td>2.533398</td>\n",
       "      <td>0.756248</td>\n",
       "      <td>-0.44104</td>\n",
       "      <td>0.405799</td>\n",
       "      <td>-0.197411</td>\n",
       "    </tr>\n",
       "    <tr>\n",
       "      <th>4497</th>\n",
       "      <td>1</td>\n",
       "      <td>1</td>\n",
       "      <td>0</td>\n",
       "      <td>1</td>\n",
       "      <td>1</td>\n",
       "      <td>0</td>\n",
       "      <td>0</td>\n",
       "      <td>0</td>\n",
       "      <td>0</td>\n",
       "      <td>1</td>\n",
       "      <td>...</td>\n",
       "      <td>1.445208</td>\n",
       "      <td>0.997267</td>\n",
       "      <td>1.584435</td>\n",
       "      <td>0.040507</td>\n",
       "      <td>-1.272809</td>\n",
       "      <td>-0.730910</td>\n",
       "      <td>0.756248</td>\n",
       "      <td>-0.44104</td>\n",
       "      <td>0.405799</td>\n",
       "      <td>-0.197411</td>\n",
       "    </tr>\n",
       "    <tr>\n",
       "      <th>2345</th>\n",
       "      <td>0</td>\n",
       "      <td>1</td>\n",
       "      <td>1</td>\n",
       "      <td>0</td>\n",
       "      <td>1</td>\n",
       "      <td>0</td>\n",
       "      <td>0</td>\n",
       "      <td>0</td>\n",
       "      <td>0</td>\n",
       "      <td>0</td>\n",
       "      <td>...</td>\n",
       "      <td>-1.122199</td>\n",
       "      <td>-0.938764</td>\n",
       "      <td>-1.065129</td>\n",
       "      <td>-0.404842</td>\n",
       "      <td>1.876170</td>\n",
       "      <td>-1.819013</td>\n",
       "      <td>-1.840447</td>\n",
       "      <td>0.70168</td>\n",
       "      <td>0.405799</td>\n",
       "      <td>-1.500656</td>\n",
       "    </tr>\n",
       "    <tr>\n",
       "      <th>3820</th>\n",
       "      <td>0</td>\n",
       "      <td>1</td>\n",
       "      <td>0</td>\n",
       "      <td>1</td>\n",
       "      <td>1</td>\n",
       "      <td>0</td>\n",
       "      <td>0</td>\n",
       "      <td>0</td>\n",
       "      <td>0</td>\n",
       "      <td>0</td>\n",
       "      <td>...</td>\n",
       "      <td>-0.266397</td>\n",
       "      <td>0.997267</td>\n",
       "      <td>-0.181941</td>\n",
       "      <td>-0.404842</td>\n",
       "      <td>-0.091942</td>\n",
       "      <td>-1.383772</td>\n",
       "      <td>-1.840447</td>\n",
       "      <td>-0.44104</td>\n",
       "      <td>-0.785521</td>\n",
       "      <td>-0.197411</td>\n",
       "    </tr>\n",
       "    <tr>\n",
       "      <th>10015</th>\n",
       "      <td>0</td>\n",
       "      <td>1</td>\n",
       "      <td>1</td>\n",
       "      <td>0</td>\n",
       "      <td>1</td>\n",
       "      <td>0</td>\n",
       "      <td>0</td>\n",
       "      <td>0</td>\n",
       "      <td>0</td>\n",
       "      <td>0</td>\n",
       "      <td>...</td>\n",
       "      <td>-1.122199</td>\n",
       "      <td>-0.938764</td>\n",
       "      <td>-1.065129</td>\n",
       "      <td>0.374518</td>\n",
       "      <td>-0.485564</td>\n",
       "      <td>-0.513289</td>\n",
       "      <td>0.756248</td>\n",
       "      <td>-0.44104</td>\n",
       "      <td>-0.785521</td>\n",
       "      <td>-1.500656</td>\n",
       "    </tr>\n",
       "  </tbody>\n",
       "</table>\n",
       "<p>5 rows × 128 columns</p>\n",
       "</div>"
      ],
      "text/plain": [
       "       SEX_M  PUBLIC_VS_PRIVE_ET_EPBNL  11conjoint_domicile  ENFANT_BIN  \\\n",
       "6885       0                         0                    1           0   \n",
       "4497       1                         1                    0           1   \n",
       "2345       0                         1                    1           0   \n",
       "3820       0                         1                    0           1   \n",
       "10015      0                         1                    1           0   \n",
       "\n",
       "       13reconfort_entourage  14proche_aidant  service_COVID19  \\\n",
       "6885                       0                1                0   \n",
       "4497                       1                0                0   \n",
       "2345                       1                0                0   \n",
       "3820                       1                0                0   \n",
       "10015                      1                0                0   \n",
       "\n",
       "       Anatomopathologie  Anesthésie  Biologie médicale  ...     CESD8  \\\n",
       "6885                   0           0                  0  ... -1.122199   \n",
       "4497                   0           0                  1  ...  1.445208   \n",
       "2345                   0           0                  0  ... -1.122199   \n",
       "3820                   0           0                  0  ... -0.266397   \n",
       "10015                  0           0                  0  ... -1.122199   \n",
       "\n",
       "         CESD12    CESD16  \\\n",
       "6885   0.029251 -0.181941   \n",
       "4497   0.997267  1.584435   \n",
       "2345  -0.938764 -1.065129   \n",
       "3820   0.997267 -0.181941   \n",
       "10015 -0.938764 -1.065129   \n",
       "\n",
       "       120. Au cours des 30 derniers jours, au bout de combien de temps ( en minutes) vous êtes-vous généralement endormi(e) le soir?  \\\n",
       "6885                                           -0.182168                                                                                \n",
       "4497                                            0.040507                                                                                \n",
       "2345                                           -0.404842                                                                                \n",
       "3820                                           -0.404842                                                                                \n",
       "10015                                           0.374518                                                                                \n",
       "\n",
       "       122.DUREE_SOMM_CONTINU  PSQI_TBSOMMEIL_CONTINU  PSQI_QUALITE_CONTINU  \\\n",
       "6885                -0.485564                2.533398              0.756248   \n",
       "4497                -1.272809               -0.730910              0.756248   \n",
       "2345                 1.876170               -1.819013             -1.840447   \n",
       "3820                -0.091942               -1.383772             -1.840447   \n",
       "10015               -0.485564               -0.513289              0.756248   \n",
       "\n",
       "       125. Au cours des 30 derniers jours, combien de fois avez-vous pris des médicaments pour mieux dormir (médicaments prescrits par votre médecin ou vendus sans ordonnance) ?  \\\n",
       "6885                                            -0.44104                                                                                                                             \n",
       "4497                                            -0.44104                                                                                                                             \n",
       "2345                                             0.70168                                                                                                                             \n",
       "3820                                            -0.44104                                                                                                                             \n",
       "10015                                           -0.44104                                                                                                                             \n",
       "\n",
       "       126. Au cours des 30 derniers jours, combien de fois avez-vous eu des difficultés à rester éveillé(e) en conduisant, en mangeant, ou en participant à des activités avec d’autres personnes ?  \\\n",
       "6885                                            0.405799                                                                                                                                               \n",
       "4497                                            0.405799                                                                                                                                               \n",
       "2345                                            0.405799                                                                                                                                               \n",
       "3820                                           -0.785521                                                                                                                                               \n",
       "10015                                          -0.785521                                                                                                                                               \n",
       "\n",
       "       127. Au cours des 30 derniers jours, combien vous a-t-il été difficile d’être suffisamment motivé(e) pour mener à bien vos activités ?  \n",
       "6885                                           -0.197411                                                                                       \n",
       "4497                                           -0.197411                                                                                       \n",
       "2345                                           -1.500656                                                                                       \n",
       "3820                                           -0.197411                                                                                       \n",
       "10015                                          -1.500656                                                                                       \n",
       "\n",
       "[5 rows x 128 columns]"
      ]
     },
     "execution_count": 54,
     "metadata": {},
     "output_type": "execute_result"
    }
   ],
   "source": [
    "pd.DataFrame(X_train).head()"
   ]
  },
  {
   "cell_type": "markdown",
   "id": "f0c797fe",
   "metadata": {},
   "source": [
    "# TEST DES MODELES"
   ]
  },
  {
   "cell_type": "markdown",
   "id": "b7e8ba64",
   "metadata": {},
   "source": [
    "###                           ML SUPERVISE"
   ]
  },
  {
   "cell_type": "markdown",
   "id": "100944ab",
   "metadata": {},
   "source": [
    "## MODELES CHOISIS : LOGREG,SVM,RF,GB,ANN"
   ]
  },
  {
   "cell_type": "markdown",
   "id": "85d6e130",
   "metadata": {},
   "source": [
    "### LOGREG :  RFE"
   ]
  },
  {
   "cell_type": "markdown",
   "id": "d156c707",
   "metadata": {},
   "source": [
    "La régression logistique est une méthode de classification supervisée en Machine Learning. Elle est utilisée pour prédire une variable cible binaire (par exemple oui/non, vrai/faux, 0/1) en fonction de plusieurs variables explicatives.\n",
    "\n",
    "Le modèle de régression logistique utilise une fonction logistique pour modéliser la relation entre les variables explicatives et la variable cible. Cette fonction de régression produit une probabilité entre 0 et 1 qui est utilisée pour classer chaque observation dans une des deux catégories possibles."
   ]
  },
  {
   "cell_type": "code",
   "execution_count": 55,
   "id": "7b295e6f",
   "metadata": {},
   "outputs": [],
   "source": [
    "# Pour cela il faut importer une classe qui s'appelle linear.regression\n",
    "\n",
    "from sklearn.linear_model import LogisticRegression\n",
    "\n",
    "classifierlogreg = LogisticRegression(penalty='l1', C=0.1, solver='liblinear',random_state = 0)\n",
    "\n",
    "#Underfitting : MauvaiseApprentissage\n",
    "#Overfitting :  SurApprentissage\n"
   ]
  },
  {
   "cell_type": "code",
   "execution_count": 56,
   "id": "4e8d8542",
   "metadata": {
    "scrolled": true
   },
   "outputs": [
    {
     "data": {
      "text/plain": [
       "RFE(estimator=LogisticRegression(C=0.1, penalty='l1', random_state=0,\n",
       "                                 solver='liblinear'),\n",
       "    n_features_to_select=13)"
      ]
     },
     "execution_count": 56,
     "metadata": {},
     "output_type": "execute_result"
    }
   ],
   "source": [
    "from sklearn.feature_selection import RFE\n",
    "\n",
    "# Créer un objet RFE\n",
    "rfe = RFE(estimator=classifierlogreg, n_features_to_select=13)\n",
    "\n",
    "# Adapter l'objet RFE aux données\n",
    "rfe.fit(X_train, Y_train )"
   ]
  },
  {
   "cell_type": "code",
   "execution_count": 57,
   "id": "b4437670",
   "metadata": {},
   "outputs": [
    {
     "name": "stdout",
     "output_type": "stream",
     "text": [
      "Requirement already satisfied: python-docx in c:\\users\\aliah\\anaconda3\\envs\\pythonproject\\lib\\site-packages (0.8.11)\n",
      "Requirement already satisfied: lxml>=2.3.2 in c:\\users\\aliah\\anaconda3\\envs\\pythonproject\\lib\\site-packages (from python-docx) (4.9.2)\n",
      "Note: you may need to restart the kernel to use updated packages.\n"
     ]
    }
   ],
   "source": [
    "pip install python-docx"
   ]
  },
  {
   "cell_type": "code",
   "execution_count": 58,
   "id": "2d5d3269",
   "metadata": {},
   "outputs": [
    {
     "name": "stdout",
     "output_type": "stream",
     "text": [
      "                         Selected Features\n",
      "0                                    SEX_M\n",
      "1                        Biologie médicale\n",
      "2   Service qualité et gestion des risques\n",
      "3                KARASEK_QUANTITE_RAPIDITE\n",
      "4     KARASEK_MORCELLEMENT_IMPREVISIBILITE\n",
      "5          KARASEK_LATITUDE_MARGEMANOEUVRE\n",
      "6           KARASEK_UTILISATION_COMPETENCE\n",
      "7                 KARASEK_DVLPT_COMPETENCE\n",
      "8                                    CESD1\n",
      "9                                    CESD7\n",
      "10                                  CESD20\n",
      "11                                   CESD4\n",
      "12                                   CESD8\n"
     ]
    }
   ],
   "source": [
    "import pandas as pd\n",
    "from docx import Document\n",
    "from docx.shared import Inches\n",
    "\n",
    "# Get the mask of selected features\n",
    "feature_mask = rfe.get_support()\n",
    "\n",
    "# Get the names of the selected features\n",
    "selected_feature_names = X_train.columns[feature_mask]\n",
    "\n",
    "# Create a new dataframe with the selected feature names\n",
    "selected_features_df = pd.DataFrame(selected_feature_names, columns=['Selected Features'])\n",
    "\n",
    "# Print the selected feature names\n",
    "print(selected_features_df)"
   ]
  },
  {
   "cell_type": "markdown",
   "id": "67e8af8e",
   "metadata": {},
   "source": [
    "### LES PARAMETRES"
   ]
  },
  {
   "cell_type": "markdown",
   "id": "fe4a94a5",
   "metadata": {},
   "source": [
    "\n",
    "\n",
    "#penalty : Le type de régularisation à utiliser. Les options courantes sont l1, l2, elasticnet et none. Par défaut, la régression logistique utilise une régularisation L2 (également appelée régularisation Ridge) en spécifiant penalty='l2'\n",
    "\n",
    "#C : L'inverse de la force de régularisation. Une valeur plus élevée de C signifie une régularisation plus faible, ce qui permet au modèle de s'adapter davantage aux données d'entraînement. Par défaut, C=1.0\n",
    "\n",
    "#solver : L'algorithme utilisé pour optimiser les coefficients du modèle. Les options courantes sont newton-cg, lbfgs, liblinear, sag et saga.\n",
    "\n",
    "#Le choix de l'algorithme dépend de la taille du jeu de données et des caractéristiques spécifiques du problème de classification. Par défaut, solver='lbfgs'.\n"
   ]
  },
  {
   "cell_type": "markdown",
   "id": "d742b1dd",
   "metadata": {},
   "source": [
    "### Faire de nouvelles prédictions "
   ]
  },
  {
   "cell_type": "code",
   "execution_count": 59,
   "id": "12a2c774",
   "metadata": {},
   "outputs": [
    {
     "data": {
      "text/plain": [
       "array([0, 0, 0, ..., 1, 1, 0], dtype=int64)"
      ]
     },
     "execution_count": 59,
     "metadata": {},
     "output_type": "execute_result"
    }
   ],
   "source": [
    "Y_pred = rfe.predict(X_test)\n",
    "Y_pred"
   ]
  },
  {
   "cell_type": "code",
   "execution_count": 60,
   "id": "fc2520a4",
   "metadata": {},
   "outputs": [
    {
     "name": "stdout",
     "output_type": "stream",
     "text": [
      "3209    0\n",
      "3840    0\n",
      "6683    0\n",
      "2030    0\n",
      "9279    1\n",
      "       ..\n",
      "8161    1\n",
      "9205    0\n",
      "8932    1\n",
      "3761    1\n",
      "6002    0\n",
      "Name: BURNOUT_BIN, Length: 3442, dtype: int64\n",
      "[0 0 0 ... 1 1 0]\n"
     ]
    }
   ],
   "source": [
    "print(Y_test)\n",
    "print(Y_pred)"
   ]
  },
  {
   "cell_type": "code",
   "execution_count": 61,
   "id": "f0e0f96c",
   "metadata": {},
   "outputs": [
    {
     "name": "stdout",
     "output_type": "stream",
     "text": [
      "3209    0\n",
      "3840    0\n",
      "6683    0\n",
      "2030    0\n",
      "9279    1\n",
      "       ..\n",
      "8161    1\n",
      "9205    0\n",
      "8932    1\n",
      "3761    1\n",
      "6002    0\n",
      "Name: BURNOUT_BIN, Length: 3442, dtype: int64\n"
     ]
    }
   ],
   "source": [
    "with np.printoptions(threshold=np.inf):\n",
    "    print(Y_test)"
   ]
  },
  {
   "cell_type": "code",
   "execution_count": 62,
   "id": "c71e06b8",
   "metadata": {
    "scrolled": true
   },
   "outputs": [
    {
     "name": "stdout",
     "output_type": "stream",
     "text": [
      "[0 0 0 0 0 1 1 1 1 0 0 1 0 1 0 1 0 0 1 0 1 1 0 0 0 0 1 0 1 1 0 1 0 1 0 0 0\n",
      " 0 0 1 1 0 1 0 1 0 1 1 1 1 1 0 1 0 0 1 1 1 0 1 0 1 0 0 0 0 1 1 0 0 1 1 1 1\n",
      " 1 1 1 1 1 1 1 1 1 0 1 1 1 1 0 0 1 0 0 1 1 1 1 1 1 0 0 0 0 1 1 0 0 0 0 1 0\n",
      " 0 1 1 0 1 0 1 0 0 1 1 1 1 0 1 0 1 1 1 1 1 1 1 0 0 1 0 1 0 1 0 1 1 0 0 0 1\n",
      " 1 1 1 1 1 1 0 1 1 0 1 1 1 1 1 1 1 0 1 1 1 1 1 0 1 0 0 1 0 1 1 0 1 0 1 1 0\n",
      " 1 0 1 1 0 1 1 0 1 1 1 0 1 1 1 0 0 0 0 1 1 0 1 1 1 1 1 1 1 0 1 0 0 1 1 1 0\n",
      " 0 0 1 0 1 0 1 1 1 1 1 0 0 0 1 1 1 1 1 1 0 1 1 1 1 0 1 0 1 0 1 1 0 1 0 1 1\n",
      " 0 0 1 1 0 1 0 1 0 1 0 1 1 0 0 1 1 1 1 0 1 1 0 0 0 1 0 0 0 1 1 1 0 1 1 1 1\n",
      " 1 0 1 1 1 0 1 0 0 1 1 1 0 1 0 1 1 0 0 0 1 1 0 1 0 1 1 1 1 0 0 1 0 0 1 0 1\n",
      " 0 0 1 0 1 1 1 0 1 1 0 0 0 1 0 1 0 1 0 1 1 0 0 1 1 0 0 0 0 0 0 0 0 1 1 1 1\n",
      " 1 0 0 1 0 0 1 1 0 0 1 1 1 1 0 1 1 0 1 1 1 1 1 1 1 0 1 1 0 1 0 1 0 1 1 0 0\n",
      " 0 0 1 0 1 1 0 1 0 1 1 0 1 0 1 0 0 1 0 1 0 1 1 0 0 1 1 1 1 0 1 1 1 0 1 0 1\n",
      " 0 1 1 0 1 1 1 0 1 0 0 1 1 1 0 1 0 0 0 0 1 0 0 1 0 1 1 0 0 1 1 1 0 1 0 1 1\n",
      " 1 0 0 1 1 1 0 1 1 1 1 0 0 1 0 1 1 1 0 1 1 1 1 1 0 0 0 0 0 0 0 1 0 1 0 0 1\n",
      " 0 1 1 1 0 1 0 1 1 0 1 0 0 0 1 1 1 0 1 1 1 1 1 1 0 1 1 1 0 0 1 1 0 1 1 1 1\n",
      " 0 1 1 0 0 0 0 1 1 0 1 0 1 0 1 1 1 0 0 1 0 0 1 1 0 1 1 0 1 1 0 0 1 1 0 0 1\n",
      " 1 1 0 0 1 1 0 0 1 0 0 1 1 0 0 0 1 1 1 0 0 1 0 0 1 1 1 1 1 1 0 0 0 1 0 1 1\n",
      " 0 1 0 1 0 1 1 1 1 0 1 0 1 1 1 1 0 0 0 1 1 1 1 1 1 0 1 0 1 1 1 0 1 1 0 0 0\n",
      " 0 1 0 0 1 0 0 0 0 1 0 0 0 1 1 0 0 0 0 1 0 1 1 0 1 1 1 1 0 0 1 1 0 1 0 0 1\n",
      " 1 0 0 0 0 0 1 1 1 1 1 1 0 0 1 0 1 0 1 1 1 1 1 0 0 1 1 0 0 0 1 1 0 1 1 0 1\n",
      " 0 1 1 1 0 0 1 1 0 1 1 1 0 1 1 1 1 1 0 1 0 1 1 0 1 1 0 1 1 1 1 1 0 1 0 1 0\n",
      " 0 0 0 1 1 1 1 0 1 1 1 1 0 1 1 0 1 0 1 1 1 0 0 1 1 1 1 1 1 1 1 1 0 0 1 0 0\n",
      " 1 1 1 0 0 0 1 0 1 0 1 1 1 0 1 0 1 0 1 1 1 0 1 0 1 1 0 0 1 1 1 0 0 1 0 1 0\n",
      " 0 1 0 1 0 1 0 0 1 1 1 1 1 0 1 1 1 0 1 0 0 0 1 1 1 0 1 1 1 1 1 1 1 1 0 1 0\n",
      " 1 0 1 0 0 1 1 0 1 0 1 1 1 1 0 0 1 0 0 1 1 0 0 0 0 0 1 0 1 1 0 0 0 0 0 1 0\n",
      " 1 1 1 1 1 1 0 0 1 1 1 0 1 1 0 1 1 1 0 1 0 0 0 1 1 1 1 1 0 1 0 1 1 1 0 0 0\n",
      " 1 0 1 1 0 1 1 1 0 1 0 1 1 1 1 1 0 0 0 1 1 0 1 1 1 1 0 0 0 0 0 1 0 1 1 1 1\n",
      " 1 1 0 1 0 0 1 0 1 0 0 1 1 1 1 0 1 1 1 0 0 0 0 1 1 1 1 1 1 0 0 0 0 0 1 1 1\n",
      " 1 0 0 0 1 1 0 0 0 1 1 0 0 1 1 0 1 1 0 1 1 1 0 1 0 1 0 1 0 1 1 0 1 0 1 0 1\n",
      " 1 0 1 1 1 0 1 1 1 0 1 1 0 1 0 1 1 1 1 0 0 1 1 1 0 0 1 1 1 0 1 0 0 0 1 0 1\n",
      " 1 1 0 1 0 0 0 1 1 1 1 0 0 1 0 1 0 1 0 1 1 1 1 1 0 0 0 1 1 1 1 1 0 0 1 1 0\n",
      " 1 0 1 1 1 1 0 1 0 0 0 0 0 1 1 1 0 1 0 1 0 1 0 1 0 1 1 1 1 1 1 1 0 0 0 1 0\n",
      " 1 0 1 0 0 1 0 1 1 1 1 1 1 0 1 1 1 0 0 0 0 1 1 0 1 0 1 1 0 1 0 0 0 1 0 0 1\n",
      " 0 1 0 0 0 0 1 1 1 1 1 1 1 0 1 1 1 0 1 1 0 1 0 0 1 1 0 0 0 1 0 1 1 1 1 1 1\n",
      " 0 0 0 1 0 1 0 1 0 0 1 1 1 0 0 1 0 1 0 0 0 0 1 0 0 0 1 0 0 0 1 0 1 1 1 0 1\n",
      " 1 1 1 1 1 0 0 1 1 0 1 1 0 1 1 1 0 1 1 1 1 1 1 1 0 0 1 1 1 0 1 0 1 0 1 0 1\n",
      " 1 1 1 0 1 1 1 1 1 0 1 1 0 0 1 0 0 0 1 1 1 1 1 1 0 1 1 0 1 0 1 1 0 1 0 0 1\n",
      " 1 1 1 0 1 1 0 0 0 0 1 0 0 1 1 0 1 0 1 0 1 0 0 0 1 1 0 1 1 1 1 0 0 1 0 1 0\n",
      " 1 1 0 0 1 0 1 0 0 0 1 0 0 0 0 1 1 0 1 1 1 1 0 0 0 1 0 0 1 1 0 0 1 1 0 0 1\n",
      " 1 1 0 0 1 1 0 0 0 0 0 1 1 0 1 1 0 0 1 1 1 1 0 0 0 0 1 0 1 1 0 0 0 1 0 0 1\n",
      " 1 1 1 0 1 1 0 0 0 1 1 1 1 0 1 0 0 1 1 1 0 1 1 0 0 0 0 1 1 1 0 1 1 1 1 0 0\n",
      " 0 1 1 0 0 0 0 1 0 0 0 1 1 1 0 0 1 1 0 0 1 1 0 0 1 0 0 0 0 0 1 0 0 0 0 1 0\n",
      " 1 1 0 1 1 0 1 1 1 0 1 1 1 1 0 0 0 1 0 1 0 0 0 1 1 0 1 0 1 0 0 1 1 1 0 0 0\n",
      " 0 0 0 0 0 0 0 0 1 1 1 1 0 1 1 0 0 1 0 0 1 0 0 0 0 1 0 0 1 1 0 0 1 1 1 1 0\n",
      " 1 0 0 0 1 1 0 0 1 1 1 1 1 0 0 1 1 1 1 1 0 0 1 0 1 0 0 0 1 1 1 0 1 1 1 0 1\n",
      " 1 0 0 1 1 1 0 0 0 1 1 0 0 1 1 1 0 0 1 0 1 0 0 0 0 1 1 0 0 0 1 1 1 1 0 1 1\n",
      " 1 1 1 1 0 0 1 1 0 0 0 0 1 0 1 0 1 1 0 1 1 1 0 0 0 1 1 0 1 1 1 1 1 0 1 1 0\n",
      " 1 1 1 0 1 1 1 0 1 0 1 1 0 1 1 1 0 0 1 1 1 1 1 1 0 0 1 1 1 0 1 0 1 1 1 0 0\n",
      " 1 1 1 0 0 1 0 0 1 0 0 1 1 0 0 1 0 1 1 1 1 1 1 1 1 0 1 0 1 1 1 1 1 1 1 0 0\n",
      " 1 0 0 0 0 0 1 1 0 1 1 1 1 1 1 1 1 0 0 1 1 1 0 1 0 0 0 1 0 1 0 1 1 1 0 1 1\n",
      " 1 0 1 1 0 1 1 1 0 1 0 1 1 0 1 1 1 0 1 1 0 1 1 1 0 1 1 1 1 0 1 1 0 0 1 0 0\n",
      " 0 0 0 1 1 0 0 1 1 1 1 0 0 0 1 1 1 1 1 0 1 1 0 0 0 0 0 0 0 0 1 0 0 1 1 0 0\n",
      " 0 1 0 1 0 0 0 0 1 1 1 0 1 1 1 0 0 1 1 0 0 0 1 1 0 0 0 0 0 0 1 0 0 0 1 1 0\n",
      " 1 1 0 1 0 1 0 1 1 1 1 0 0 0 0 1 0 0 0 1 0 1 1 1 0 0 0 1 0 1 0 1 0 0 0 1 0\n",
      " 0 0 1 0 1 0 1 1 0 1 0 1 1 0 1 0 0 1 1 1 0 0 1 1 0 0 1 0 1 0 1 1 0 0 1 0 1\n",
      " 0 0 1 0 1 0 0 0 1 0 1 1 0 0 1 0 0 1 0 1 1 0 0 0 1 0 0 0 1 1 0 0 0 1 0 1 0\n",
      " 1 0 1 1 0 0 0 0 1 1 0 0 1 1 0 0 0 1 0 0 1 0 1 1 1 1 0 1 1 1 1 1 0 0 1 1 0\n",
      " 1 0 1 0 1 0 1 0 1 0 0 1 0 0 0 1 1 0 1 1 1 0 0 1 0 1 1 1 0 1 1 1 1 0 1 0 0\n",
      " 0 0 1 0 0 0 0 0 1 1 0 0 0 0 1 0 1 1 1 1 1 1 0 0 0 0 1 0 1 0 0 0 0 1 1 0 0\n",
      " 0 1 0 1 1 0 1 1 1 1 0 1 0 0 0 1 1 1 1 0 0 0 0 1 0 1 0 1 1 0 1 1 1 1 0 1 0\n",
      " 0 1 1 1 0 1 1 0 1 0 0 1 1 0 1 0 0 1 1 0 1 0 1 0 1 0 1 0 1 1 0 0 1 1 0 0 1\n",
      " 0 0 0 0 0 1 0 1 0 1 1 1 1 0 0 0 0 0 0 1 1 0 1 1 0 0 1 1 1 0 0 1 0 1 0 0 0\n",
      " 0 0 0 1 1 1 0 1 0 0 0 1 0 1 1 1 1 1 0 1 1 1 0 0 0 0 0 1 0 1 0 0 1 0 1 0 0\n",
      " 1 1 1 1 1 1 0 0 1 1 1 0 1 0 1 1 1 0 1 0 1 0 0 1 0 1 0 1 1 0 0 0 0 1 1 1 0\n",
      " 0 1 0 0 1 0 0 0 0 1 1 0 0 1 1 0 1 0 0 0 1 0 1 1 0 1 0 1 1 0 0 0 1 1 1 0 1\n",
      " 1 1 1 1 1 1 0 1 0 1 1 1 0 1 0 0 1 1 0 0 0 0 0 1 0 1 1 0 1 0 1 1 1 1 1 0 1\n",
      " 1 1 0 0 1 0 0 1 1 0 1 0 0 1 1 1 1 0 0 1 1 1 0 0 0 0 1 1 1 0 0 0 0 0 0 1 1\n",
      " 0 1 0 0 1 0 1 0 1 0 1 0 0 0 1 1 0 0 1 1 1 0 1 1 1 1 0 1 0 1 1 1 1 0 1 0 1\n",
      " 1 1 1 1 0 1 1 1 1 1 1 1 1 1 1 1 0 1 0 1 0 0 0 1 0 0 1 1 1 0 1 0 1 1 0 1 0\n",
      " 1 1 1 0 0 1 1 1 0 1 1 0 0 1 1 1 0 1 0 0 0 1 0 0 0 1 1 0 1 0 0 0 1 1 0 0 0\n",
      " 1 1 1 0 1 1 1 1 1 1 0 0 0 1 1 1 1 0 1 1 0 0 0 0 0 1 1 0 0 1 1 0 0 0 0 0 0\n",
      " 0 0 1 0 1 1 0 1 1 0 0 0 1 0 1 1 0 1 0 1 0 0 0 1 1 0 0 0 0 0 0 0 1 0 0 1 1\n",
      " 1 1 1 1 1 1 0 1 0 0 0 1 1 1 1 1 1 1 0 1 0 0 0 1 0 0 0 0 1 0 1 0 1 0 0 0 0\n",
      " 0 1 1 0 1 0 1 0 0 1 1 1 1 1 1 1 0 1 0 0 1 0 1 0 1 1 1 0 1 0 0 1 1 0 0 1 0\n",
      " 0 0 0 0 1 0 1 0 0 0 1 0 1 0 1 0 0 0 1 1 0 1 1 1 0 1 0 1 1 0 0 0 1 0 0 1 0\n",
      " 1 0 1 1 0 0 0 1 0 0 0 0 1 1 0 0 1 1 1 1 1 1 0 0 0 1 0 0 0 0 1 1 0 1 1 0 0\n",
      " 1 1 1 1 1 1 0 0 0 1 1 1 1 1 1 1 1 1 0 1 0 1 1 1 0 0 0 0 1 1 1 1 1 1 1 0 0\n",
      " 1 0 0 1 1 1 1 1 1 1 0 1 0 1 1 1 0 1 0 0 1 0 0 1 1 0 0 0 0 0 1 1 0 1 0 1 1\n",
      " 0 1 1 0 1 1 0 1 1 0 0 1 1 1 0 1 1 1 0 0 0 0 1 1 1 1 0 1 1 1 1 1 1 0 1 1 1\n",
      " 1 0 1 0 1 1 0 1 0 1 0 1 0 0 1 1 0 1 1 0 0 1 1 0 0 1 1 0 1 1 1 0 0 1 0 1 1\n",
      " 0 1 1 1 0 0 1 1 1 1 0 1 1 1 0 1 0 0 0 0 1 0 0 1 0 0 1 1 1 0 0 1 0 0 0 0 1\n",
      " 0 0 1 1 0 0 1 1 1 1 0 0 1 0 1 0 1 1 1 1 1 1 1 0 1 1 0 1 0 0 1 1 1 0 1 0 0\n",
      " 1 0 1 0 1 1 0 1 1 0 0 0 1 0 0 0 0 0 1 1 1 1 0 1 1 0 1 1 1 1 0 0 1 1 0 1 0\n",
      " 1 1 1 0 1 0 1 0 0 1 0 1 0 0 0 1 0 0 0 0 1 1 1 0 1 0 1 0 1 1 1 1 0 0 1 1 1\n",
      " 1 1 1 1 1 1 1 1 1 1 1 1 0 1 1 0 1 1 1 0 1 1 0 0 0 1 1 0 1 1 1 1 0 0 1 1 1\n",
      " 1 1 0 0 0 1 1 0 0 0 1 0 0 1 1 1 1 1 0 1 0 0 0 0 1 0 0 0 1 1 0 1 1 1 0 0 0\n",
      " 1 1 1 1 0 0 0 0 1 1 0 1 1 1 1 1 0 1 1 0 1 0 0 0 0 1 1 1 0 1 0 1 1 1 0 0 0\n",
      " 1 1 0 0 0 1 1 1 1 1 0 1 0 0 1 0 1 0 1 0 0 1 0 0 1 1 0 0 1 1 0 0 0 0 1 1 1\n",
      " 0 1 1 0 0 0 1 0 1 0 0 1 1 1 0 0 0 1 0 0 0 1 0 0 1 0 1 1 0 0 1 0 1 1 0 0 1\n",
      " 1 0 1 0 0 1 1 1 1 1 0 0 1 0 1 0 0 1 1 1 1 0 0 0 0 1 0 1 1 1 0 1 1 0 1 1 0\n",
      " 1 1 0 0 1 1 0 0 1 0 0 1 1 0 0 1 1 0 1 0 0 1 0 0 0 1 0 1 1 0 1 0 1 0 1 0 0\n",
      " 1 1 1 0 0 1 1 0 1 0 1 0 1 0 1 0 0 1 1 1 0 0 0 0 1 0 1 0 1 0 0 1 1 0 1 1 1\n",
      " 1 1 1 1 1 0 1 1 0 0 1 1 1 1 1 1 0 1 1 0 1 0 1 0 1 0 0 0 1 1 0 0 0 1 0 1 1\n",
      " 0]\n"
     ]
    }
   ],
   "source": [
    "with np.printoptions(threshold=np.inf):\n",
    "    print(Y_pred)"
   ]
  },
  {
   "cell_type": "markdown",
   "id": "f2682ad8",
   "metadata": {},
   "source": [
    "## Matrice de confusion"
   ]
  },
  {
   "cell_type": "code",
   "execution_count": 63,
   "id": "9a855b68",
   "metadata": {},
   "outputs": [
    {
     "data": {
      "text/plain": [
       "array([[1087,  411],\n",
       "       [ 466, 1478]], dtype=int64)"
      ]
     },
     "execution_count": 63,
     "metadata": {},
     "output_type": "execute_result"
    }
   ],
   "source": [
    "from sklearn.metrics import confusion_matrix\n",
    "CM = confusion_matrix(Y_test, Y_pred)\n",
    "CM"
   ]
  },
  {
   "cell_type": "code",
   "execution_count": 64,
   "id": "7e4c129f",
   "metadata": {
    "scrolled": true
   },
   "outputs": [
    {
     "data": {
      "text/plain": [
       "<AxesSubplot:>"
      ]
     },
     "execution_count": 64,
     "metadata": {},
     "output_type": "execute_result"
    },
    {
     "data": {
      "image/png": "[encoded data removed]",
      "text/plain": [
       "<Figure size 432x288 with 2 Axes>"
      ]
     },
     "metadata": {
      "needs_background": "light"
     },
     "output_type": "display_data"
    }
   ],
   "source": [
    "group_names = ['True Neg','False Pos','False Neg','True Pos']\n",
    "group_counts = ['{0:0.0f}'.format(value) for value in\n",
    "                CM.flatten()]\n",
    "group_percentages = ['{0:.2%}'.format(value) for value in\n",
    "                     CM.flatten()/np.sum(CM)]\n",
    "labels = [f'{v1}\\n{v2}\\n{v3}' for v1, v2, v3 in\n",
    "          zip(group_names,group_counts,group_percentages)]\n",
    "labels = np.asarray(labels).reshape(2,2)\n",
    "sns.heatmap(CM, annot=labels, fmt='', cmap='Blues')"
   ]
  },
  {
   "cell_type": "markdown",
   "id": "b9c8a02d",
   "metadata": {},
   "source": [
    "### Courbe roc "
   ]
  },
  {
   "cell_type": "markdown",
   "id": "3cae47af",
   "metadata": {},
   "source": [
    "La courbe ROC (Receiver Operating Characteristic) est un graphique du taux de vrais positifs par rapport au taux de faux positifs. Il montre le compromis entre sensibilité et spécificité."
   ]
  },
  {
   "cell_type": "code",
   "execution_count": 65,
   "id": "7c3f2949",
   "metadata": {},
   "outputs": [
    {
     "data": {
      "image/png": "[encoded data removed]",
      "text/plain": [
       "<Figure size 432x288 with 1 Axes>"
      ]
     },
     "metadata": {
      "needs_background": "light"
     },
     "output_type": "display_data"
    }
   ],
   "source": [
    "from sklearn import metrics\n",
    "y_pred_proba = rfe.predict_proba(X_test)[::,1]\n",
    "fpr, tpr, _ = metrics.roc_curve(Y_test,  y_pred_proba)\n",
    "auc = metrics.roc_auc_score(Y_test, y_pred_proba)\n",
    "plt.plot(fpr,tpr,label=\"df2, auc=\"+str(auc))\n",
    "plt.legend(loc=4)\n",
    "plt.show()"
   ]
  },
  {
   "cell_type": "markdown",
   "id": "ad822c3c",
   "metadata": {},
   "source": [
    "### ACCURACY RATE, ERROR RATE & F1-SCORE"
   ]
  },
  {
   "cell_type": "code",
   "execution_count": 66,
   "id": "7eeac83f",
   "metadata": {},
   "outputs": [],
   "source": [
    "from sklearn.metrics import accuracy_score\n",
    "from sklearn.metrics import f1_score\n",
    "from sklearn.metrics import precision_score, recall_score\n",
    "from sklearn.metrics import cohen_kappa_score\n",
    "from sklearn.metrics import matthews_corrcoef\n",
    "from sklearn import metrics"
   ]
  },
  {
   "cell_type": "code",
   "execution_count": 67,
   "id": "1ab019c0",
   "metadata": {},
   "outputs": [
    {
     "name": "stdout",
     "output_type": "stream",
     "text": [
      "precision : 0.78\n",
      "recall : 0.76\n",
      "Accuracy rate:  0.7452062754212667\n",
      "Error rate:  0.2547937245787333\n",
      "F1_score:  0.7711974954343856\n",
      "CK: 0.4838842597927696\n",
      "MC: 0.4841379322459371\n",
      "AUC: 0.8191583977539325\n"
     ]
    }
   ],
   "source": [
    "Accuracy_Rate = accuracy_score(Y_test, Y_pred)\n",
    "Error_rate = 1 - Accuracy_Rate\n",
    "F1_score_logreg = f1_score(Y_test, Y_pred)\n",
    "precision = precision_score(Y_test, Y_pred)\n",
    "recall = recall_score(Y_test, Y_pred)\n",
    "CK = cohen_kappa_score (Y_test,Y_pred)\n",
    "MC = matthews_corrcoef(Y_test,Y_pred)\n",
    "auc = metrics.roc_auc_score(Y_test, y_pred_proba)\n",
    "\n",
    "print(\"precision : {:.2f}\".format(precision))\n",
    "print(\"recall : {:.2f}\".format(recall))\n",
    "print(\"Accuracy rate: \", Accuracy_Rate)\n",
    "print(\"Error rate: \", Error_rate)\n",
    "print(\"F1_score: \", F1_score_logreg)\n",
    "print(\"CK:\", CK)\n",
    "print(\"MC:\", MC)\n",
    "print(\"AUC:\", auc)"
   ]
  },
  {
   "cell_type": "code",
   "execution_count": 68,
   "id": "cac279f8",
   "metadata": {
    "scrolled": false
   },
   "outputs": [
    {
     "data": {
      "image/png": "[encoded data removed]",
      "text/plain": [
       "<Figure size 576x432 with 1 Axes>"
      ]
     },
     "metadata": {
      "needs_background": "light"
     },
     "output_type": "display_data"
    }
   ],
   "source": [
    "# create a list of metric names and values\n",
    "metric_names = [\"Precision\", \"Recall\", \"Accuracy Rate\", \"Error Rate\", \"F1 Score\", \"CK\", \"MC\",\"AUC\"]\n",
    "metric_values = [precision, recall, Accuracy_Rate, Error_rate, F1_score_logreg, CK, MC,auc]\n",
    "\n",
    "# create a bar chart\n",
    "fig, ax = plt.subplots(figsize=(8,6))\n",
    "ax.bar(metric_names, metric_values)\n",
    "ax.set_ylabel('Value')\n",
    "ax.set_ylim([0,1])\n",
    "ax.set_title('Performance Metrics')\n",
    "plt.show()"
   ]
  },
  {
   "cell_type": "markdown",
   "id": "9da749e4",
   "metadata": {},
   "source": [
    "# Construction du modèle SVM (Support Vector Machine) : modèle linéaire"
   ]
  },
  {
   "cell_type": "markdown",
   "id": "7584cbb8",
   "metadata": {},
   "source": [
    "Le modèle SVM (Support Vector Machine) est un modèle d'apprentissage supervisé utilisé pour la classification et la régression. L'objectif de ce modèle est de trouver une frontière de décision qui sépare les données en deux classes distinctes avec la plus grande marge possible.\n",
    "\n",
    "Pour ce faire, le modèle SVM utilise un hyperplan qui sépare les données en deux classes en maximisant la marge, c'est-à-dire la distance entre l'hyperplan et les points les plus proches de chaque classe. Les points les plus proches de l'hyperplan sont appelés vecteurs de support, d'où le nom de Support Vector Machine.\n",
    "\n",
    "Le modèle SVM peut être utilisé pour la classification binaire et multiclasse, ainsi que pour la régression. Pour la classification binaire, le modèle SVM linéaire utilise une fonction d'activation de type \"step function\" tandis que les modèles SVM non linéaires utilisent des fonctions d'activation non linéaires telles que le noyau gaussien.\n",
    "\n",
    "Le modèle SVM a de bonnes performances dans la classification de données linéairement et non linéairement séparables. Cependant, il peut être sensible aux données bruyantes et peut être coûteux en termes de temps de calcul pour de grandes quantités de données."
   ]
  },
  {
   "cell_type": "markdown",
   "id": "ca2123c2",
   "metadata": {},
   "source": [
    "### SVM : RFE"
   ]
  },
  {
   "cell_type": "code",
   "execution_count": 69,
   "id": "f3b17764",
   "metadata": {},
   "outputs": [],
   "source": [
    "from sklearn.svm import SVC\n",
    "\n",
    "classifier2 = SVC(kernel= 'linear', C=0.01, gamma='scale',random_state = 0, probability= True)"
   ]
  },
  {
   "cell_type": "code",
   "execution_count": 70,
   "id": "03ea6e77",
   "metadata": {},
   "outputs": [
    {
     "data": {
      "text/plain": [
       "RFE(estimator=SVC(C=0.01, kernel='linear', probability=True, random_state=0),\n",
       "    n_features_to_select=13)"
      ]
     },
     "execution_count": 70,
     "metadata": {},
     "output_type": "execute_result"
    }
   ],
   "source": [
    "from sklearn.feature_selection import RFE\n",
    "\n",
    "# Créer un objet RFE\n",
    "rfe2 = RFE(estimator=classifier2, n_features_to_select=13)\n",
    "\n",
    "# Adapter l'objet RFE aux données\n",
    "rfe2.fit(X_train, Y_train )"
   ]
  },
  {
   "cell_type": "code",
   "execution_count": 71,
   "id": "caf60700",
   "metadata": {},
   "outputs": [
    {
     "name": "stdout",
     "output_type": "stream",
     "text": [
      "                         Selected Features\n",
      "0                                    SEX_M\n",
      "1                        Biologie médicale\n",
      "2   Service qualité et gestion des risques\n",
      "3                KARASEK_QUANTITE_RAPIDITE\n",
      "4     KARASEK_MORCELLEMENT_IMPREVISIBILITE\n",
      "5          KARASEK_LATITUDE_MARGEMANOEUVRE\n",
      "6           KARASEK_UTILISATION_COMPETENCE\n",
      "7                 KARASEK_DVLPT_COMPETENCE\n",
      "8                                    CESD1\n",
      "9                                    CESD7\n",
      "10                                  CESD20\n",
      "11                                   CESD4\n",
      "12                                   CESD8\n"
     ]
    }
   ],
   "source": [
    "# Get the mask of selected features\n",
    "feature_mask2 = rfe2.get_support()\n",
    "\n",
    "# Get the names of the selected features\n",
    "selected_feature_names2 = X_train.columns[feature_mask]\n",
    "\n",
    "# Create a new dataframe with the selected feature names\n",
    "selected_features_df2 = pd.DataFrame(selected_feature_names2, columns=['Selected Features'])\n",
    "\n",
    "# Print the selected feature names\n",
    "print(selected_features_df2)"
   ]
  },
  {
   "cell_type": "markdown",
   "id": "83a4f8dc",
   "metadata": {},
   "source": [
    "### LES PARAMETRES"
   ]
  },
  {
   "cell_type": "markdown",
   "id": "291127a4",
   "metadata": {},
   "source": [
    "#Noyau (kernel) : le noyau est une fonction mathématique qui transforme les données d'entrée (vecteurs) dans un espace de dimension supérieure, où elles sont plus facilement séparables. Les noyaux les plus couramment utilisés sont le noyau linéaire (Linear kernel), le noyau RBF (Radial basis function kernel), le noyau polynomial (Polynomial kernel), et le noyau sigmoidal (Sigmoid kernel).\n",
    "\n",
    "#C : C est un paramètre de régularisation qui contrôle la pénalité appliquée aux erreurs de classification. Un C faible permettra une certaine classification incorrecte en échange d'une surface de décision plus simple, tandis qu'un C élevé donnera une surface de décision plus complexe, en essayant de classifier toutes les données correctement. C agit donc comme une mesure d'équilibre entre la simplicité de la surface de décision et la précision de classification.\n",
    "\n",
    "#Gamma : Gamma est un paramètre qui définit la \"distance\" d'influence de chaque point d'entraînement dans la fonction de décision. Plus gamma est grand, plus la surface de décision sera \"pointue\" et plus chaque point d'entraînement aura une influence étendue. Un gamma plus faible aura l'effet inverse, conduisant à une surface de décision plus douce et plus régulière.\n",
    "\n",
    "#Probability est un paramètre optionnel pour les modèles SVM de la librairie scikit-learn. Ce paramètre permet d'activer la sortie des probabilités des prédictions du modèle.\n",
    "\n",
    "Par défaut, les modèles SVM de scikit-learn ne fournissent pas les probabilités des prédictions, mais plutôt une prédiction binaire (0 ou 1) pour chaque exemple. Si le paramètre probability est activé, le modèle SVM utilise une méthode de calibration pour estimer les probabilités des prédictions."
   ]
  },
  {
   "cell_type": "markdown",
   "id": "9b289e54",
   "metadata": {},
   "source": [
    "### Faire de nouvelles prédictions "
   ]
  },
  {
   "cell_type": "code",
   "execution_count": 72,
   "id": "89b88059",
   "metadata": {},
   "outputs": [
    {
     "name": "stdout",
     "output_type": "stream",
     "text": [
      "3209    0\n",
      "3840    0\n",
      "6683    0\n",
      "2030    0\n",
      "9279    1\n",
      "       ..\n",
      "8161    1\n",
      "9205    0\n",
      "8932    1\n",
      "3761    1\n",
      "6002    0\n",
      "Name: BURNOUT_BIN, Length: 3442, dtype: int64\n",
      "[0 1 0 ... 1 1 0]\n"
     ]
    }
   ],
   "source": [
    "Y2_pred = rfe2.predict(X_test)\n",
    "print(Y_test)\n",
    "print(Y2_pred)"
   ]
  },
  {
   "cell_type": "code",
   "execution_count": 73,
   "id": "19aff2d7",
   "metadata": {},
   "outputs": [
    {
     "name": "stdout",
     "output_type": "stream",
     "text": [
      "3209    0\n",
      "3840    0\n",
      "6683    0\n",
      "2030    0\n",
      "9279    1\n",
      "       ..\n",
      "8161    1\n",
      "9205    0\n",
      "8932    1\n",
      "3761    1\n",
      "6002    0\n",
      "Name: BURNOUT_BIN, Length: 3442, dtype: int64\n"
     ]
    }
   ],
   "source": [
    "with np.printoptions(threshold=np.inf):\n",
    "    print(Y_test)"
   ]
  },
  {
   "cell_type": "code",
   "execution_count": 74,
   "id": "37d9b6d9",
   "metadata": {},
   "outputs": [
    {
     "name": "stdout",
     "output_type": "stream",
     "text": [
      "[0 1 0 0 0 1 1 1 1 0 0 1 0 1 0 1 1 0 1 0 1 1 1 0 0 0 1 0 1 1 0 1 0 1 0 0 0\n",
      " 0 0 1 1 0 1 1 1 0 1 1 1 1 1 1 1 0 0 1 1 1 0 1 0 1 1 0 0 0 1 1 0 0 1 1 1 1\n",
      " 1 1 1 1 0 1 1 1 1 0 1 1 1 0 0 0 1 0 0 1 1 1 1 1 0 0 1 0 0 1 1 0 0 0 0 1 0\n",
      " 0 1 1 0 1 0 1 0 0 1 1 1 1 0 1 0 1 1 1 1 1 1 1 0 0 1 0 1 0 0 0 1 1 0 0 0 1\n",
      " 1 1 0 1 1 1 0 1 1 0 1 1 1 1 1 1 1 0 1 1 1 1 1 0 1 0 0 1 0 1 1 0 1 0 1 1 0\n",
      " 1 0 1 1 0 1 1 0 1 1 1 0 1 1 1 0 0 0 0 0 1 0 1 1 1 1 1 1 1 0 1 0 0 1 1 1 0\n",
      " 0 0 1 0 1 0 1 1 1 1 1 0 0 0 1 1 1 1 1 1 0 1 1 1 1 0 1 0 1 1 1 1 0 1 0 0 1\n",
      " 0 0 1 1 0 1 0 1 0 1 0 1 1 0 0 1 1 1 1 1 1 0 0 0 0 1 0 0 0 1 1 1 0 1 1 1 1\n",
      " 1 0 0 1 1 0 1 0 0 1 1 1 0 1 0 0 1 0 0 0 1 0 0 1 0 1 1 1 1 0 1 1 0 0 1 0 1\n",
      " 0 0 1 0 1 1 1 0 1 1 0 0 0 1 0 1 0 0 0 1 1 0 0 1 1 0 0 0 0 0 0 0 0 1 1 1 0\n",
      " 1 0 0 1 0 0 1 1 0 0 1 1 1 1 0 1 1 0 1 1 1 1 1 1 1 0 1 0 0 1 0 1 0 1 1 0 0\n",
      " 0 0 1 0 1 1 0 1 0 1 1 0 1 0 1 0 0 1 0 0 0 1 1 0 0 1 1 1 1 0 1 1 1 0 1 0 1\n",
      " 0 1 1 0 1 1 1 0 1 0 0 1 1 1 0 1 0 0 0 0 1 0 0 1 0 1 1 0 0 1 1 1 0 1 0 1 1\n",
      " 1 0 0 1 1 1 0 1 1 1 1 0 0 1 0 1 1 1 0 1 1 1 1 1 0 0 0 0 0 0 0 1 0 1 0 1 1\n",
      " 0 1 1 1 0 1 0 1 1 0 1 0 1 0 0 1 1 0 1 1 1 1 0 1 0 1 1 1 0 0 1 1 0 1 1 1 1\n",
      " 0 1 1 0 0 0 0 1 1 0 1 0 1 0 1 1 1 1 0 1 0 0 1 1 0 1 0 0 1 1 0 0 1 1 0 0 1\n",
      " 1 1 0 0 1 1 0 0 1 0 0 1 1 0 0 0 1 1 1 0 1 1 0 0 1 1 1 1 1 1 0 0 0 1 0 1 1\n",
      " 0 1 0 1 0 1 1 1 0 0 1 0 1 1 1 1 0 0 0 1 1 1 1 1 1 0 1 0 1 1 1 0 1 1 0 0 0\n",
      " 0 1 0 0 1 0 0 0 0 1 0 0 0 1 1 0 0 0 0 1 0 1 1 0 1 1 1 1 0 0 1 1 0 1 0 1 1\n",
      " 1 0 0 0 0 0 1 1 1 1 1 1 0 0 1 0 1 0 1 1 1 1 1 0 0 1 1 0 0 0 1 1 0 1 1 0 1\n",
      " 0 1 1 1 0 0 1 1 0 1 1 0 0 1 1 1 1 1 0 1 0 1 1 0 1 1 0 1 1 1 1 1 0 1 0 1 0\n",
      " 0 0 0 1 1 1 1 0 1 1 1 1 0 1 1 0 1 0 1 1 1 0 0 1 1 1 1 1 1 1 1 1 0 0 0 0 0\n",
      " 1 1 1 0 0 0 1 0 1 1 1 1 1 0 1 0 1 0 1 1 1 0 1 0 1 1 0 0 0 1 1 0 0 1 0 1 0\n",
      " 0 1 0 1 0 1 0 0 0 1 1 1 1 0 1 1 1 0 1 0 0 0 1 1 1 0 1 1 1 1 1 1 1 1 0 1 0\n",
      " 1 0 1 0 0 1 1 0 1 0 1 1 1 1 0 0 1 0 0 0 1 0 0 0 0 0 1 0 1 1 0 0 0 0 0 1 0\n",
      " 1 1 1 1 1 1 0 0 1 1 0 0 1 1 0 1 1 1 0 1 0 0 0 1 1 1 1 1 0 1 0 1 1 1 0 0 0\n",
      " 1 0 1 1 0 1 1 1 0 1 0 1 1 1 1 1 1 0 0 1 1 1 1 1 1 1 0 0 0 1 0 1 0 1 1 1 0\n",
      " 1 1 0 1 1 1 1 0 1 0 0 1 1 1 1 0 1 1 1 0 0 1 0 1 1 1 1 1 1 0 0 0 0 0 1 1 1\n",
      " 1 0 0 0 1 1 0 0 0 1 1 0 0 1 1 0 1 1 0 1 1 1 0 1 0 1 0 1 1 1 1 0 1 0 1 0 1\n",
      " 1 0 1 1 1 0 1 1 1 0 1 1 0 1 0 1 1 1 0 0 0 1 1 1 0 0 1 1 1 0 1 0 0 0 1 0 1\n",
      " 1 1 1 1 0 0 0 1 1 1 1 0 0 1 0 0 0 1 0 1 1 1 1 1 0 0 0 1 1 1 1 1 0 0 1 1 0\n",
      " 1 0 0 1 1 1 0 1 0 0 0 0 0 1 0 1 0 0 0 1 1 1 0 1 0 1 1 1 1 1 0 1 1 0 0 1 0\n",
      " 1 0 1 0 0 1 0 1 1 1 1 1 1 0 1 1 1 0 0 0 0 1 1 0 1 0 1 1 0 1 0 0 0 1 0 0 1\n",
      " 0 1 0 0 0 0 1 1 1 1 1 1 1 0 1 1 1 0 1 1 0 1 0 0 1 1 0 0 0 1 0 1 1 1 1 1 1\n",
      " 0 0 0 1 0 1 0 1 0 0 1 1 1 0 0 1 0 1 1 0 0 0 1 0 0 0 1 0 0 0 1 0 1 1 1 0 1\n",
      " 1 1 0 1 1 0 0 1 1 0 1 1 0 1 1 1 0 1 1 1 1 1 1 1 0 0 1 1 1 0 1 0 1 0 1 0 1\n",
      " 1 0 1 0 1 1 1 1 1 0 1 1 0 0 1 0 0 0 0 1 1 1 1 1 0 1 1 0 1 0 1 1 0 1 0 0 1\n",
      " 1 1 1 0 1 1 0 0 0 0 1 0 0 1 0 0 1 0 1 0 1 0 0 0 1 1 0 1 1 1 1 0 0 1 0 1 0\n",
      " 1 1 0 0 1 0 1 0 0 1 1 0 0 0 0 1 1 0 1 1 1 1 0 0 0 1 0 0 1 0 0 0 1 1 0 0 1\n",
      " 1 1 0 0 1 1 0 0 0 0 0 1 1 0 1 1 0 0 1 1 1 1 0 0 0 0 1 0 1 1 0 0 0 1 0 0 1\n",
      " 1 0 1 0 1 1 0 0 0 1 1 1 1 0 1 0 0 1 1 1 0 1 1 0 0 0 0 1 1 1 0 1 1 1 1 0 0\n",
      " 0 1 1 0 0 0 0 1 0 0 0 1 1 1 0 0 1 1 0 0 1 1 0 0 1 0 0 1 0 0 1 0 0 0 0 1 1\n",
      " 1 1 0 1 1 0 1 1 1 0 0 1 0 0 0 0 0 1 0 1 0 0 0 1 1 0 1 0 1 0 0 0 1 1 0 0 0\n",
      " 0 0 0 0 0 0 0 0 1 1 1 1 0 1 1 0 0 1 0 0 1 0 0 0 0 1 0 0 1 1 0 0 1 1 1 1 0\n",
      " 1 0 0 0 1 1 0 0 1 1 1 1 1 0 0 1 1 1 1 1 0 0 1 0 1 0 0 0 1 1 1 1 1 1 1 0 1\n",
      " 0 0 0 1 1 1 0 0 0 1 1 0 0 1 1 1 0 1 1 0 0 0 0 0 0 1 1 0 0 0 1 1 1 1 0 1 1\n",
      " 1 0 1 1 0 0 1 1 0 0 0 0 1 0 1 0 1 1 1 1 1 1 0 0 0 1 1 0 1 1 1 1 1 0 1 0 0\n",
      " 1 1 0 0 1 1 1 0 1 0 1 1 0 1 1 1 0 0 1 1 1 1 1 1 0 0 0 1 1 0 1 0 1 1 1 0 0\n",
      " 1 1 1 0 0 1 0 0 1 0 0 1 1 0 0 1 0 1 1 1 1 1 1 1 1 0 1 0 1 1 1 1 1 1 1 0 0\n",
      " 1 0 0 0 0 0 1 1 0 0 1 1 1 1 1 0 1 0 0 1 1 1 0 1 0 0 0 1 0 1 0 1 1 1 0 1 1\n",
      " 1 0 1 1 0 1 1 1 0 0 0 1 1 0 1 1 0 0 1 1 0 1 1 1 0 1 1 0 1 0 1 1 0 0 1 0 0\n",
      " 0 0 0 1 1 0 0 1 1 1 0 0 1 0 1 1 1 1 1 0 1 1 0 0 0 0 0 0 0 0 1 0 1 1 1 0 0\n",
      " 0 0 0 1 0 0 0 0 1 1 1 0 1 1 1 0 0 1 1 0 1 0 1 1 0 0 0 0 0 0 1 0 0 0 1 1 0\n",
      " 1 1 0 1 0 1 0 1 1 1 1 0 0 0 0 1 0 0 0 1 0 1 1 1 0 0 0 1 0 1 0 1 0 0 0 1 0\n",
      " 0 0 1 0 1 0 1 1 0 1 0 1 1 0 1 0 1 1 1 1 0 0 0 1 0 0 1 0 1 0 1 1 0 0 1 0 1\n",
      " 0 0 1 0 1 0 0 0 0 0 1 1 0 0 1 0 0 1 0 1 1 0 0 0 1 0 0 0 1 1 0 0 0 1 0 1 0\n",
      " 1 0 1 1 0 0 0 0 1 1 0 0 1 1 0 0 0 1 1 0 1 0 1 1 1 1 0 1 1 1 1 1 0 0 1 1 0\n",
      " 1 0 1 0 1 0 1 1 1 0 0 0 0 0 0 1 1 0 1 1 1 0 0 1 0 1 1 1 0 1 1 1 1 0 1 0 0\n",
      " 0 0 1 0 0 0 0 0 1 1 0 0 0 0 1 0 1 1 1 1 1 1 0 0 0 0 1 0 1 0 0 0 0 1 1 0 0\n",
      " 0 1 0 1 1 0 1 1 1 1 0 1 0 0 0 1 1 1 1 0 0 0 1 1 0 1 0 1 1 0 1 1 1 1 0 1 1\n",
      " 0 1 1 1 0 1 1 0 1 0 0 1 1 1 1 0 0 1 1 0 1 0 1 0 1 0 1 0 1 1 0 0 1 1 0 0 1\n",
      " 0 0 0 0 0 1 0 1 0 1 1 1 1 0 0 0 0 0 0 1 1 0 1 0 1 0 1 1 1 0 0 1 0 1 0 0 0\n",
      " 0 0 0 1 1 1 0 1 0 0 0 1 0 1 1 1 1 1 0 1 1 1 0 0 0 0 0 1 0 1 0 0 1 0 1 0 0\n",
      " 1 1 1 1 1 1 0 0 1 1 1 0 1 0 1 1 1 0 1 0 1 0 0 1 0 1 0 1 1 0 0 0 0 1 1 1 0\n",
      " 0 1 1 0 1 0 0 0 0 1 1 0 0 1 1 0 1 0 0 0 1 0 1 1 0 1 0 1 1 0 0 0 1 1 1 1 1\n",
      " 1 1 1 1 1 1 0 1 0 1 1 1 0 1 0 0 1 1 0 0 0 0 0 0 0 1 1 0 1 0 1 1 1 1 1 0 1\n",
      " 1 1 0 0 1 0 0 1 1 0 1 0 0 1 1 1 1 0 0 1 1 1 0 0 0 0 1 1 1 0 0 0 0 0 0 1 1\n",
      " 0 1 0 0 0 0 0 0 1 0 1 0 0 0 1 1 0 0 1 1 1 0 1 1 1 1 0 1 0 1 0 1 1 0 1 0 1\n",
      " 1 1 1 0 0 1 1 0 1 1 1 1 1 1 1 1 0 1 0 0 0 0 1 1 0 0 0 1 1 0 1 0 1 1 0 1 0\n",
      " 0 1 1 0 0 1 1 1 0 1 1 0 0 1 1 1 0 0 0 0 0 0 0 0 0 1 1 0 1 0 0 0 1 1 0 0 0\n",
      " 1 1 1 0 1 1 1 1 1 1 0 0 0 1 1 1 1 0 1 1 0 0 0 0 0 1 1 0 1 1 1 0 0 0 0 0 0\n",
      " 0 1 0 0 1 1 0 1 1 0 0 0 1 0 1 1 0 1 0 1 0 0 0 1 1 0 0 0 0 0 0 0 1 0 0 1 0\n",
      " 1 1 1 1 1 1 0 1 0 0 0 1 1 1 1 0 1 1 0 1 1 0 0 1 0 1 0 0 1 0 1 0 1 0 0 0 0\n",
      " 0 1 1 0 1 0 1 0 0 1 1 1 1 1 1 1 0 1 0 0 1 0 1 0 1 1 1 0 1 0 0 1 1 0 0 1 0\n",
      " 0 0 0 0 1 0 1 0 0 0 1 0 1 0 1 0 0 0 1 1 0 1 1 1 0 1 1 1 1 0 0 0 1 0 0 1 0\n",
      " 0 0 1 1 0 0 0 1 0 0 0 0 1 1 0 0 1 1 1 1 1 1 0 0 0 1 0 0 0 0 0 1 0 1 1 0 0\n",
      " 1 1 1 1 1 1 0 0 0 1 1 1 1 1 0 1 1 1 0 1 0 1 1 0 0 0 0 0 1 1 1 1 1 1 1 0 0\n",
      " 1 0 0 1 1 1 1 1 1 1 0 1 0 1 1 0 0 1 0 0 1 1 0 0 1 0 0 0 0 0 1 1 0 1 0 1 0\n",
      " 0 1 0 0 1 1 0 1 1 0 0 0 1 1 0 1 1 1 0 0 1 0 1 1 1 1 0 1 1 1 1 1 1 0 1 1 1\n",
      " 1 0 1 0 1 1 0 0 0 1 0 1 0 0 1 1 0 1 1 0 0 1 1 1 1 1 0 0 1 1 1 0 0 1 0 1 1\n",
      " 0 1 1 1 0 0 1 1 1 1 0 1 1 1 0 1 0 0 0 0 1 0 0 1 0 0 1 1 1 0 0 1 0 0 0 0 1\n",
      " 0 0 1 1 0 0 1 0 1 1 0 0 1 0 1 0 1 1 1 1 1 1 1 0 1 1 0 1 0 0 1 1 1 0 1 0 0\n",
      " 1 0 1 0 1 1 0 1 1 1 0 0 1 0 0 0 0 0 1 1 1 1 0 1 1 0 1 1 1 1 0 0 0 1 0 1 0\n",
      " 1 1 1 0 1 0 1 0 1 1 0 1 0 0 0 1 0 0 0 0 1 1 1 0 1 0 1 0 1 1 1 1 0 0 1 1 1\n",
      " 1 1 1 1 1 1 1 1 1 1 1 0 0 1 1 0 1 1 1 0 1 0 0 0 0 1 1 0 1 1 0 0 0 0 1 1 1\n",
      " 1 1 0 0 0 1 1 0 0 0 1 0 0 1 1 1 1 1 0 1 0 0 0 0 1 0 0 0 1 1 0 1 1 1 0 0 0\n",
      " 1 1 1 1 0 0 0 0 1 1 0 1 1 1 1 1 0 1 1 0 1 0 0 0 0 1 1 1 0 1 0 1 1 1 0 0 0\n",
      " 1 1 0 0 0 1 1 1 1 1 0 1 0 0 1 0 1 0 1 0 0 1 0 0 1 1 0 0 1 1 0 0 0 0 0 1 1\n",
      " 0 1 1 0 0 0 1 0 1 0 0 1 1 1 0 0 0 1 0 0 0 1 0 0 1 0 0 0 0 0 0 0 1 1 0 0 1\n",
      " 1 0 1 0 0 1 1 1 1 1 0 0 1 0 1 0 0 1 1 1 1 0 0 0 0 1 1 1 1 1 0 1 1 1 1 1 0\n",
      " 1 1 0 0 1 1 0 0 1 0 0 1 1 0 0 1 1 0 1 0 0 1 0 0 0 1 0 1 1 0 1 0 1 0 1 0 0\n",
      " 1 1 1 0 0 1 0 0 1 0 1 0 1 0 1 0 0 1 1 0 0 0 1 0 1 0 1 0 0 0 0 1 1 0 1 1 1\n",
      " 1 1 1 1 1 0 0 1 0 0 1 1 1 1 1 1 0 1 1 0 1 0 1 0 1 0 0 0 1 1 0 0 0 1 0 1 1\n",
      " 0]\n"
     ]
    }
   ],
   "source": [
    "with np.printoptions(threshold=np.inf):\n",
    "    print(Y2_pred)"
   ]
  },
  {
   "cell_type": "markdown",
   "id": "cc2e5a2f",
   "metadata": {},
   "source": [
    "### MATRICE DE CONFUSION"
   ]
  },
  {
   "cell_type": "code",
   "execution_count": 75,
   "id": "2a6b68cc",
   "metadata": {},
   "outputs": [
    {
     "data": {
      "text/plain": [
       "array([[1111,  387],\n",
       "       [ 480, 1464]], dtype=int64)"
      ]
     },
     "execution_count": 75,
     "metadata": {},
     "output_type": "execute_result"
    }
   ],
   "source": [
    "from sklearn.metrics import confusion_matrix\n",
    "CM2 = confusion_matrix(Y_test, Y2_pred)\n",
    "CM2"
   ]
  },
  {
   "cell_type": "code",
   "execution_count": 76,
   "id": "de786552",
   "metadata": {},
   "outputs": [
    {
     "data": {
      "text/plain": [
       "<AxesSubplot:>"
      ]
     },
     "execution_count": 76,
     "metadata": {},
     "output_type": "execute_result"
    },
    {
     "data": {
      "image/png": "[encoded data removed]",
      "text/plain": [
       "<Figure size 432x288 with 2 Axes>"
      ]
     },
     "metadata": {
      "needs_background": "light"
     },
     "output_type": "display_data"
    }
   ],
   "source": [
    "group_names = ['True Neg','False Pos','False Neg','True Pos']\n",
    "group_counts = ['{0:0.0f}'.format(value) for value in\n",
    "                CM2.flatten()]\n",
    "group_percentages = ['{0:.2%}'.format(value) for value in\n",
    "                     CM2.flatten()/np.sum(CM2)]\n",
    "labels = [f'{v1}\\n{v2}\\n{v3}' for v1, v2, v3 in\n",
    "          zip(group_names,group_counts,group_percentages)]\n",
    "labels = np.asarray(labels).reshape(2,2)\n",
    "sns.heatmap(CM2, annot=labels, fmt='', cmap='coolwarm')"
   ]
  },
  {
   "cell_type": "code",
   "execution_count": 77,
   "id": "ca9aa345",
   "metadata": {
    "scrolled": true
   },
   "outputs": [
    {
     "name": "stdout",
     "output_type": "stream",
     "text": [
      "(3442,)\n",
      "[[1111  387]\n",
      " [ 480 1464]]\n"
     ]
    }
   ],
   "source": [
    "print(Y_test.shape)\n",
    "print(CM2)"
   ]
  },
  {
   "cell_type": "markdown",
   "id": "312b43ce",
   "metadata": {},
   "source": [
    "# Courbe roc "
   ]
  },
  {
   "cell_type": "code",
   "execution_count": 78,
   "id": "4a5864c3",
   "metadata": {},
   "outputs": [
    {
     "data": {
      "image/png": "[encoded data removed]",
      "text/plain": [
       "<Figure size 432x288 with 1 Axes>"
      ]
     },
     "metadata": {
      "needs_background": "light"
     },
     "output_type": "display_data"
    }
   ],
   "source": [
    "y_pred_proba2 = rfe2.predict_proba(X_test)[::,1]\n",
    "fpr, tpr, _ = metrics.roc_curve(Y_test,  y_pred_proba2)\n",
    "auc = metrics.roc_auc_score(Y_test, y_pred_proba2)\n",
    "plt.plot(fpr,tpr,label=\"df2, auc=\"+str(auc))\n",
    "plt.legend(loc=4)\n",
    "plt.show()"
   ]
  },
  {
   "cell_type": "markdown",
   "id": "bd8fe5f6",
   "metadata": {},
   "source": [
    "### ACCURACY RATE, ERROR RATE & F1-SCORE"
   ]
  },
  {
   "cell_type": "code",
   "execution_count": 79,
   "id": "b84caee0",
   "metadata": {
    "scrolled": true
   },
   "outputs": [
    {
     "name": "stdout",
     "output_type": "stream",
     "text": [
      "precision : 0.79\n",
      "recall : 0.75\n",
      "Accuracy rate:  0.7481115630447415\n",
      "Error rate:  0.25188843695525853\n",
      "F1_score:  0.7715415019762846\n",
      "CK: 0.49124350333515066\n",
      "MC: 0.4919766415152822\n",
      "AUC: 0.8180384202255957\n"
     ]
    }
   ],
   "source": [
    "Accuracy_Rate2 = accuracy_score(Y_test, Y2_pred)\n",
    "Error_rate2 = 1 - Accuracy_Rate2  # Change variable name to Error_rate2\n",
    "F1_score_logreg2 = f1_score(Y_test, Y2_pred)\n",
    "precision2 = precision_score(Y_test, Y2_pred)\n",
    "recall2 = recall_score(Y_test, Y2_pred)\n",
    "CK2 = cohen_kappa_score(Y_test, Y2_pred)\n",
    "MC2 = matthews_corrcoef(Y_test, Y2_pred)\n",
    "auc2 = metrics.roc_auc_score(Y_test, y_pred_proba2)\n",
    "\n",
    "print(\"precision : {:.2f}\".format(precision2))\n",
    "print(\"recall : {:.2f}\".format(recall2))\n",
    "print(\"Accuracy rate: \", Accuracy_Rate2)\n",
    "print(\"Error rate: \", Error_rate2)\n",
    "print(\"F1_score: \", F1_score_logreg2)\n",
    "print(\"CK:\", CK2)\n",
    "print(\"MC:\", MC2)\n",
    "print(\"AUC:\", auc2)\n"
   ]
  },
  {
   "cell_type": "code",
   "execution_count": 80,
   "id": "8b2e96c7",
   "metadata": {},
   "outputs": [
    {
     "data": {
      "image/png": "[encoded data removed]",
      "text/plain": [
       "<Figure size 576x432 with 1 Axes>"
      ]
     },
     "metadata": {
      "needs_background": "light"
     },
     "output_type": "display_data"
    }
   ],
   "source": [
    "# create a list of metric names and values\n",
    "metric_names = [\"Precision\", \"Recall\", \"Accuracy Rate\", \"Error Rate\", \"F1 Score\", \"CK\", \"MC\",\"AUC\"]\n",
    "metric_values = [precision2, recall2, Accuracy_Rate2, Error_rate2, F1_score_logreg2, CK2, MC2,auc2]\n",
    "\n",
    "# create a bar chart\n",
    "fig, ax = plt.subplots(figsize=(8,6))\n",
    "ax.bar(metric_names, metric_values)\n",
    "ax.set_ylabel('Value')\n",
    "ax.set_ylim([0,1])\n",
    "ax.set_title('Performance Metrics')\n",
    "plt.show()"
   ]
  },
  {
   "cell_type": "markdown",
   "id": "634c0552",
   "metadata": {},
   "source": [
    "# Construction du modèle Random Forest : modèle non linéaire"
   ]
  },
  {
   "cell_type": "markdown",
   "id": "261b54f9",
   "metadata": {},
   "source": [
    "Le modèle de Random Forest est un algorithme d'apprentissage supervisé en Machine Learning qui utilise une combinaison d'arbres de décision pour créer un modèle prédictif.\n",
    "\n",
    "L'idée est de construire plusieurs arbres de décision, en utilisant différents échantillons d'entraînement et des sous-ensembles de fonctionnalités, afin de créer un ensemble de modèles qui travaillent ensemble pour donner une prédiction précise. Les prédictions de chaque arbre sont ensuite agrégées pour donner une prédiction finale.\n",
    "\n",
    "Le modèle de Random Forest peut être utilisé pour la classification et la régression, et est particulièrement utile pour les ensembles de données avec de nombreuses caractéristiques, y compris des variables continues et catégorielles. Il est également robuste aux valeurs manquantes et aux données bruyantes.\n",
    "\n",
    "Les avantages du modèle de Random Forest sont sa précision de prédiction, sa capacité à traiter les données manquantes et bruyantes, et sa capacité à gérer de grandes quantités de données. Cependant, il peut être plus lent à entraîner que d'autres modèles et peut être plus difficile à interpréter en raison de la complexité de l'ensemble d'arbres de décision."
   ]
  },
  {
   "cell_type": "markdown",
   "id": "de00b812",
   "metadata": {},
   "source": [
    "### RF: Boruta"
   ]
  },
  {
   "cell_type": "code",
   "execution_count": 81,
   "id": "0481d6b8",
   "metadata": {},
   "outputs": [],
   "source": [
    "from sklearn.ensemble import RandomForestClassifier\n",
    "from boruta import BorutaPy"
   ]
  },
  {
   "cell_type": "code",
   "execution_count": 82,
   "id": "8307ea4b",
   "metadata": {},
   "outputs": [],
   "source": [
    "X_train_np = X_train.to_numpy()"
   ]
  },
  {
   "cell_type": "code",
   "execution_count": 83,
   "id": "52b45e5a",
   "metadata": {},
   "outputs": [],
   "source": [
    "# Initialiser le modèle de classification Random Forest\n",
    "rf = RandomForestClassifier(n_estimators=100, n_jobs=-1)\n",
    "\n",
    "# let's initialize Boruta\n",
    "feat_selector = BorutaPy(\n",
    "    verbose=2,\n",
    "    estimator=rf,\n",
    "    n_estimators='auto',\n",
    "    max_iter=10  # number of iterations to perform\n",
    ")\n",
    "\n",
    "# train Boruta\n",
    "# N.B.: X and y must be numpy arrays\n",
    "#feat_selector.fit(np.array(X_train), np.array(Y_train))"
   ]
  },
  {
   "cell_type": "code",
   "execution_count": 84,
   "id": "775353f9",
   "metadata": {},
   "outputs": [
    {
     "name": "stdout",
     "output_type": "stream",
     "text": [
      "Iteration: \t1 / 10\n",
      "Confirmed: \t0\n",
      "Tentative: \t128\n",
      "Rejected: \t0\n",
      "Iteration: \t2 / 10\n",
      "Confirmed: \t0\n",
      "Tentative: \t128\n",
      "Rejected: \t0\n",
      "Iteration: \t3 / 10\n",
      "Confirmed: \t0\n",
      "Tentative: \t128\n",
      "Rejected: \t0\n",
      "Iteration: \t4 / 10\n",
      "Confirmed: \t0\n",
      "Tentative: \t128\n",
      "Rejected: \t0\n",
      "Iteration: \t5 / 10\n",
      "Confirmed: \t0\n",
      "Tentative: \t128\n",
      "Rejected: \t0\n",
      "Iteration: \t6 / 10\n",
      "Confirmed: \t0\n",
      "Tentative: \t128\n",
      "Rejected: \t0\n",
      "Iteration: \t7 / 10\n",
      "Confirmed: \t0\n",
      "Tentative: \t128\n",
      "Rejected: \t0\n",
      "Iteration: \t8 / 10\n",
      "Confirmed: \t0\n",
      "Tentative: \t14\n",
      "Rejected: \t114\n",
      "Iteration: \t9 / 10\n",
      "Confirmed: \t1\n",
      "Tentative: \t13\n",
      "Rejected: \t114\n",
      "\n",
      "\n",
      "BorutaPy finished running.\n",
      "\n",
      "Iteration: \t10 / 10\n",
      "Confirmed: \t1\n",
      "Tentative: \t10\n",
      "Rejected: \t114\n",
      "Index(['SEX_M', 'Biologie médicale', 'Service qualité et gestion des risques',\n",
      "       'KARASEK_QUANTITE_RAPIDITE', 'KARASEK_MORCELLEMENT_IMPREVISIBILITE',\n",
      "       'KARASEK_LATITUDE_MARGEMANOEUVRE', 'KARASEK_UTILISATION_COMPETENCE',\n",
      "       'KARASEK_DVLPT_COMPETENCE', 'CESD1', 'CESD7', 'CESD20', 'CESD4',\n",
      "       'CESD8'],\n",
      "      dtype='object')\n"
     ]
    }
   ],
   "source": [
    "# Select features using BorutaPy\n",
    "feat_selector.fit(X_train.values, Y_train.values.ravel())\n",
    "\n",
    "# Get selected features\n",
    "X_train_selected = feat_selector.transform(X_train.values)\n",
    "X_test_selected = feat_selector.transform(X_test.values)\n",
    "\n",
    "# Train a machine learning model using the selected features\n",
    "model = RandomForestClassifier()\n",
    "model.fit(X_train_selected, Y_train)\n",
    "\n",
    "# Get selected features\n",
    "X_train_selected = feat_selector.transform(X_train.values)\n",
    "\n",
    "# Print selected feature names\n",
    "print(selected_feature_names)"
   ]
  },
  {
   "cell_type": "markdown",
   "id": "3554ff62",
   "metadata": {},
   "source": [
    "### LES PARAMETRES "
   ]
  },
  {
   "cell_type": "markdown",
   "id": "993811e2",
   "metadata": {},
   "source": [
    "Les paramètres utilisés dans ce modèle Random Forest sont :\n",
    "\n",
    "#n_estimators : le nombre d'arbres de décision à construire. Plus ce nombre est grand, plus le modèle sera robuste, mais cela peut augmenter le temps d'entraînement. La valeur par défaut est 100.\n",
    "\n",
    "#max_depth : la profondeur maximale de chaque arbre de décision. Une valeur plus grande peut permettre au modèle de mieux s'adapter aux données d'entraînement, mais peut également entraîner un surajustement. La valeur par défaut est None, ce qui signifie que les arbres sont développés jusqu'à ce que toutes les feuilles soient pures ou que le nombre minimal d'échantillons requis pour diviser une feuille soit atteint.\n",
    "\n",
    "#min_samples_split : le nombre minimum d'échantillons requis pour diviser un nœud interne. Si le nombre d'échantillons dans un nœud est inférieur à ce paramètre, le nœud ne sera pas divisé. Une valeur plus grande peut empêcher le modèle de surajuster, mais peut également réduire les performances. La valeur par défaut est 2.\n",
    "\n",
    "#min_samples_leaf : le nombre minimum d'échantillons requis pour être dans une feuille. Si une feuille contient moins d'échantillons que ce paramètre, la division du nœud est annulée. Comme min_samples_split, une valeur plus grande peut empêcher le modèle de surajuster, mais peut également réduire les performances. La valeur par défaut est 1.\n",
    "\n",
    "#random_state : permet de fixer la graine aléatoire pour la reproductibilité des résultats. La valeur par défaut est None, ce qui signifie que chaque exécution peut donner des résultats différents.\n"
   ]
  },
  {
   "cell_type": "markdown",
   "id": "a59f0617",
   "metadata": {},
   "source": [
    "### Faire des prédictions sur l'ensemble de test"
   ]
  },
  {
   "cell_type": "code",
   "execution_count": 85,
   "id": "a704a0ba",
   "metadata": {},
   "outputs": [
    {
     "name": "stdout",
     "output_type": "stream",
     "text": [
      "3209    0\n",
      "3840    0\n",
      "6683    0\n",
      "2030    0\n",
      "9279    1\n",
      "       ..\n",
      "8161    1\n",
      "9205    0\n",
      "8932    1\n",
      "3761    1\n",
      "6002    0\n",
      "Name: BURNOUT_BIN, Length: 3442, dtype: int64\n",
      "[0 1 1 ... 1 1 0]\n"
     ]
    }
   ],
   "source": [
    "Y6_pred = model.predict(X_test_selected)\n",
    "print(Y_test)\n",
    "print(Y6_pred)"
   ]
  },
  {
   "cell_type": "code",
   "execution_count": 86,
   "id": "fa7db75a",
   "metadata": {},
   "outputs": [
    {
     "name": "stdout",
     "output_type": "stream",
     "text": [
      "3209    0\n",
      "3840    0\n",
      "6683    0\n",
      "2030    0\n",
      "9279    1\n",
      "       ..\n",
      "8161    1\n",
      "9205    0\n",
      "8932    1\n",
      "3761    1\n",
      "6002    0\n",
      "Name: BURNOUT_BIN, Length: 3442, dtype: int64\n"
     ]
    }
   ],
   "source": [
    "with np.printoptions(threshold=np.inf):\n",
    "    print(Y_test)"
   ]
  },
  {
   "cell_type": "code",
   "execution_count": 87,
   "id": "9058188b",
   "metadata": {},
   "outputs": [
    {
     "name": "stdout",
     "output_type": "stream",
     "text": [
      "[0 1 1 0 1 1 1 1 0 1 0 1 1 0 0 1 1 1 1 0 1 1 0 0 1 0 1 0 0 1 0 1 1 1 0 0 0\n",
      " 1 0 1 1 0 1 1 1 0 1 1 1 1 1 0 1 0 0 1 1 1 0 1 0 1 0 0 0 0 1 1 0 0 1 1 1 1\n",
      " 1 1 1 1 1 1 1 1 1 1 1 0 1 0 1 0 1 0 1 1 1 1 1 1 0 1 1 1 1 1 1 0 0 0 1 1 1\n",
      " 0 1 1 1 1 0 0 1 0 1 1 1 1 1 1 0 1 1 1 1 1 1 1 1 0 0 0 1 0 0 0 1 1 0 0 0 0\n",
      " 1 1 0 1 1 1 0 1 1 0 1 1 1 0 1 0 1 0 1 1 1 1 1 1 1 0 0 1 1 1 0 1 0 0 1 1 0\n",
      " 0 0 1 1 0 1 1 0 1 1 1 0 1 0 0 1 0 1 1 1 0 0 1 1 1 1 1 1 1 0 1 0 0 1 1 1 1\n",
      " 0 0 1 0 0 0 1 0 1 1 1 0 0 1 1 1 1 1 1 1 0 1 1 1 1 0 1 0 1 1 1 1 0 1 0 1 1\n",
      " 0 0 1 1 0 0 0 1 0 1 0 1 1 0 0 1 1 1 1 1 1 0 0 0 0 1 1 0 0 1 1 1 1 1 1 1 1\n",
      " 1 0 1 1 1 0 0 0 0 1 1 1 0 1 0 0 1 0 1 0 1 1 0 1 1 1 1 1 1 1 1 1 0 1 1 0 0\n",
      " 0 0 1 1 1 1 1 0 1 1 1 0 1 0 1 1 0 1 1 1 1 1 1 0 1 1 0 1 0 1 0 1 1 1 1 1 0\n",
      " 1 0 0 1 0 0 1 1 1 1 1 1 1 1 0 1 1 0 1 1 1 1 1 1 1 0 1 0 0 1 1 1 0 1 1 0 0\n",
      " 1 0 1 1 1 1 1 1 1 1 1 1 1 0 1 0 0 1 1 0 0 1 1 0 0 1 1 1 1 1 1 1 1 1 1 0 1\n",
      " 1 1 1 0 1 1 0 0 1 0 0 1 1 1 0 1 0 1 0 1 1 0 0 1 0 1 1 0 0 1 1 0 0 1 0 0 1\n",
      " 1 0 1 1 1 0 1 1 1 1 1 0 0 1 0 1 1 1 0 1 1 1 1 1 0 0 0 0 1 0 0 1 0 0 0 1 1\n",
      " 1 1 1 1 0 1 0 1 1 0 1 1 1 0 0 1 1 0 1 1 1 1 1 1 1 1 1 1 1 0 1 1 0 1 1 1 1\n",
      " 0 0 1 0 0 0 0 0 1 1 1 0 1 1 1 0 1 1 1 1 0 0 1 1 0 1 0 1 1 1 0 1 1 1 0 1 1\n",
      " 1 0 0 0 1 1 0 0 1 1 1 1 1 0 0 0 1 1 1 0 1 1 1 1 1 1 1 0 1 1 0 1 0 1 1 1 1\n",
      " 0 1 1 1 1 1 1 1 1 0 1 0 1 1 1 1 1 1 0 1 1 1 1 1 1 1 1 0 0 1 1 0 1 1 1 0 1\n",
      " 0 1 0 0 1 0 0 1 0 1 0 0 1 1 1 0 0 0 1 1 0 1 1 0 1 1 1 1 0 0 1 0 0 1 0 1 0\n",
      " 1 1 0 0 1 0 1 1 1 1 1 1 0 0 1 0 1 0 1 1 1 1 1 1 0 1 1 0 0 0 1 1 0 1 1 1 1\n",
      " 0 1 1 1 0 1 1 1 0 1 1 1 1 1 1 1 1 1 1 1 0 1 1 0 1 1 0 1 1 1 1 1 0 1 1 1 0\n",
      " 0 1 1 1 1 1 1 0 1 1 1 1 0 1 1 1 1 1 1 0 1 0 0 1 1 1 1 1 1 1 1 1 1 1 1 1 0\n",
      " 1 1 1 0 1 0 1 1 1 1 1 0 1 0 1 0 1 0 1 1 1 0 0 0 1 1 0 0 0 1 1 1 0 1 1 1 0\n",
      " 1 1 0 1 0 1 0 0 0 1 1 1 1 0 1 1 1 0 1 0 1 1 1 1 0 0 1 1 1 1 1 1 1 1 1 1 0\n",
      " 1 0 1 0 0 1 1 0 1 0 1 1 1 1 1 0 1 0 1 0 1 0 0 0 0 1 1 1 1 1 1 0 0 1 1 1 1\n",
      " 1 1 1 0 1 0 0 1 1 1 1 0 1 1 0 1 1 1 1 1 0 0 0 1 1 1 1 1 1 1 1 1 1 1 0 1 0\n",
      " 1 1 1 1 0 1 1 1 1 1 0 1 1 1 0 1 1 1 0 1 1 1 1 1 1 1 1 1 1 1 1 1 0 1 1 1 1\n",
      " 1 1 0 1 1 0 1 0 1 0 1 1 1 1 1 0 1 1 1 1 1 1 0 1 1 1 1 1 1 0 0 0 0 1 1 1 1\n",
      " 1 0 1 0 1 1 0 0 0 1 1 1 1 1 1 0 1 1 0 1 1 1 0 1 0 1 0 1 1 1 1 0 1 0 1 0 1\n",
      " 1 0 1 1 1 1 1 1 1 0 1 1 1 0 1 1 1 1 0 0 0 1 1 1 1 0 1 1 1 0 1 0 0 0 1 0 1\n",
      " 1 1 1 1 1 1 0 1 1 0 1 1 0 1 0 0 0 1 0 1 1 0 1 1 0 0 0 1 1 0 1 1 0 0 1 1 0\n",
      " 0 1 1 0 1 1 0 1 1 0 1 0 0 1 0 1 1 0 0 1 0 1 1 1 0 1 1 1 1 1 0 1 0 0 0 1 0\n",
      " 1 0 1 0 1 1 1 1 1 1 1 1 0 1 0 1 1 1 0 1 1 0 1 0 1 0 1 1 0 1 0 0 0 1 1 0 1\n",
      " 0 1 0 0 0 1 1 1 1 0 1 1 1 0 1 1 1 1 1 1 0 1 0 1 1 1 1 1 1 1 0 1 1 1 1 1 1\n",
      " 0 0 0 1 0 1 1 1 1 1 1 1 1 1 1 1 0 1 1 1 1 1 1 0 0 1 1 0 0 0 1 1 1 1 1 0 1\n",
      " 1 1 0 1 1 1 0 1 1 0 1 0 0 1 0 1 1 1 1 1 1 1 1 1 1 0 1 1 1 0 1 0 1 0 1 0 1\n",
      " 1 0 1 1 1 1 1 0 1 1 1 1 0 0 1 1 1 1 1 1 1 0 0 1 0 1 1 1 1 0 1 1 0 1 0 1 1\n",
      " 0 0 1 0 1 1 0 0 1 1 1 1 1 1 1 0 1 1 0 0 1 0 0 1 1 1 1 1 1 1 1 1 1 1 0 1 0\n",
      " 1 1 0 1 1 0 1 0 1 0 1 0 0 0 1 1 1 1 1 1 1 0 0 0 0 0 0 0 1 1 0 0 1 1 0 1 1\n",
      " 1 1 1 0 1 1 0 0 0 1 0 0 1 0 1 1 0 1 1 0 1 1 0 1 0 1 0 1 1 1 0 1 0 1 0 0 1\n",
      " 1 0 1 0 1 1 0 0 0 1 1 1 0 0 1 1 0 1 1 1 0 0 1 1 0 0 0 1 1 1 0 1 1 1 1 0 1\n",
      " 1 0 1 1 1 0 1 1 1 0 0 1 1 0 1 0 1 1 1 1 1 1 0 0 1 0 1 1 1 1 0 0 1 0 1 1 1\n",
      " 1 1 1 1 0 0 1 1 0 0 0 0 1 1 0 0 0 1 0 1 0 0 1 1 1 1 1 0 1 0 0 1 1 1 0 0 1\n",
      " 0 0 0 0 1 0 1 1 1 1 1 1 0 1 1 1 0 1 0 0 1 1 0 0 0 1 0 1 1 1 0 1 0 0 1 1 0\n",
      " 1 0 0 1 0 1 0 0 1 1 1 1 1 0 0 1 1 1 1 1 0 0 1 0 1 0 0 1 1 1 1 1 1 1 1 0 1\n",
      " 1 0 1 0 1 0 0 0 0 1 1 0 0 1 1 1 1 1 1 0 0 0 0 0 0 1 0 0 0 1 1 1 1 1 1 1 1\n",
      " 1 1 1 1 0 0 1 1 0 1 0 0 1 0 1 0 1 1 1 0 1 1 0 0 0 1 1 0 1 1 1 1 1 1 1 1 0\n",
      " 1 1 1 0 1 1 1 1 1 1 1 0 0 1 1 1 0 0 1 1 1 1 1 0 0 0 1 0 1 0 1 0 1 0 1 0 1\n",
      " 1 1 1 0 0 1 1 0 1 0 1 1 0 0 0 1 0 1 1 1 1 1 1 1 1 0 1 0 1 1 1 1 1 1 1 0 1\n",
      " 1 0 0 0 0 0 1 1 1 0 1 1 1 0 1 1 1 0 0 1 0 1 0 1 0 0 1 1 1 1 1 1 1 1 0 1 1\n",
      " 1 0 1 1 0 1 1 0 0 0 0 1 1 1 1 1 1 0 1 1 0 1 1 1 0 1 1 0 1 1 0 1 1 1 0 1 0\n",
      " 0 0 0 1 0 0 0 1 1 1 0 0 0 0 1 1 1 1 1 0 1 1 1 0 0 1 0 0 0 0 1 1 1 1 1 0 0\n",
      " 1 0 0 1 1 0 0 1 1 0 0 0 1 1 1 0 0 1 1 0 1 1 1 1 0 0 0 0 1 1 1 0 0 0 1 1 0\n",
      " 1 1 1 1 1 1 1 1 1 1 1 1 0 1 0 1 0 0 0 1 1 1 1 1 0 0 0 1 0 0 0 1 0 1 0 1 0\n",
      " 0 1 1 0 1 1 1 1 0 1 0 1 1 0 1 0 1 1 1 1 0 0 1 1 0 0 1 0 1 1 1 1 1 1 1 1 1\n",
      " 0 0 1 0 1 1 1 1 0 0 1 1 0 0 1 1 0 1 0 1 1 0 1 1 1 0 0 1 1 1 0 1 1 1 0 1 1\n",
      " 1 0 1 1 0 0 0 1 1 1 0 0 1 1 0 0 0 1 1 1 1 1 1 1 1 1 1 1 1 1 1 1 1 1 1 1 0\n",
      " 1 1 1 0 1 0 1 1 1 0 0 1 0 1 1 1 1 0 1 1 0 0 0 1 1 1 1 1 1 1 1 1 1 1 1 0 1\n",
      " 0 0 1 0 1 0 0 0 1 1 1 1 0 0 1 0 1 1 1 1 1 1 1 1 1 1 1 0 1 0 1 0 1 1 1 0 0\n",
      " 0 1 0 1 1 0 1 1 0 1 0 0 0 0 0 1 1 1 1 0 0 0 1 1 0 1 1 1 1 0 1 1 1 1 1 1 1\n",
      " 0 1 1 1 0 1 1 1 1 0 0 1 1 1 1 0 1 0 1 0 1 0 1 1 1 1 1 1 1 1 1 1 1 1 0 0 0\n",
      " 1 1 1 0 0 1 1 1 0 1 1 1 1 0 0 0 1 0 1 1 1 0 1 1 1 0 0 1 1 0 1 1 1 1 1 0 0\n",
      " 0 1 0 1 1 1 0 1 1 0 0 1 0 0 1 1 1 1 1 1 1 1 0 0 0 1 0 1 0 1 1 0 1 1 1 1 1\n",
      " 1 1 1 1 1 1 0 0 1 1 1 0 0 1 1 1 1 0 1 0 1 0 0 1 0 0 0 1 1 0 0 0 0 1 1 1 1\n",
      " 0 1 1 1 1 1 1 0 0 1 1 0 0 1 1 0 1 0 1 1 1 0 0 1 0 0 0 1 1 0 0 0 1 1 1 1 1\n",
      " 0 1 1 1 1 1 0 1 1 1 1 1 0 1 0 0 1 1 0 1 0 0 0 0 0 1 1 0 1 1 1 1 1 0 1 0 1\n",
      " 1 1 0 1 1 1 0 1 1 0 1 1 0 1 0 1 1 0 1 1 1 0 1 0 1 0 1 0 1 0 1 0 1 1 1 1 1\n",
      " 1 1 0 1 1 0 0 1 1 0 1 1 1 0 1 1 0 1 1 0 1 1 1 1 1 1 0 1 0 1 1 1 1 0 0 0 1\n",
      " 1 1 1 1 0 1 1 0 1 1 1 1 1 1 1 1 1 1 1 0 0 1 1 1 1 0 1 1 1 0 1 1 1 1 0 1 1\n",
      " 1 1 1 1 1 1 1 1 1 1 1 1 1 1 1 1 0 0 0 0 0 0 1 1 0 1 1 0 1 0 1 0 1 1 0 0 1\n",
      " 1 1 1 0 0 1 1 1 1 1 0 0 1 1 1 1 1 0 1 1 1 0 0 1 0 1 1 1 0 1 1 1 0 1 1 0 0\n",
      " 1 1 0 0 1 0 1 1 1 0 0 0 1 0 1 1 0 1 1 1 1 1 0 1 1 0 0 0 0 0 0 1 1 0 0 1 1\n",
      " 1 1 1 1 1 1 0 1 0 0 0 1 1 1 1 1 1 1 1 1 1 1 0 1 1 1 1 1 1 0 1 0 1 0 0 0 1\n",
      " 0 1 1 0 1 0 1 1 0 1 1 1 1 1 1 1 0 1 0 0 0 0 0 0 1 1 1 0 1 0 0 1 1 0 0 1 0\n",
      " 0 1 0 1 1 0 1 0 0 0 1 1 1 0 1 0 1 0 1 0 0 1 1 1 0 1 1 1 1 0 1 0 0 1 0 1 0\n",
      " 0 0 1 1 1 1 0 1 1 0 0 0 1 1 1 0 1 1 1 1 1 0 0 0 0 1 0 1 1 0 0 1 1 1 1 0 0\n",
      " 0 1 1 1 1 1 0 0 1 1 1 1 1 1 0 1 1 1 1 1 1 1 1 1 0 0 1 0 1 1 1 1 1 1 1 0 0\n",
      " 1 1 0 1 1 1 1 1 1 1 1 1 1 1 0 1 0 1 0 1 1 1 1 0 1 0 1 0 0 0 1 1 0 1 1 1 1\n",
      " 1 1 1 1 1 1 0 1 1 0 0 0 1 1 0 1 1 1 1 1 1 0 1 1 1 1 0 1 1 0 1 1 1 1 1 0 1\n",
      " 1 1 1 0 1 1 1 0 0 0 0 1 1 1 1 1 0 1 0 0 0 1 1 1 1 1 1 0 1 1 1 0 1 1 0 1 1\n",
      " 1 1 1 1 0 0 1 1 1 1 1 1 1 1 1 1 0 0 0 0 0 0 0 0 1 1 1 1 1 0 0 1 0 1 1 0 1\n",
      " 0 1 1 1 1 0 1 0 1 1 0 0 1 1 1 0 1 1 0 0 1 1 1 1 1 1 0 1 0 0 1 1 0 0 1 1 0\n",
      " 0 0 1 0 1 0 0 1 1 1 0 1 0 0 0 0 0 0 1 1 0 1 0 1 0 1 1 1 1 1 0 0 1 1 1 1 1\n",
      " 1 1 1 0 1 1 1 1 1 1 1 1 0 1 0 0 1 0 0 0 1 1 1 0 1 0 1 1 1 1 1 1 1 0 1 1 1\n",
      " 1 1 1 1 1 1 0 1 1 1 1 0 0 1 1 0 1 1 0 1 1 0 1 1 0 1 1 1 1 1 1 1 1 1 1 1 1\n",
      " 1 0 0 1 1 1 1 1 1 1 1 0 1 1 1 1 1 1 1 1 0 0 1 0 1 0 0 0 0 1 0 1 1 1 0 1 0\n",
      " 1 1 1 1 0 0 1 0 1 1 0 1 1 1 1 1 1 1 1 1 1 0 1 0 1 1 1 1 1 1 0 1 1 0 0 0 0\n",
      " 1 1 1 0 0 1 1 1 0 1 0 1 0 0 1 0 1 1 1 0 0 1 0 0 1 1 1 1 1 1 1 1 0 0 1 1 1\n",
      " 0 1 1 0 0 0 1 0 1 0 1 1 1 0 0 0 0 1 0 0 0 1 1 0 1 0 1 1 0 1 0 1 1 1 1 0 1\n",
      " 1 1 0 1 0 1 1 1 1 1 0 1 0 1 1 1 1 1 1 1 1 1 0 0 0 1 1 1 1 1 1 1 1 1 1 1 0\n",
      " 1 1 0 0 1 0 0 0 1 1 0 1 1 1 1 1 1 1 1 0 0 1 0 0 1 1 0 1 1 0 1 0 1 0 1 0 1\n",
      " 1 1 1 0 0 1 1 1 1 0 0 1 1 0 1 1 0 1 1 0 0 0 0 0 0 1 0 0 1 0 0 1 1 1 1 1 1\n",
      " 0 1 1 0 1 0 1 0 1 1 1 1 1 1 1 1 1 1 1 0 1 1 0 0 1 0 1 1 1 1 0 0 0 1 1 1 1\n",
      " 0]\n"
     ]
    }
   ],
   "source": [
    "with np.printoptions(threshold=np.inf):\n",
    "    print(Y6_pred)"
   ]
  },
  {
   "cell_type": "code",
   "execution_count": 88,
   "id": "9ec8bf0d",
   "metadata": {},
   "outputs": [
    {
     "data": {
      "text/plain": [
       "array([[ 821,  677],\n",
       "       [ 371, 1573]], dtype=int64)"
      ]
     },
     "execution_count": 88,
     "metadata": {},
     "output_type": "execute_result"
    }
   ],
   "source": [
    "from sklearn.metrics import confusion_matrix\n",
    "CM6 = confusion_matrix(Y_test, Y6_pred)\n",
    "CM6"
   ]
  },
  {
   "cell_type": "code",
   "execution_count": 89,
   "id": "4eca0b59",
   "metadata": {},
   "outputs": [
    {
     "data": {
      "text/plain": [
       "<AxesSubplot:>"
      ]
     },
     "execution_count": 89,
     "metadata": {},
     "output_type": "execute_result"
    },
    {
     "data": {
      "image/png": "[encoded data removed]",
      "text/plain": [
       "<Figure size 432x288 with 2 Axes>"
      ]
     },
     "metadata": {
      "needs_background": "light"
     },
     "output_type": "display_data"
    }
   ],
   "source": [
    "group_names = ['True Neg','False Pos','False Neg','True Pos']\n",
    "group_counts = ['{0:0.0f}'.format(value) for value in\n",
    "                CM6.flatten()]\n",
    "group_percentages = ['{0:.2%}'.format(value) for value in\n",
    "                     CM6.flatten()/np.sum(CM6)]\n",
    "labels = [f'{v1}\\n{v2}\\n{v3}' for v1, v2, v3 in\n",
    "          zip(group_names,group_counts,group_percentages)]\n",
    "labels = np.asarray(labels).reshape(2,2)\n",
    "sns.heatmap(CM6, annot=labels, fmt='', cmap='Pastel1')"
   ]
  },
  {
   "cell_type": "code",
   "execution_count": 90,
   "id": "cf8ba365",
   "metadata": {
    "scrolled": true
   },
   "outputs": [
    {
     "name": "stdout",
     "output_type": "stream",
     "text": [
      "(3442,)\n",
      "[[ 821  677]\n",
      " [ 371 1573]]\n"
     ]
    }
   ],
   "source": [
    "print(Y_test.shape)\n",
    "print(CM6)"
   ]
  },
  {
   "cell_type": "markdown",
   "id": "d4975d8c",
   "metadata": {},
   "source": [
    "# Courbe roc "
   ]
  },
  {
   "cell_type": "code",
   "execution_count": 91,
   "id": "c19b0514",
   "metadata": {},
   "outputs": [
    {
     "data": {
      "image/png": "[encoded data removed]",
      "text/plain": [
       "<Figure size 432x288 with 1 Axes>"
      ]
     },
     "metadata": {
      "needs_background": "light"
     },
     "output_type": "display_data"
    }
   ],
   "source": [
    "y_pred_proba6 = model.predict_proba(X_test_selected)[::,1]\n",
    "fpr, tpr, _ = metrics.roc_curve(Y_test,  y_pred_proba6)\n",
    "auc = metrics.roc_auc_score(Y_test, y_pred_proba6)\n",
    "plt.plot(fpr,tpr,label=\"df2, auc=\"+str(auc))\n",
    "plt.legend(loc=4)  #Y6_pred = model.predict(X_test_selected)\n",
    "plt.show()\n",
    "# La courbe roc montre la spécifité et la sensibilité"
   ]
  },
  {
   "cell_type": "markdown",
   "id": "e5d39665",
   "metadata": {},
   "source": [
    "### ACCURACY RATE, ERROR RATE & F1-SCORE"
   ]
  },
  {
   "cell_type": "code",
   "execution_count": 92,
   "id": "7b431fdd",
   "metadata": {},
   "outputs": [
    {
     "name": "stdout",
     "output_type": "stream",
     "text": [
      "precision : 0.70\n",
      "recall : 0.81\n",
      "Accuracy rate:  0.6955258570598489\n",
      "Error rate:  0.30447414294015107\n",
      "F1_score:  0.7501192179303767\n",
      "CK: 0.36579187404223956\n",
      "MC: 0.37222966420382314\n",
      "AUC: 0.7283499054981402\n"
     ]
    }
   ],
   "source": [
    "Accuracy_Rate6 = accuracy_score(Y_test, Y6_pred)\n",
    "Error_rate6 = 1 - Accuracy_Rate6  # Change variable name to Error_rate2\n",
    "F1_score_logreg6 = f1_score(Y_test, Y6_pred)\n",
    "precision6 = precision_score(Y_test, Y6_pred)\n",
    "recall6 = recall_score(Y_test, Y6_pred)\n",
    "CK6 = cohen_kappa_score(Y_test, Y6_pred)\n",
    "MC6 = matthews_corrcoef(Y_test, Y6_pred)\n",
    "auc3 = metrics.roc_auc_score(Y_test, y_pred_proba6)\n",
    "\n",
    "print(\"precision : {:.2f}\".format(precision6))\n",
    "print(\"recall : {:.2f}\".format(recall6))\n",
    "print(\"Accuracy rate: \", Accuracy_Rate6)\n",
    "print(\"Error rate: \", Error_rate6)\n",
    "print(\"F1_score: \", F1_score_logreg6)\n",
    "print(\"CK:\", CK6)\n",
    "print(\"MC:\", MC6)\n",
    "print(\"AUC:\", auc3)"
   ]
  },
  {
   "cell_type": "code",
   "execution_count": 93,
   "id": "44e15cc0",
   "metadata": {},
   "outputs": [
    {
     "data": {
      "image/png": "[encoded data removed]",
      "text/plain": [
       "<Figure size 576x432 with 1 Axes>"
      ]
     },
     "metadata": {
      "needs_background": "light"
     },
     "output_type": "display_data"
    }
   ],
   "source": [
    "# create a list of metric names and values\n",
    "metric_names = [\"Precision\", \"Recall\", \"Accuracy Rate\", \"Error Rate\", \"F1 Score\", \"CK\", \"MC\",\"AUC\"]\n",
    "metric_values = [precision6, recall6, Accuracy_Rate6, Error_rate6, F1_score_logreg6, CK6, MC6,auc3]\n",
    "\n",
    "# create a bar chart\n",
    "fig, ax = plt.subplots(figsize=(8,6))\n",
    "ax.bar(metric_names, metric_values)\n",
    "ax.set_ylabel('Value')\n",
    "ax.set_ylim([0,1])\n",
    "ax.set_title('Performance Metrics')\n",
    "plt.show()"
   ]
  },
  {
   "cell_type": "markdown",
   "id": "7190f7f8",
   "metadata": {},
   "source": [
    "# Construction du modèle Gradient Boosting : modèle non linéaire"
   ]
  },
  {
   "cell_type": "markdown",
   "id": "8ffefe90",
   "metadata": {},
   "source": [
    "Le Gradient Boosting est une technique d'apprentissage automatique utilisée pour résoudre des problèmes de régression et de classification. C'est une méthode d'ensemble qui combine plusieurs modèles de prédiction plus faibles (souvent des arbres de décision) pour former un modèle plus fort.\n",
    "\n",
    "Le Gradient Boosting fonctionne en ajustant successivement les modèles pour minimiser les erreurs de prédiction du modèle précédent. À chaque étape, le Gradient Boosting calcule les résidus (différences entre les valeurs réelles et prédites) du modèle précédent, puis ajuste un nouveau modèle pour prédire ces résidus. Le résultat final est une combinaison pondérée de tous les modèles.\n",
    "\n",
    "Le Gradient Boosting est efficace pour résoudre les problèmes de classification et de régression non linéaires, et est largement utilisé dans de nombreux domaines tels que la finance, la biologie et l'analyse de données. Cependant, il peut être assez sensible aux hyperparamètres et nécessite une optimisation minutieuse pour atteindre les meilleures performances."
   ]
  },
  {
   "cell_type": "markdown",
   "id": "12a75c7e",
   "metadata": {},
   "source": [
    "### GB: Boruta"
   ]
  },
  {
   "cell_type": "code",
   "execution_count": 94,
   "id": "099952e2",
   "metadata": {},
   "outputs": [],
   "source": [
    "from sklearn.ensemble import GradientBoostingClassifier"
   ]
  },
  {
   "cell_type": "code",
   "execution_count": 95,
   "id": "012669ef",
   "metadata": {},
   "outputs": [],
   "source": [
    "# Initialisation du modèle de classification Gradient Boosting\n",
    "gb = GradientBoostingClassifier(learning_rate=0.1, n_estimators=100, min_samples_leaf=1, max_features=None,\n",
    "                                           max_depth=3, min_samples_split=2, random_state=42)\n",
    "\n",
    "# Entraînement du modèle sur l'ensemble d'entraînement\n",
    "#gb_classifier.fit(X_train, Y_train)\n"
   ]
  },
  {
   "cell_type": "code",
   "execution_count": 96,
   "id": "83039dc5",
   "metadata": {},
   "outputs": [],
   "source": [
    "# let's initialize Boruta\n",
    "feat_selector2 = BorutaPy(\n",
    "    verbose=2,\n",
    "    estimator=gb,\n",
    "    n_estimators='auto',\n",
    "    max_iter=10  # number of iterations to perform\n",
    ")\n",
    "\n",
    "# train Boruta\n",
    "# N.B.: X and y must be numpy arrays\n",
    "#feat_selector.fit(np.array(X_train), np.array(Y_train))"
   ]
  },
  {
   "cell_type": "code",
   "execution_count": 97,
   "id": "13618f3e",
   "metadata": {
    "scrolled": true
   },
   "outputs": [
    {
     "name": "stdout",
     "output_type": "stream",
     "text": [
      "Iteration: \t1 / 10\n",
      "Confirmed: \t0\n",
      "Tentative: \t128\n",
      "Rejected: \t0\n",
      "Iteration: \t2 / 10\n",
      "Confirmed: \t0\n",
      "Tentative: \t128\n",
      "Rejected: \t0\n",
      "Iteration: \t3 / 10\n",
      "Confirmed: \t0\n",
      "Tentative: \t128\n",
      "Rejected: \t0\n",
      "Iteration: \t4 / 10\n",
      "Confirmed: \t0\n",
      "Tentative: \t128\n",
      "Rejected: \t0\n",
      "Iteration: \t5 / 10\n",
      "Confirmed: \t0\n",
      "Tentative: \t128\n",
      "Rejected: \t0\n",
      "Iteration: \t6 / 10\n",
      "Confirmed: \t0\n",
      "Tentative: \t128\n",
      "Rejected: \t0\n",
      "Iteration: \t7 / 10\n",
      "Confirmed: \t0\n",
      "Tentative: \t128\n",
      "Rejected: \t0\n",
      "Iteration: \t8 / 10\n",
      "Confirmed: \t12\n",
      "Tentative: \t4\n",
      "Rejected: \t112\n",
      "Iteration: \t9 / 10\n",
      "Confirmed: \t12\n",
      "Tentative: \t4\n",
      "Rejected: \t112\n",
      "\n",
      "\n",
      "BorutaPy finished running.\n",
      "\n",
      "Iteration: \t10 / 10\n",
      "Confirmed: \t12\n",
      "Tentative: \t1\n",
      "Rejected: \t112\n",
      "Index(['SEX_M', 'Biologie médicale', 'Service qualité et gestion des risques',\n",
      "       'KARASEK_QUANTITE_RAPIDITE', 'KARASEK_MORCELLEMENT_IMPREVISIBILITE',\n",
      "       'KARASEK_LATITUDE_MARGEMANOEUVRE', 'KARASEK_UTILISATION_COMPETENCE',\n",
      "       'KARASEK_DVLPT_COMPETENCE', 'CESD1', 'CESD7', 'CESD20', 'CESD4',\n",
      "       'CESD8'],\n",
      "      dtype='object')\n"
     ]
    }
   ],
   "source": [
    "# Select features using BorutaPy\n",
    "feat_selector2.fit(X_train.values, Y_train.values.ravel())\n",
    "\n",
    "# Get selected features\n",
    "X_train_selected = feat_selector2.transform(X_train.values)\n",
    "X_test_selected = feat_selector2.transform(X_test.values)\n",
    "\n",
    "# Train a machine learning model using the selected features\n",
    "model2 = GradientBoostingClassifier()\n",
    "model2.fit(X_train_selected, Y_train)\n",
    "\n",
    "# Get selected features\n",
    "X_train_selected = feat_selector2.transform(X_train.values)\n",
    "# Print selected feature names\n",
    "print(selected_feature_names)"
   ]
  },
  {
   "cell_type": "markdown",
   "id": "c32c4763",
   "metadata": {},
   "source": [
    "#### LES PARAMETRES "
   ]
  },
  {
   "cell_type": "markdown",
   "id": "a7d5ba1f",
   "metadata": {},
   "source": [
    "#n_estimators : C'est le nombre d'arbres de décision dans le modèle. Plus il y a d'arbres, plus le modèle peut apprendre de relations complexes entre les variables d'entrée et les sorties souhaitées. Cependant, cela peut également rendre le modèle plus complexe et augmenter le risque de surapprentissage. Il est donc important de trouver un équilibre entre le nombre d'estimateurs et les performances de prédiction.\n",
    "\n",
    "#learning_rate : Il s'agit du taux d'apprentissage, qui détermine la vitesse à laquelle le modèle apprend des erreurs de prédiction. Un taux d'apprentissage plus élevé signifie que le modèle s'adapte plus rapidement aux erreurs, mais cela peut également augmenter le risque de surapprentissage. Un taux d'apprentissage plus faible signifie que le modèle prend plus de temps pour s'adapter aux erreurs, mais cela peut également aider à prévenir le surapprentissage.\n",
    "\n",
    "#max_depth : C'est la profondeur maximale de chaque arbre de décision. Une profondeur plus grande signifie que chaque arbre peut apprendre des relations plus complexes entre les variables d'entrée et les sorties souhaitées, mais cela peut également rendre le modèle plus complexe et augmenter le risque de surapprentissage. Il est donc important de trouver un équilibre entre la profondeur maximale et les performances de prédiction.\n",
    "\n",
    "#min_samples_split : C'est le nombre minimal d'échantillons requis pour diviser un nœud. Si le nombre d'échantillons dans un nœud est inférieur à cette valeur, le nœud ne sera pas divisé. Cela peut aider à prévenir le surapprentissage en limitant le nombre de nœuds créés et en favorisant les divisions qui ont une contribution significative à la prédiction.\n",
    "\n",
    "#min_samples_leaf : C'est le nombre minimal d'échantillons requis pour être une feuille. Si le nombre d'échantillons dans une feuille est inférieur à cette valeur, la feuille sera fusionnée avec une autre feuille. Cela peut aider à prévenir le surapprentissage en limitant le nombre de feuilles créées et en favorisant les feuilles qui ont une contribution significative à la prédiction.\n",
    "\n",
    "#max_features : C'est le nombre maximal de fonctionnalités à considérer lors de la recherche de la meilleure division. Si None, alors toutes les fonctionnalités sont considérées, sinon, une valeur entière doit être passée. Limiter le nombre de fonctionnalités peut aider à réduire la complexité du modèle et à prévenir le surapprentissage."
   ]
  },
  {
   "cell_type": "markdown",
   "id": "7e78f241",
   "metadata": {},
   "source": [
    "### Faire des prédictions sur l'ensemble de test"
   ]
  },
  {
   "cell_type": "code",
   "execution_count": 98,
   "id": "3fe3b0d5",
   "metadata": {
    "scrolled": true
   },
   "outputs": [
    {
     "name": "stdout",
     "output_type": "stream",
     "text": [
      "3209    0\n",
      "3840    0\n",
      "6683    0\n",
      "2030    0\n",
      "9279    1\n",
      "       ..\n",
      "8161    1\n",
      "9205    0\n",
      "8932    1\n",
      "3761    1\n",
      "6002    0\n",
      "Name: BURNOUT_BIN, Length: 3442, dtype: int64\n",
      "[0 1 0 ... 1 1 0]\n"
     ]
    }
   ],
   "source": [
    "Y8_pred = model2.predict(X_test_selected)\n",
    "print(Y_test)\n",
    "print(Y8_pred)"
   ]
  },
  {
   "cell_type": "code",
   "execution_count": 99,
   "id": "1fd87f9a",
   "metadata": {},
   "outputs": [],
   "source": [
    "from sklearn.metrics import accuracy_score"
   ]
  },
  {
   "cell_type": "code",
   "execution_count": 100,
   "id": "7cfe7741",
   "metadata": {},
   "outputs": [
    {
     "name": "stdout",
     "output_type": "stream",
     "text": [
      "Précision :  0.7391051714119697\n"
     ]
    }
   ],
   "source": [
    "# Calcul de la précision du modèle\n",
    "accuracy = accuracy_score(Y_test, Y8_pred)\n",
    "print(\"Précision : \", accuracy)"
   ]
  },
  {
   "cell_type": "code",
   "execution_count": 101,
   "id": "bd340219",
   "metadata": {},
   "outputs": [
    {
     "name": "stdout",
     "output_type": "stream",
     "text": [
      "3209    0\n",
      "3840    0\n",
      "6683    0\n",
      "2030    0\n",
      "9279    1\n",
      "       ..\n",
      "8161    1\n",
      "9205    0\n",
      "8932    1\n",
      "3761    1\n",
      "6002    0\n",
      "Name: BURNOUT_BIN, Length: 3442, dtype: int64\n"
     ]
    }
   ],
   "source": [
    "with np.printoptions(threshold=np.inf):\n",
    "    print(Y_test)"
   ]
  },
  {
   "cell_type": "code",
   "execution_count": 102,
   "id": "88234830",
   "metadata": {},
   "outputs": [
    {
     "name": "stdout",
     "output_type": "stream",
     "text": [
      "[0 1 0 0 0 0 1 1 1 0 0 1 0 1 0 1 1 0 1 0 1 1 0 0 0 0 1 0 1 1 0 1 0 1 1 0 0\n",
      " 0 0 1 1 0 1 0 1 0 1 1 1 0 1 0 0 0 0 1 1 1 0 1 0 1 0 0 0 0 1 1 1 0 1 1 1 1\n",
      " 1 1 1 1 1 1 1 1 1 0 1 0 1 1 0 0 1 0 0 1 1 1 1 1 0 0 1 0 0 1 1 0 0 0 0 1 0\n",
      " 0 1 1 0 1 0 1 0 0 1 1 1 1 0 1 0 1 1 1 1 1 1 1 0 0 1 0 1 0 0 0 1 1 0 0 0 1\n",
      " 1 1 1 1 1 1 0 1 1 0 1 1 1 1 1 1 0 0 1 1 1 1 1 0 1 0 0 1 0 1 1 0 0 1 1 1 0\n",
      " 0 0 1 1 0 1 1 0 1 1 1 0 1 1 1 0 0 0 0 0 0 0 1 1 1 1 1 1 1 0 1 0 0 1 1 1 1\n",
      " 0 0 1 0 0 0 1 1 1 1 1 0 0 0 1 1 1 1 1 1 0 1 1 1 1 0 1 0 1 1 1 1 0 1 0 1 1\n",
      " 0 0 1 1 1 1 0 1 0 1 0 1 1 0 0 1 1 1 1 1 1 1 0 0 0 1 0 0 0 0 1 1 0 1 1 1 1\n",
      " 1 0 0 1 1 0 1 0 0 1 1 1 0 1 0 1 1 0 0 0 1 1 0 1 0 1 1 1 1 0 1 1 0 0 1 0 0\n",
      " 0 0 1 0 1 1 1 0 0 1 0 0 0 1 0 1 0 0 0 1 1 0 0 1 0 1 0 0 0 0 0 0 0 1 1 1 1\n",
      " 1 0 0 1 0 0 1 1 0 0 1 1 1 1 0 1 1 0 1 1 1 1 1 1 1 0 1 0 0 1 0 1 0 1 1 0 0\n",
      " 1 0 1 0 1 1 0 1 1 1 1 0 1 0 1 0 1 1 0 0 0 1 1 0 0 1 1 1 1 0 1 1 1 0 1 0 1\n",
      " 0 1 1 0 1 1 1 0 1 0 0 1 1 1 0 1 0 0 0 1 1 0 0 1 0 1 1 0 0 1 1 1 1 1 0 1 1\n",
      " 1 0 0 1 1 1 0 1 1 1 1 0 0 1 0 1 1 1 0 1 1 1 1 1 0 0 0 0 0 0 0 1 0 1 0 0 1\n",
      " 0 1 1 1 0 1 0 1 1 1 1 0 1 0 1 1 0 0 1 1 1 1 1 1 0 1 1 1 0 0 1 1 1 1 0 1 1\n",
      " 0 1 1 0 0 0 0 1 1 0 0 0 1 0 1 0 1 1 0 1 0 0 1 1 0 1 0 0 1 1 0 0 1 1 0 0 1\n",
      " 1 1 0 0 1 1 0 0 1 0 0 1 1 0 0 0 1 1 1 0 1 1 0 0 1 1 1 1 1 1 0 0 0 1 1 1 1\n",
      " 0 1 1 1 0 1 1 1 0 1 1 0 1 1 1 1 0 1 0 1 1 1 1 1 1 0 1 0 1 1 1 0 1 1 0 0 0\n",
      " 0 1 0 0 1 0 0 0 0 1 0 0 1 1 1 0 0 0 0 1 0 1 1 0 1 1 1 1 0 0 1 1 0 1 0 1 1\n",
      " 1 0 0 0 0 0 1 1 1 1 1 1 0 0 1 0 1 0 1 1 1 1 1 1 0 1 1 0 1 0 1 1 0 1 1 0 1\n",
      " 0 1 1 1 0 0 1 1 0 1 1 1 1 0 1 1 1 1 0 1 0 1 1 0 1 1 0 1 1 1 0 1 0 1 0 1 0\n",
      " 0 0 0 1 1 1 1 0 1 1 1 1 0 1 1 0 1 0 1 1 1 1 0 1 1 1 1 1 1 1 1 1 0 0 0 1 0\n",
      " 1 1 1 0 0 0 1 1 1 0 1 1 1 0 1 0 1 0 1 1 1 1 1 0 1 1 0 1 1 1 1 0 0 1 0 1 0\n",
      " 0 1 0 1 0 1 0 0 1 1 1 1 1 0 1 1 1 0 1 0 0 0 1 1 1 0 1 1 1 1 1 1 1 1 1 1 0\n",
      " 1 0 1 0 0 1 1 0 1 0 1 0 1 1 0 0 1 0 0 0 1 0 0 0 0 0 1 0 1 1 0 0 0 0 0 0 0\n",
      " 1 1 1 1 1 1 0 0 1 1 1 0 1 1 0 1 1 1 0 1 0 0 0 1 1 1 1 1 0 1 0 1 1 1 0 0 0\n",
      " 1 1 1 1 0 0 1 1 0 0 0 1 1 1 0 1 0 0 0 1 1 1 1 1 1 1 0 0 1 1 0 0 0 1 1 1 0\n",
      " 1 1 0 1 1 0 1 1 1 0 0 1 1 1 1 0 1 1 1 0 0 0 0 1 1 1 1 1 1 0 0 1 0 0 1 1 1\n",
      " 1 0 0 0 1 1 0 0 0 1 1 0 0 1 1 0 1 1 0 1 1 1 0 1 0 1 0 1 1 1 1 0 1 0 1 0 1\n",
      " 1 0 1 1 1 0 1 1 1 0 1 1 0 1 0 1 1 1 1 0 0 1 1 1 0 0 1 1 1 0 1 0 0 0 1 0 1\n",
      " 1 1 1 1 0 0 0 1 1 1 1 1 0 1 0 1 0 1 0 1 1 1 1 1 0 0 0 1 1 1 1 1 0 0 1 1 0\n",
      " 1 0 0 1 1 1 0 1 0 0 1 0 0 1 0 1 0 0 0 1 0 1 0 1 0 1 1 1 1 1 1 1 1 0 0 1 0\n",
      " 1 0 1 0 1 1 0 1 1 1 1 1 1 0 1 1 1 0 0 1 0 1 1 0 1 0 1 1 0 1 0 0 0 1 1 0 1\n",
      " 0 1 0 0 0 0 1 1 1 1 1 1 1 1 1 1 1 1 1 1 0 1 0 0 1 1 0 0 0 1 0 1 1 1 1 1 1\n",
      " 1 0 0 1 0 1 0 1 0 0 1 1 0 0 1 1 0 1 1 0 0 1 1 0 0 0 1 0 0 0 1 0 1 1 1 0 1\n",
      " 1 1 1 1 1 1 0 1 1 0 1 1 0 1 1 1 1 1 1 1 1 1 1 1 1 0 1 1 1 0 1 0 1 0 1 0 1\n",
      " 1 0 1 0 1 1 0 1 1 0 1 1 0 0 1 0 0 0 0 1 1 1 1 1 0 1 1 0 1 0 1 1 0 1 0 1 1\n",
      " 0 1 1 0 1 1 0 0 0 1 1 0 0 1 1 0 1 0 1 0 1 0 0 0 1 1 1 1 1 1 1 0 1 1 0 1 0\n",
      " 1 1 0 0 1 0 1 0 0 0 1 0 0 0 0 1 1 0 1 1 1 1 0 0 0 1 0 0 1 0 0 0 1 1 0 0 1\n",
      " 1 1 0 0 1 1 0 0 0 1 0 1 1 0 1 1 1 0 1 1 1 1 0 0 0 0 1 0 1 1 0 0 0 1 0 0 1\n",
      " 1 1 1 0 1 0 0 1 0 1 1 0 0 0 1 0 0 1 1 1 0 1 1 0 0 0 0 1 1 1 0 1 1 1 1 0 0\n",
      " 0 1 1 0 0 1 0 1 0 1 0 1 1 1 0 0 1 1 0 1 1 1 0 0 0 0 1 0 0 0 1 0 1 0 0 1 1\n",
      " 1 1 0 1 1 0 1 1 1 0 0 1 1 0 0 1 0 1 0 1 0 0 0 1 1 0 1 0 1 0 0 1 1 1 0 0 1\n",
      " 0 1 0 0 0 0 0 0 1 1 1 1 1 1 1 0 0 1 0 0 1 0 1 0 0 1 0 0 1 1 0 0 1 1 1 1 1\n",
      " 1 0 0 0 1 1 0 1 1 1 1 1 1 0 0 1 1 1 1 1 0 0 1 0 1 0 0 0 1 1 1 0 1 0 1 0 0\n",
      " 0 0 0 1 1 1 0 0 0 1 1 0 0 1 1 1 1 1 1 0 0 0 0 0 0 1 1 0 0 0 0 1 1 1 0 1 1\n",
      " 1 1 1 1 0 0 1 1 0 0 0 0 1 0 1 0 1 1 0 1 1 1 0 0 0 1 1 0 1 1 1 1 1 0 0 1 0\n",
      " 1 1 1 0 1 1 1 0 1 0 1 1 0 1 1 1 0 0 1 1 1 1 1 1 1 0 0 1 1 0 1 0 1 1 1 0 1\n",
      " 1 1 1 0 0 1 0 0 1 0 0 1 1 0 1 1 0 1 1 1 1 1 1 1 1 0 1 0 1 1 1 1 1 1 1 0 0\n",
      " 1 0 0 0 0 0 1 1 0 1 1 1 1 1 1 1 1 0 0 1 1 1 0 1 0 0 0 1 0 1 1 1 1 1 0 1 1\n",
      " 1 0 1 1 0 0 1 1 0 0 0 1 1 0 1 1 0 0 1 1 0 1 1 1 0 1 1 1 1 0 1 1 0 0 1 0 0\n",
      " 0 0 0 1 1 0 0 1 1 1 1 0 0 0 1 1 1 1 1 0 1 1 0 0 0 1 0 0 0 0 1 0 1 1 1 0 1\n",
      " 0 0 0 1 1 0 0 0 1 0 1 0 1 1 1 0 0 1 1 0 0 0 1 1 0 0 0 0 0 0 1 0 0 0 1 1 0\n",
      " 1 1 0 1 0 1 0 1 1 1 1 0 1 0 0 1 0 0 0 1 0 1 0 1 0 0 1 1 0 1 0 1 0 0 0 1 0\n",
      " 0 0 1 0 1 0 1 1 0 1 0 1 1 0 1 0 1 1 1 1 0 0 0 1 0 0 1 0 1 0 1 1 0 0 1 0 0\n",
      " 0 0 0 0 1 0 0 0 0 0 1 1 0 0 1 1 0 1 0 1 1 0 0 0 1 0 0 0 1 1 0 0 0 1 0 1 0\n",
      " 1 0 1 1 0 0 0 0 1 1 0 0 1 1 0 0 0 1 1 0 1 0 1 1 1 0 0 1 1 1 1 1 0 0 1 1 0\n",
      " 1 0 1 0 1 0 1 1 1 0 0 0 0 1 0 1 1 0 1 1 1 0 0 1 0 1 1 1 0 1 1 1 1 0 1 0 0\n",
      " 0 0 1 0 0 0 0 0 1 1 0 0 0 0 1 0 1 1 0 1 1 1 0 1 0 0 1 0 1 0 0 0 0 1 1 0 0\n",
      " 0 1 0 1 1 0 1 1 1 1 0 1 0 0 0 1 1 1 1 0 0 0 0 1 0 1 1 0 1 0 1 0 1 1 0 1 1\n",
      " 0 1 1 1 0 1 1 0 1 0 0 1 1 1 1 0 0 1 1 0 1 0 1 0 1 0 1 0 0 1 0 0 1 1 0 0 1\n",
      " 0 0 0 0 0 1 0 1 0 1 1 1 1 0 0 0 0 0 0 1 1 0 1 0 1 0 1 1 1 0 0 0 0 1 1 0 0\n",
      " 0 0 0 1 1 1 0 1 0 0 0 1 0 1 1 1 1 1 1 1 1 1 0 0 0 0 0 1 0 1 0 0 1 0 1 1 0\n",
      " 1 1 1 1 1 1 1 0 1 1 1 0 1 0 0 1 1 0 1 0 1 0 0 1 0 1 0 1 1 0 0 0 0 1 1 1 0\n",
      " 0 1 1 1 1 0 1 0 0 1 1 0 0 1 1 0 1 0 0 0 1 0 1 1 0 1 0 1 1 0 0 0 1 1 1 0 1\n",
      " 0 1 1 1 1 1 0 1 1 1 1 1 0 1 0 0 1 1 0 0 0 0 0 0 0 1 1 0 1 0 1 1 1 1 1 0 1\n",
      " 1 1 0 0 1 0 0 1 1 0 1 0 0 1 0 1 1 0 0 1 1 1 0 0 0 1 1 1 1 0 0 0 1 0 0 1 1\n",
      " 0 1 0 0 1 0 1 0 1 0 1 0 1 0 1 1 0 0 1 1 1 0 1 1 1 1 0 1 0 1 0 1 1 0 1 0 1\n",
      " 1 1 1 1 0 1 1 0 1 1 1 1 1 1 1 1 0 1 0 0 0 0 0 1 0 0 1 1 1 0 1 0 1 1 0 1 0\n",
      " 1 1 1 0 0 1 1 1 0 1 1 0 0 1 1 1 0 1 0 0 0 1 0 0 0 1 1 0 1 0 0 0 1 1 0 0 0\n",
      " 1 1 1 0 1 1 1 1 1 1 0 0 0 1 1 1 1 0 1 1 1 0 0 0 0 0 1 0 1 1 1 0 0 0 0 0 0\n",
      " 0 1 1 0 1 1 0 1 1 0 0 0 1 0 1 1 0 1 0 1 0 0 0 0 1 0 0 0 0 0 0 0 1 0 0 1 1\n",
      " 0 1 1 1 1 1 0 1 0 0 0 1 1 1 1 0 1 1 0 1 1 0 0 1 0 0 0 0 1 0 1 0 1 0 0 0 0\n",
      " 0 1 1 0 1 0 1 1 0 1 1 1 1 1 1 1 0 1 0 0 1 0 1 0 0 1 1 0 1 0 0 1 1 0 0 1 0\n",
      " 0 0 0 0 1 0 1 0 0 0 1 0 1 0 1 0 0 0 1 1 0 1 1 1 0 1 1 1 1 1 0 0 1 0 0 1 0\n",
      " 0 0 1 1 1 0 0 1 1 0 0 0 1 1 0 0 1 1 1 1 1 1 1 0 0 0 0 0 0 0 0 0 0 1 1 0 0\n",
      " 1 1 1 1 1 1 0 0 1 1 1 1 1 1 1 1 1 1 1 1 1 1 1 0 0 0 0 0 1 1 1 1 1 1 1 0 0\n",
      " 1 0 0 1 1 1 1 1 1 1 0 0 0 1 1 1 0 1 0 0 1 1 0 1 1 0 0 0 0 0 1 1 0 1 1 1 1\n",
      " 0 1 1 0 1 1 0 1 1 0 0 0 1 1 0 0 1 1 0 0 0 0 1 1 1 1 0 1 1 1 1 1 1 0 1 0 0\n",
      " 1 0 1 0 1 1 0 1 0 1 0 1 0 0 1 1 0 1 1 0 0 0 1 1 0 1 1 0 1 1 1 0 0 0 0 1 1\n",
      " 0 1 1 1 0 1 1 1 1 1 1 1 1 1 0 1 0 0 0 0 1 0 0 1 1 0 1 1 1 0 0 1 0 0 0 1 1\n",
      " 0 0 1 1 1 0 1 0 1 1 0 0 1 0 1 0 1 1 1 1 1 1 1 0 1 1 0 1 0 0 1 1 1 0 1 0 0\n",
      " 1 1 1 0 1 0 0 1 1 1 0 0 1 0 0 0 0 0 1 1 0 1 0 1 1 1 1 1 1 1 0 0 1 1 0 1 0\n",
      " 1 1 1 0 1 0 1 0 0 1 0 1 0 0 0 1 0 0 0 0 1 1 1 0 1 0 1 1 1 1 1 1 0 0 1 1 1\n",
      " 1 1 1 1 1 1 1 1 1 1 1 1 0 1 1 0 1 1 1 0 1 0 0 0 0 1 1 0 1 1 0 1 0 0 1 1 1\n",
      " 1 1 0 0 0 1 1 0 0 0 1 0 1 1 1 1 1 1 0 1 0 0 0 0 1 0 0 0 1 1 0 1 1 1 0 0 0\n",
      " 1 1 1 1 0 0 0 0 1 1 0 1 1 1 1 1 0 1 1 0 1 0 0 0 0 1 1 1 0 1 0 1 1 1 0 0 0\n",
      " 1 1 0 0 0 1 1 1 1 1 0 1 0 0 1 0 1 0 1 0 0 1 0 0 1 1 0 0 1 1 1 0 0 0 1 0 1\n",
      " 0 1 1 0 0 0 1 0 1 0 0 1 1 1 0 0 0 1 0 0 0 1 0 0 1 0 0 1 0 0 1 0 1 1 0 0 1\n",
      " 0 1 1 0 0 1 1 1 1 1 0 0 1 0 1 1 0 1 1 1 1 0 0 0 0 1 1 1 1 1 0 1 1 1 1 1 0\n",
      " 1 1 0 0 1 1 1 0 1 0 0 1 1 0 0 1 1 0 1 0 0 1 0 0 0 1 0 1 1 0 1 0 1 0 1 0 1\n",
      " 1 1 1 0 0 1 1 0 1 0 1 0 1 0 1 0 0 1 1 1 0 0 1 0 1 0 0 0 1 0 0 1 1 0 1 1 1\n",
      " 1 1 1 1 1 0 0 1 0 1 1 1 1 1 1 1 0 1 1 0 1 0 0 0 1 0 0 0 1 1 0 0 0 1 0 1 1\n",
      " 0]\n"
     ]
    }
   ],
   "source": [
    "with np.printoptions(threshold=np.inf):\n",
    "    print(Y8_pred)"
   ]
  },
  {
   "cell_type": "code",
   "execution_count": 103,
   "id": "f1b315e9",
   "metadata": {},
   "outputs": [
    {
     "data": {
      "text/plain": [
       "array([[1058,  440],\n",
       "       [ 458, 1486]], dtype=int64)"
      ]
     },
     "execution_count": 103,
     "metadata": {},
     "output_type": "execute_result"
    }
   ],
   "source": [
    "from sklearn.metrics import confusion_matrix\n",
    "CM8 = confusion_matrix(Y_test, Y8_pred)\n",
    "CM8"
   ]
  },
  {
   "cell_type": "code",
   "execution_count": 104,
   "id": "381e8421",
   "metadata": {},
   "outputs": [
    {
     "data": {
      "text/plain": [
       "<AxesSubplot:>"
      ]
     },
     "execution_count": 104,
     "metadata": {},
     "output_type": "execute_result"
    },
    {
     "data": {
      "image/png": "[encoded data removed]",
      "text/plain": [
       "<Figure size 432x288 with 2 Axes>"
      ]
     },
     "metadata": {
      "needs_background": "light"
     },
     "output_type": "display_data"
    }
   ],
   "source": [
    "group_names = ['True Neg','False Pos','False Neg','True Pos']\n",
    "group_counts = ['{0:0.0f}'.format(value) for value in\n",
    "                CM8.flatten()]\n",
    "group_percentages = ['{0:.2%}'.format(value) for value in\n",
    "                     CM8.flatten()/np.sum(CM8)]\n",
    "labels = [f'{v1}\\n{v2}\\n{v3}' for v1, v2, v3 in\n",
    "          zip(group_names,group_counts,group_percentages)]\n",
    "labels = np.asarray(labels).reshape(2,2)\n",
    "sns.heatmap(CM8, annot=labels, fmt='', cmap='crest')"
   ]
  },
  {
   "cell_type": "code",
   "execution_count": 105,
   "id": "04852024",
   "metadata": {
    "scrolled": true
   },
   "outputs": [
    {
     "name": "stdout",
     "output_type": "stream",
     "text": [
      "(3442,)\n",
      "[[1058  440]\n",
      " [ 458 1486]]\n"
     ]
    }
   ],
   "source": [
    "print(Y_test.shape)\n",
    "print(CM8)"
   ]
  },
  {
   "cell_type": "markdown",
   "id": "e4610469",
   "metadata": {},
   "source": [
    "# Courbe roc "
   ]
  },
  {
   "cell_type": "code",
   "execution_count": 106,
   "id": "35a8893b",
   "metadata": {},
   "outputs": [
    {
     "data": {
      "image/png": "[encoded data removed]",
      "text/plain": [
       "<Figure size 432x288 with 1 Axes>"
      ]
     },
     "metadata": {
      "needs_background": "light"
     },
     "output_type": "display_data"
    }
   ],
   "source": [
    "y_pred_proba8 = model2.predict_proba(X_test_selected)[::,1]\n",
    "fpr, tpr, _ = metrics.roc_curve(Y_test,  y_pred_proba8)\n",
    "auc4 = metrics.roc_auc_score(Y_test, y_pred_proba8)\n",
    "plt.plot(fpr,tpr,label=\"df1, auc=\"+str(auc))\n",
    "plt.legend(loc=4)\n",
    "plt.show()\n",
    "# La courbe roc montre la spécifité et la sensibilité"
   ]
  },
  {
   "cell_type": "markdown",
   "id": "5840bfc0",
   "metadata": {},
   "source": [
    "### ACCURACY RATE, ERROR RATE & F1-SCORE"
   ]
  },
  {
   "cell_type": "code",
   "execution_count": 107,
   "id": "416f4c59",
   "metadata": {},
   "outputs": [
    {
     "name": "stdout",
     "output_type": "stream",
     "text": [
      "precision : 0.77\n",
      "recall : 0.76\n",
      "Accuracy rate:  0.7391051714119697\n",
      "Error rate:  0.26089482858803026\n",
      "F1_score:  0.7679586563307494\n",
      "CK: 0.47003044450068343\n",
      "AUC: 0.8137070277516798\n"
     ]
    }
   ],
   "source": [
    "Accuracy_Rate8 = accuracy_score(Y_test, Y8_pred)\n",
    "Error_rate8 = 1 - Accuracy_Rate8  # Change variable name to Error_rate2\n",
    "F1_score_logreg8 = f1_score(Y_test, Y8_pred)\n",
    "precision8 = precision_score(Y_test, Y8_pred)\n",
    "recall8 = recall_score(Y_test, Y8_pred)\n",
    "CK8 = cohen_kappa_score(Y_test, Y8_pred)\n",
    "MC8 = matthews_corrcoef(Y_test, Y8_pred)\n",
    "auc4 = metrics.roc_auc_score(Y_test, y_pred_proba8)\n",
    "\n",
    "print(\"precision : {:.2f}\".format(precision8))\n",
    "print(\"recall : {:.2f}\".format(recall8))\n",
    "print(\"Accuracy rate: \", Accuracy_Rate8)\n",
    "print(\"Error rate: \", Error_rate8)\n",
    "print(\"F1_score: \", F1_score_logreg8)\n",
    "print(\"CK:\", CK8)\n",
    "print(\"AUC:\", auc4)"
   ]
  },
  {
   "cell_type": "code",
   "execution_count": 108,
   "id": "5bb5ba3f",
   "metadata": {},
   "outputs": [
    {
     "data": {
      "image/png": "[encoded data removed]",
      "text/plain": [
       "<Figure size 576x432 with 1 Axes>"
      ]
     },
     "metadata": {
      "needs_background": "light"
     },
     "output_type": "display_data"
    }
   ],
   "source": [
    "# create a list of metric names and values\n",
    "metric_names = [\"Precision\", \"Recall\", \"Accuracy Rate\", \"Error Rate\", \"F1 Score\", \"CK\", \"MC\",\"AUC\"]\n",
    "metric_values = [precision8, recall8, Accuracy_Rate8, Error_rate8, F1_score_logreg8, CK8, MC8,auc4]\n",
    "\n",
    "# create a bar chart\n",
    "fig, ax = plt.subplots(figsize=(8,6))\n",
    "ax.bar(metric_names, metric_values)\n",
    "ax.set_ylabel('Value')\n",
    "ax.set_ylim([0,1])\n",
    "ax.set_title('Performance Metrics')\n",
    "plt.show()"
   ]
  },
  {
   "cell_type": "code",
   "execution_count": 109,
   "id": "4f359839",
   "metadata": {
    "scrolled": false
   },
   "outputs": [
    {
     "data": {
      "image/png": "[encoded data removed]",
      "text/plain": [
       "<Figure size 720x432 with 1 Axes>"
      ]
     },
     "metadata": {
      "needs_background": "light"
     },
     "output_type": "display_data"
    }
   ],
   "source": [
    "# Données de performance pour chaque modèle\n",
    "model_data = {\n",
    "    'RL': {\n",
    "        'Précision': precision,\n",
    "        'Rappel': recall,\n",
    "        'Taux de précision': Accuracy_Rate,\n",
    "        'Taux d\\'erreur': Error_rate,\n",
    "        'Score F1': F1_score_logreg,\n",
    "        'CK': CK,\n",
    "        'MC': MC,\n",
    "        'AUC': auc\n",
    "    },\n",
    "    'SVM': {\n",
    "        'Précision': precision2,\n",
    "        'Rappel': recall2,\n",
    "        'Taux de précision': Accuracy_Rate2,\n",
    "        'Taux d\\'erreur': Error_rate2,\n",
    "        'Score F1': F1_score_logreg2,\n",
    "        'CK': CK2,\n",
    "        'MC': MC2,\n",
    "        'AUC': auc2\n",
    "    },\n",
    "    'RDF': {\n",
    "        'Précision': precision6,\n",
    "        'Rappel': recall6,\n",
    "        'Taux de précision': Accuracy_Rate6,\n",
    "        'Taux d\\'erreur': Error_rate6,\n",
    "        'Score F1': F1_score_logreg6,\n",
    "        'CK': CK6,\n",
    "        'MC': MC6,\n",
    "        'AUC': auc3\n",
    "    },\n",
    "    'GB': {\n",
    "        'Précision': precision8,\n",
    "        'Rappel': recall8,\n",
    "        'Taux de précision': Accuracy_Rate8,\n",
    "        'Taux d\\'erreur': Error_rate8,\n",
    "        'Score F1': F1_score_logreg8,\n",
    "        'CK': CK8,\n",
    "        'MC': MC8,\n",
    "        'AUC': auc4\n",
    "    }\n",
    "}\n",
    "\n",
    "# Créer une nouvelle figure\n",
    "plt.figure(figsize=(10, 6))\n",
    "\n",
    "# Liste des métriques de performance à tracer\n",
    "performance_metrics = list(model_data['RL'].keys())\n",
    "\n",
    "# Couleurs pour chaque métrique\n",
    "colors = ['r', 'g', 'b', 'y', 'm', 'c', 'k','#FFA500']\n",
    "\n",
    "# Tracer chaque métrique de performance pour chaque modèle\n",
    "for i, metric in enumerate(performance_metrics):\n",
    "    values = [model_data[model][metric] for model in model_data]\n",
    "    plt.plot(list(model_data.keys()), values, color=colors[i], label=metric)\n",
    "\n",
    "# Ajouter une légende et un titre\n",
    "plt.legend(loc='center left', bbox_to_anchor=(1, 0.5))\n",
    "plt.title('Comparaison de modèle')\n",
    "\n",
    "# Ajuster les limites des axes\n",
    "plt.ylim([0, 1])\n",
    "plt.xlim([-0.5, len(model_data)-0.5])\n",
    "\n",
    "# Nommer les axes\n",
    "plt.xlabel('Modèles')\n",
    "plt.ylabel('Score')\n",
    "\n",
    "\n",
    "# Afficher le graphique\n",
    "plt.show()"
   ]
  },
  {
   "cell_type": "code",
   "execution_count": 110,
   "id": "4dbe57db",
   "metadata": {},
   "outputs": [
    {
     "data": {
      "image/png": "[encoded data removed]",
      "text/plain": [
       "<Figure size 1080x504 with 1 Axes>"
      ]
     },
     "metadata": {
      "needs_background": "light"
     },
     "output_type": "display_data"
    }
   ],
   "source": [
    "# Données de performance pour chaque modèle\n",
    "model_data = {\n",
    "    'RL': {\n",
    "        'precision': precision,\n",
    "        'recall': recall,\n",
    "        'accuracy': Accuracy_Rate,\n",
    "        'error': Error_rate,\n",
    "        'f1_score': F1_score_logreg,\n",
    "        'CK': CK,\n",
    "        'MC': MC,\n",
    "        'AUC': auc\n",
    "    },\n",
    "    'SVM': {\n",
    "        'precision': precision2,\n",
    "        'recall': recall2,\n",
    "        'accuracy': Accuracy_Rate2,\n",
    "        'error': Error_rate2,\n",
    "        'f1_score': F1_score_logreg2,\n",
    "        'CK': CK2,\n",
    "        'MC': MC2,\n",
    "        'AUC': auc2\n",
    "    },\n",
    "    'RDF': {\n",
    "        'precision': precision6,\n",
    "        'recall': recall6,\n",
    "        'accuracy': Accuracy_Rate6,\n",
    "        'error': Error_rate6,\n",
    "        'f1_score': F1_score_logreg6,\n",
    "        'CK': CK6,\n",
    "        'MC': MC6,\n",
    "        'AUC': auc3\n",
    "    },\n",
    "    'GB': {\n",
    "        'precision': precision8,\n",
    "        'recall': recall8,\n",
    "        'accuracy': Accuracy_Rate8,\n",
    "        'error': Error_rate8,\n",
    "        'f1_score': F1_score_logreg8,\n",
    "        'CK': CK8,\n",
    "        'MC': MC8,\n",
    "        'AUC': auc4\n",
    "    }\n",
    "}\n",
    "\n",
    "# Créer un DataFrame pour chaque métrique de performance\n",
    "precision_df = pd.DataFrame.from_dict({k: v['precision'] for k, v in model_data.items()}, orient='index')\n",
    "recall_df = pd.DataFrame.from_dict({k: v['recall'] for k, v in model_data.items()}, orient='index')\n",
    "accuracy_df = pd.DataFrame.from_dict({k: v['accuracy'] for k, v in model_data.items()}, orient='index')\n",
    "error_df = pd.DataFrame.from_dict({k: v['error'] for k, v in model_data.items()}, orient='index')\n",
    "f1_score_df = pd.DataFrame.from_dict({k: v['f1_score'] for k, v in model_data.items()}, orient='index')\n",
    "CK_df = pd.DataFrame.from_dict({k: v['CK'] for k, v in model_data.items()}, orient='index')\n",
    "MC_df = pd.DataFrame.from_dict({k: v['MC'] for k, v in model_data.items()}, orient='index')\n",
    "AUC_df = pd.DataFrame.from_dict({k: v['AUC'] for k, v in model_data.items()}, orient='index')\n",
    "\n",
    "# Placer tous les tableaux dans une liste pour les concaténer horizontalement\n",
    "dfs = [precision_df, recall_df, accuracy_df, error_df, f1_score_df, CK_df, MC_df, AUC_df]\n",
    "\n",
    "# Concaténer horizontalement les tableaux pour créer un seul DataFrame\n",
    "results_df = pd.concat(dfs, axis=1)\n",
    "\n",
    "# Renommer les colonnes pour qu'elles correspondent aux métriques de performance\n",
    "results_df.columns = ['precision', 'recall', 'accuracy', 'error', 'f1_score', 'CK', 'MC', 'AUC']\n",
    "\n",
    "# Tracer les performances de chaque modèle pour chaque métrique\n",
    "results_df.plot(kind='bar',figsize=(15, 7))\n",
    "plt.title('Comparaison de modèle')\n",
    "plt.ylabel('Score')\n",
    "plt.legend(loc='center left', bbox_to_anchor=(1, 0.5))\n",
    "plt.show()"
   ]
  },
  {
   "cell_type": "markdown",
   "id": "aba0bed7",
   "metadata": {},
   "source": [
    "# DEEP LEARNING"
   ]
  },
  {
   "cell_type": "markdown",
   "id": "f1363541",
   "metadata": {},
   "source": [
    "### Artificial Neural Network (ANN)"
   ]
  },
  {
   "cell_type": "markdown",
   "id": "87053cba",
   "metadata": {},
   "source": [
    "Le réseau de neurones artificiels (ANN) est un modèle d'apprentissage en profondeur (Deep Learning) qui vise à imiter le fonctionnement du cerveau humain pour résoudre des problèmes complexes tels que la reconnaissance de motifs, la classification et la prédiction. Le modèle est constitué de plusieurs couches de neurones artificiels, chacune avec une fonction d'activation qui permet au modèle de capturer des relations non linéaires dans les données.\n",
    "\n",
    "L'ANN est généralement entraîné à l'aide de la méthode de la rétropropagation (backpropagation), qui ajuste les poids de chaque neurone pour minimiser la fonction de coût. Le modèle peut être utilisé pour la classification et la régression, et peut gérer des données structurées et non structurées telles que des images, des séquences de texte et des séries chronologiques.\n",
    "\n",
    "Les avantages de l'ANN comprennent sa capacité à apprendre à partir de grandes quantités de données et à capturer des relations complexes dans les données. Cependant, l'entraînement du modèle peut être coûteux en termes de temps de calcul et de ressources de calcul nécessaires, et il peut être difficile d'interpréter les résultats du modèle."
   ]
  },
  {
   "cell_type": "code",
   "execution_count": 111,
   "id": "02283ff2",
   "metadata": {},
   "outputs": [],
   "source": [
    "import keras\n",
    "from keras.models import Sequential # C'est le module qui va nous permettre d'initialiser le reseau de neuronne \n",
    "from keras.layers import Dense # C'est le module qui nous permet de créer les couches des réseaux de neuronne \n",
    "from keras.layers import Dropout"
   ]
  },
  {
   "cell_type": "code",
   "execution_count": 112,
   "id": "022c5be2",
   "metadata": {},
   "outputs": [
    {
     "name": "stdout",
     "output_type": "stream",
     "text": [
      "Epoch 1/100\n",
      "689/689 [==============================] - 4s 3ms/step - loss: 0.5761 - accuracy: 0.6998\n",
      "Epoch 2/100\n",
      "689/689 [==============================] - 2s 4ms/step - loss: 0.5253 - accuracy: 0.7391\n",
      "Epoch 3/100\n",
      "689/689 [==============================] - 2s 3ms/step - loss: 0.5110 - accuracy: 0.7519\n",
      "Epoch 4/100\n",
      "689/689 [==============================] - 2s 3ms/step - loss: 0.4984 - accuracy: 0.7620\n",
      "Epoch 5/100\n",
      "689/689 [==============================] - 2s 3ms/step - loss: 0.4924 - accuracy: 0.7625\n",
      "Epoch 6/100\n",
      "689/689 [==============================] - 2s 3ms/step - loss: 0.4852 - accuracy: 0.7671\n",
      "Epoch 7/100\n",
      "689/689 [==============================] - 2s 4ms/step - loss: 0.4739 - accuracy: 0.7735\n",
      "Epoch 8/100\n",
      "689/689 [==============================] - 2s 3ms/step - loss: 0.4629 - accuracy: 0.7787\n",
      "Epoch 9/100\n",
      "689/689 [==============================] - 2s 3ms/step - loss: 0.4570 - accuracy: 0.7853\n",
      "Epoch 10/100\n",
      "689/689 [==============================] - 2s 4ms/step - loss: 0.4423 - accuracy: 0.7880\n",
      "Epoch 11/100\n",
      "689/689 [==============================] - 2s 3ms/step - loss: 0.4312 - accuracy: 0.8023\n",
      "Epoch 12/100\n",
      "689/689 [==============================] - 2s 3ms/step - loss: 0.4222 - accuracy: 0.8033\n",
      "Epoch 13/100\n",
      "689/689 [==============================] - 2s 3ms/step - loss: 0.4080 - accuracy: 0.8174\n",
      "Epoch 14/100\n",
      "689/689 [==============================] - 2s 3ms/step - loss: 0.3962 - accuracy: 0.8171\n",
      "Epoch 15/100\n",
      "689/689 [==============================] - 2s 3ms/step - loss: 0.3889 - accuracy: 0.8219\n",
      "Epoch 16/100\n",
      "689/689 [==============================] - 2s 4ms/step - loss: 0.3808 - accuracy: 0.8280\n",
      "Epoch 17/100\n",
      "689/689 [==============================] - 2s 4ms/step - loss: 0.3671 - accuracy: 0.8309\n",
      "Epoch 18/100\n",
      "689/689 [==============================] - 2s 4ms/step - loss: 0.3554 - accuracy: 0.8403\n",
      "Epoch 19/100\n",
      "689/689 [==============================] - 2s 4ms/step - loss: 0.3540 - accuracy: 0.8444\n",
      "Epoch 20/100\n",
      "689/689 [==============================] - 2s 4ms/step - loss: 0.3503 - accuracy: 0.8466\n",
      "Epoch 21/100\n",
      "689/689 [==============================] - 2s 4ms/step - loss: 0.3322 - accuracy: 0.8511\n",
      "Epoch 22/100\n",
      "689/689 [==============================] - 2s 3ms/step - loss: 0.3297 - accuracy: 0.8563\n",
      "Epoch 23/100\n",
      "689/689 [==============================] - 2s 4ms/step - loss: 0.3130 - accuracy: 0.8624\n",
      "Epoch 24/100\n",
      "689/689 [==============================] - 2s 4ms/step - loss: 0.3126 - accuracy: 0.8640\n",
      "Epoch 25/100\n",
      "689/689 [==============================] - 2s 4ms/step - loss: 0.3073 - accuracy: 0.8637\n",
      "Epoch 26/100\n",
      "689/689 [==============================] - 2s 4ms/step - loss: 0.3025 - accuracy: 0.8665\n",
      "Epoch 27/100\n",
      "689/689 [==============================] - 3s 4ms/step - loss: 0.2930 - accuracy: 0.8720\n",
      "Epoch 28/100\n",
      "689/689 [==============================] - 2s 3ms/step - loss: 0.2820 - accuracy: 0.8793\n",
      "Epoch 29/100\n",
      "689/689 [==============================] - 2s 4ms/step - loss: 0.2784 - accuracy: 0.8806\n",
      "Epoch 30/100\n",
      "689/689 [==============================] - 2s 4ms/step - loss: 0.2824 - accuracy: 0.8817\n",
      "Epoch 31/100\n",
      "689/689 [==============================] - 2s 4ms/step - loss: 0.2721 - accuracy: 0.8826\n",
      "Epoch 32/100\n",
      "689/689 [==============================] - 2s 4ms/step - loss: 0.2727 - accuracy: 0.8822\n",
      "Epoch 33/100\n",
      "689/689 [==============================] - 2s 3ms/step - loss: 0.2663 - accuracy: 0.8899\n",
      "Epoch 34/100\n",
      "689/689 [==============================] - 2s 4ms/step - loss: 0.2658 - accuracy: 0.8880\n",
      "Epoch 35/100\n",
      "689/689 [==============================] - 2s 4ms/step - loss: 0.2618 - accuracy: 0.8905\n",
      "Epoch 36/100\n",
      "689/689 [==============================] - 2s 4ms/step - loss: 0.2585 - accuracy: 0.8899\n",
      "Epoch 37/100\n",
      "689/689 [==============================] - 2s 4ms/step - loss: 0.2470 - accuracy: 0.8957\n",
      "Epoch 38/100\n",
      "689/689 [==============================] - 2s 4ms/step - loss: 0.2521 - accuracy: 0.8915\n",
      "Epoch 39/100\n",
      "689/689 [==============================] - 2s 4ms/step - loss: 0.2378 - accuracy: 0.8966\n",
      "Epoch 40/100\n",
      "689/689 [==============================] - 2s 3ms/step - loss: 0.2389 - accuracy: 0.8986\n",
      "Epoch 41/100\n",
      "689/689 [==============================] - 2s 3ms/step - loss: 0.2523 - accuracy: 0.8984\n",
      "Epoch 42/100\n",
      "689/689 [==============================] - 2s 4ms/step - loss: 0.2338 - accuracy: 0.9054\n",
      "Epoch 43/100\n",
      "689/689 [==============================] - 2s 3ms/step - loss: 0.2327 - accuracy: 0.9011\n",
      "Epoch 44/100\n",
      "689/689 [==============================] - 2s 4ms/step - loss: 0.2220 - accuracy: 0.9067\n",
      "Epoch 45/100\n",
      "689/689 [==============================] - 2s 4ms/step - loss: 0.2248 - accuracy: 0.9089\n",
      "Epoch 46/100\n",
      "689/689 [==============================] - 2s 4ms/step - loss: 0.2289 - accuracy: 0.9093\n",
      "Epoch 47/100\n",
      "689/689 [==============================] - 2s 4ms/step - loss: 0.2270 - accuracy: 0.9098\n",
      "Epoch 48/100\n",
      "689/689 [==============================] - 2s 3ms/step - loss: 0.2227 - accuracy: 0.9073\n",
      "Epoch 49/100\n",
      "689/689 [==============================] - 2s 3ms/step - loss: 0.2189 - accuracy: 0.9089\n",
      "Epoch 50/100\n",
      "689/689 [==============================] - 2s 3ms/step - loss: 0.2188 - accuracy: 0.9131\n",
      "Epoch 51/100\n",
      "689/689 [==============================] - 2s 3ms/step - loss: 0.2143 - accuracy: 0.9122\n",
      "Epoch 52/100\n",
      "689/689 [==============================] - 2s 3ms/step - loss: 0.2176 - accuracy: 0.9117\n",
      "Epoch 53/100\n",
      "689/689 [==============================] - 2s 3ms/step - loss: 0.2062 - accuracy: 0.9191\n",
      "Epoch 54/100\n",
      "689/689 [==============================] - 2s 3ms/step - loss: 0.2142 - accuracy: 0.9153\n",
      "Epoch 55/100\n",
      "689/689 [==============================] - 2s 3ms/step - loss: 0.2102 - accuracy: 0.9130\n",
      "Epoch 56/100\n",
      "689/689 [==============================] - 2s 4ms/step - loss: 0.1989 - accuracy: 0.9217\n",
      "Epoch 57/100\n",
      "689/689 [==============================] - 2s 4ms/step - loss: 0.2099 - accuracy: 0.9199\n",
      "Epoch 58/100\n",
      "689/689 [==============================] - 2s 3ms/step - loss: 0.2029 - accuracy: 0.9215\n",
      "Epoch 59/100\n",
      "689/689 [==============================] - 2s 3ms/step - loss: 0.1945 - accuracy: 0.9240\n",
      "Epoch 60/100\n",
      "689/689 [==============================] - 2s 3ms/step - loss: 0.1956 - accuracy: 0.9218\n",
      "Epoch 61/100\n",
      "689/689 [==============================] - 2s 3ms/step - loss: 0.1980 - accuracy: 0.9188\n",
      "Epoch 62/100\n",
      "689/689 [==============================] - 2s 3ms/step - loss: 0.1914 - accuracy: 0.9231\n",
      "Epoch 63/100\n",
      "689/689 [==============================] - 2s 3ms/step - loss: 0.1917 - accuracy: 0.9213\n",
      "Epoch 64/100\n",
      "689/689 [==============================] - 2s 3ms/step - loss: 0.1941 - accuracy: 0.9262\n",
      "Epoch 65/100\n",
      "689/689 [==============================] - 2s 3ms/step - loss: 0.1824 - accuracy: 0.9290\n",
      "Epoch 66/100\n",
      "689/689 [==============================] - 2s 3ms/step - loss: 0.1830 - accuracy: 0.9260\n",
      "Epoch 67/100\n",
      "689/689 [==============================] - 2s 3ms/step - loss: 0.1782 - accuracy: 0.9284\n",
      "Epoch 68/100\n",
      "689/689 [==============================] - 2s 3ms/step - loss: 0.1821 - accuracy: 0.9301\n",
      "Epoch 69/100\n",
      "689/689 [==============================] - 2s 3ms/step - loss: 0.1860 - accuracy: 0.9269\n",
      "Epoch 70/100\n",
      "689/689 [==============================] - 2s 3ms/step - loss: 0.1868 - accuracy: 0.9292\n",
      "Epoch 71/100\n",
      "689/689 [==============================] - 2s 3ms/step - loss: 0.1804 - accuracy: 0.9278\n",
      "Epoch 72/100\n",
      "689/689 [==============================] - 2s 3ms/step - loss: 0.1755 - accuracy: 0.9319\n",
      "Epoch 73/100\n",
      "689/689 [==============================] - 2s 3ms/step - loss: 0.1816 - accuracy: 0.9291\n",
      "Epoch 74/100\n",
      "689/689 [==============================] - 2s 3ms/step - loss: 0.1772 - accuracy: 0.9295\n",
      "Epoch 75/100\n",
      "689/689 [==============================] - 2s 3ms/step - loss: 0.1734 - accuracy: 0.9300\n",
      "Epoch 76/100\n",
      "689/689 [==============================] - 2s 3ms/step - loss: 0.1735 - accuracy: 0.9297\n",
      "Epoch 77/100\n",
      "689/689 [==============================] - 2s 3ms/step - loss: 0.1766 - accuracy: 0.9316\n",
      "Epoch 78/100\n",
      "689/689 [==============================] - 2s 3ms/step - loss: 0.1785 - accuracy: 0.9345\n",
      "Epoch 79/100\n",
      "689/689 [==============================] - 2s 3ms/step - loss: 0.1745 - accuracy: 0.9377\n",
      "Epoch 80/100\n",
      "689/689 [==============================] - 2s 3ms/step - loss: 0.1766 - accuracy: 0.9342\n",
      "Epoch 81/100\n",
      "689/689 [==============================] - 2s 4ms/step - loss: 0.1693 - accuracy: 0.9346\n",
      "Epoch 82/100\n",
      "689/689 [==============================] - 2s 3ms/step - loss: 0.1685 - accuracy: 0.9361\n",
      "Epoch 83/100\n",
      "689/689 [==============================] - 2s 3ms/step - loss: 0.1663 - accuracy: 0.9387\n",
      "Epoch 84/100\n",
      "689/689 [==============================] - 2s 3ms/step - loss: 0.1723 - accuracy: 0.9333\n",
      "Epoch 85/100\n",
      "689/689 [==============================] - 2s 3ms/step - loss: 0.1661 - accuracy: 0.9380\n",
      "Epoch 86/100\n",
      "689/689 [==============================] - 2s 3ms/step - loss: 0.1542 - accuracy: 0.9404\n",
      "Epoch 87/100\n",
      "689/689 [==============================] - 2s 4ms/step - loss: 0.1706 - accuracy: 0.9330\n",
      "Epoch 88/100\n",
      "689/689 [==============================] - 2s 3ms/step - loss: 0.1681 - accuracy: 0.9381\n",
      "Epoch 89/100\n",
      "689/689 [==============================] - 2s 3ms/step - loss: 0.1657 - accuracy: 0.9352\n",
      "Epoch 90/100\n",
      "689/689 [==============================] - 2s 3ms/step - loss: 0.1676 - accuracy: 0.9295\n",
      "Epoch 91/100\n",
      "689/689 [==============================] - 2s 3ms/step - loss: 0.1587 - accuracy: 0.9375\n",
      "Epoch 92/100\n",
      "689/689 [==============================] - 2s 3ms/step - loss: 0.1649 - accuracy: 0.9381\n",
      "Epoch 93/100\n",
      "689/689 [==============================] - 2s 3ms/step - loss: 0.1621 - accuracy: 0.9384\n",
      "Epoch 94/100\n",
      "689/689 [==============================] - 2s 3ms/step - loss: 0.1613 - accuracy: 0.9371\n",
      "Epoch 95/100\n",
      "689/689 [==============================] - 2s 3ms/step - loss: 0.1674 - accuracy: 0.9388\n",
      "Epoch 96/100\n",
      "689/689 [==============================] - 2s 3ms/step - loss: 0.1687 - accuracy: 0.9355\n",
      "Epoch 97/100\n",
      "689/689 [==============================] - 2s 3ms/step - loss: 0.1481 - accuracy: 0.9441\n",
      "Epoch 98/100\n",
      "689/689 [==============================] - 2s 3ms/step - loss: 0.1603 - accuracy: 0.9372\n",
      "Epoch 99/100\n",
      "689/689 [==============================] - 2s 3ms/step - loss: 0.1620 - accuracy: 0.9377\n",
      "Epoch 100/100\n",
      "689/689 [==============================] - 2s 3ms/step - loss: 0.1677 - accuracy: 0.9351\n"
     ]
    },
    {
     "data": {
      "text/plain": [
       "<keras.callbacks.History at 0x22141615ac0>"
      ]
     },
     "execution_count": 112,
     "metadata": {},
     "output_type": "execute_result"
    }
   ],
   "source": [
    "# Initialisation du réseau de neurones\n",
    "classifier = Sequential()\n",
    "\n",
    "# Ajout de la couche d'entrée et de la première couche cachée\n",
    "classifier.add(Dense(units=65, activation='relu', input_dim=128,))\n",
    "classifier.add(Dropout(0.2))\n",
    "\n",
    "# Ajout de la deuxième couche cachée\n",
    "classifier.add(Dense(units=32, activation='relu'))\n",
    "classifier.add(Dropout(0.2))\n",
    "\n",
    "# Ajout de la troisième couche cachée\n",
    "classifier.add(Dense(units=16, activation='relu'))\n",
    "classifier.add(Dropout(0.2))\n",
    "\n",
    "# Ajout de la couche de sortie\n",
    "classifier.add(Dense(units=1, activation='sigmoid'))\n",
    "\n",
    "# Compilation du réseau de neurones\n",
    "classifier.compile(optimizer='adam', loss='binary_crossentropy', metrics=['accuracy'])\n",
    "\n",
    "# Entraînement du réseau de neurones\n",
    "classifier.fit(X_train, Y_train, batch_size=10, epochs=100)\n"
   ]
  },
  {
   "cell_type": "code",
   "execution_count": 113,
   "id": "725a8b07",
   "metadata": {},
   "outputs": [
    {
     "name": "stdout",
     "output_type": "stream",
     "text": [
      "108/108 [==============================] - 1s 3ms/step - loss: 1.2897 - accuracy: 0.7080\n",
      "Perte (loss) sur les données de test:  1.2897107601165771\n",
      "Accuracy sur les données de test:  0.7080186009407043\n"
     ]
    }
   ],
   "source": [
    "# Évaluer le modèle sur les données de test\n",
    "loss, accuracy = classifier.evaluate(X_test, Y_test)\n",
    "print(\"Perte (loss) sur les données de test: \", loss)\n",
    "print(\"Accuracy sur les données de test: \", accuracy)"
   ]
  },
  {
   "cell_type": "code",
   "execution_count": 114,
   "id": "b5ca2383",
   "metadata": {
    "scrolled": false
   },
   "outputs": [
    {
     "name": "stdout",
     "output_type": "stream",
     "text": [
      "108/108 [==============================] - 0s 2ms/step\n",
      "Accuracy rate: 0.7080186009407043\n",
      "Error rate: 0.29198139905929565\n",
      "F1-score: 0.7347585114806017\n"
     ]
    }
   ],
   "source": [
    "# Evaluation de l'accuracy rate\n",
    "Y_pred_9 = classifier.predict(X_test)\n",
    "Accuracy_Rate9 = accuracy_score(Y_test, Y_pred_9.round())\n",
    "print(\"Accuracy rate:\", accuracy)\n",
    "\n",
    "# Evaluation de l'error rate\n",
    "Error_rate9 = 1 - accuracy\n",
    "print(\"Error rate:\", Error_rate9)\n",
    "\n",
    "# Evaluation du F1-score\n",
    "F1_score_ANN9 = f1_score(Y_test, Y_pred_9.round())\n",
    "print(\"F1-score:\", F1_score_ANN9)"
   ]
  },
  {
   "cell_type": "code",
   "execution_count": 115,
   "id": "181c396c",
   "metadata": {},
   "outputs": [],
   "source": [
    "precision9 = precision_score(Y_test, Y_pred_9.round())\n",
    "recall9 = recall_score(Y_test,  Y_pred_9.round())\n",
    "CK9 = cohen_kappa_score(Y_test,  Y_pred_9.round())\n",
    "MC9 = matthews_corrcoef(Y_test, Y_pred_9.round())\n",
    "auc5 = metrics.roc_auc_score(Y_test, Y_pred_9.round())"
   ]
  },
  {
   "cell_type": "code",
   "execution_count": 116,
   "id": "db3dd3a0",
   "metadata": {
    "scrolled": false
   },
   "outputs": [
    {
     "data": {
      "image/png": "[encoded data removed]",
      "text/plain": [
       "<Figure size 576x432 with 1 Axes>"
      ]
     },
     "metadata": {
      "needs_background": "light"
     },
     "output_type": "display_data"
    }
   ],
   "source": [
    "# create a list of metric names and values\n",
    "metric_names = [\"Precision\", \"Recall\", \"Accuracy Rate\", \"Error Rate\", \"F1 Score\", \"CK\", \"MC\",\"AUC\"]\n",
    "metric_values = [precision9, recall9, Accuracy_Rate9, Error_rate9, F1_score_ANN9, CK9, MC9,auc]\n",
    "\n",
    "# create a bar chart\n",
    "fig, ax = plt.subplots(figsize=(8,6))\n",
    "ax.bar(metric_names, metric_values)\n",
    "ax.set_ylabel('Value')\n",
    "ax.set_ylim([0,1])\n",
    "ax.set_title('Performance Metrics')\n",
    "plt.show()"
   ]
  },
  {
   "cell_type": "code",
   "execution_count": 117,
   "id": "fdb2adda",
   "metadata": {
    "scrolled": false
   },
   "outputs": [
    {
     "name": "stdout",
     "output_type": "stream",
     "text": [
      "     precision    recall  accuracy     error  f1_score        CK        MC  \\\n",
      "RL    0.782425  0.760288  0.745206  0.254794  0.771197  0.483884  0.484138   \n",
      "SVM   0.790924  0.753086  0.748112  0.251888  0.771542  0.491244  0.491977   \n",
      "RF    0.699111  0.809156  0.695526  0.304474  0.750119  0.365792  0.372230   \n",
      "GB    0.771547  0.764403  0.739105  0.260895  0.767959  0.470030  0.470057   \n",
      "ANN   0.754472  0.716049  0.708019  0.291981  0.734759  0.410534  0.411228   \n",
      "\n",
      "          AUC  \n",
      "RL   0.728350  \n",
      "SVM  0.818038  \n",
      "RF   0.728350  \n",
      "GB   0.813707  \n",
      "ANN  0.706823  \n"
     ]
    },
    {
     "data": {
      "image/png": "[encoded data removed]",
      "text/plain": [
       "<Figure size 1080x504 with 1 Axes>"
      ]
     },
     "metadata": {
      "needs_background": "light"
     },
     "output_type": "display_data"
    }
   ],
   "source": [
    "# Données de performance pour chaque modèle\n",
    "model_data = {\n",
    "    'RL': {\n",
    "        'precision': precision,\n",
    "        'recall': recall,\n",
    "        'accuracy': Accuracy_Rate,\n",
    "        'error': Error_rate,\n",
    "        'f1_score': F1_score_logreg,\n",
    "        'CK': CK,\n",
    "        'MC': MC,\n",
    "        'AUC': auc\n",
    "    },\n",
    "    'SVM': {\n",
    "        'precision': precision2,\n",
    "        'recall': recall2,\n",
    "        'accuracy': Accuracy_Rate2,\n",
    "        'error': Error_rate2,\n",
    "        'f1_score': F1_score_logreg2,\n",
    "        'CK': CK2,\n",
    "        'MC': MC2,\n",
    "        'AUC': auc2\n",
    "    },\n",
    "    'RF': {\n",
    "        'precision': precision6,\n",
    "        'recall': recall6,\n",
    "        'accuracy': Accuracy_Rate6,\n",
    "        'error': Error_rate6,\n",
    "        'f1_score': F1_score_logreg6,\n",
    "        'CK': CK6,\n",
    "        'MC': MC6,\n",
    "        'AUC': auc3\n",
    "    },\n",
    "    'GB': {\n",
    "        'precision': precision8,\n",
    "        'recall': recall8,\n",
    "        'accuracy': Accuracy_Rate8,\n",
    "        'error': Error_rate8,\n",
    "        'f1_score': F1_score_logreg8,\n",
    "        'CK': CK8,\n",
    "        'MC': MC8,\n",
    "        'AUC': auc4\n",
    "    },\n",
    "    'ANN': {\n",
    "        'precision': precision9,\n",
    "        'recall': recall9,\n",
    "        'accuracy': Accuracy_Rate9,\n",
    "        'error': Error_rate9,\n",
    "        'f1_score': F1_score_ANN9 ,\n",
    "        'CK': CK9,\n",
    "        'MC': MC9,\n",
    "        'AUC': auc5\n",
    "}\n",
    "                }\n",
    "\n",
    "# Créer un DataFrame pour chaque métrique de performance\n",
    "precision_df = pd.DataFrame.from_dict({k: v['precision'] for k, v in model_data.items()}, orient='index')\n",
    "recall_df = pd.DataFrame.from_dict({k: v['recall'] for k, v in model_data.items()}, orient='index')\n",
    "accuracy_df = pd.DataFrame.from_dict({k: v['accuracy'] for k, v in model_data.items()}, orient='index')\n",
    "error_df = pd.DataFrame.from_dict({k: v['error'] for k, v in model_data.items()}, orient='index')\n",
    "f1_score_df = pd.DataFrame.from_dict({k: v['f1_score'] for k, v in model_data.items()}, orient='index')\n",
    "CK_df = pd.DataFrame.from_dict({k: v['CK'] for k, v in model_data.items()}, orient='index')\n",
    "MC_df = pd.DataFrame.from_dict({k: v['MC'] for k, v in model_data.items()}, orient='index')\n",
    "AUC_df = pd.DataFrame.from_dict({k: v['AUC'] for k, v in model_data.items()}, orient='index')\n",
    "\n",
    "# Placer tous les tableaux dans une liste pour les concaténer horizontalement\n",
    "dfs = [precision_df, recall_df, accuracy_df, error_df, f1_score_df, CK_df, MC_df,AUC_df]\n",
    "\n",
    "# Concaténer horizontalement les tableaux pour créer un seul DataFrame\n",
    "results_df = pd.concat(dfs, axis=1)\n",
    "\n",
    "# Renommer les colonnes pour qu'elles correspondent aux métriques de performance\n",
    "results_df.columns = ['precision', 'recall', 'accuracy', 'error', 'f1_score', 'CK', 'MC','AUC']\n",
    "\n",
    "# Afficher le DataFrame\n",
    "print(results_df)\n",
    "# Tracer les performances de chaque modèle pour chaque métrique\n",
    "results_df.plot(kind='bar',figsize=(15, 7))\n",
    "plt.title('Comparaison de modèle')\n",
    "plt.ylabel('Score')\n",
    "plt.legend(loc='center left', bbox_to_anchor=(1, 0.5))\n",
    "plt.show()"
   ]
  },
  {
   "cell_type": "markdown",
   "id": "2796fb90",
   "metadata": {},
   "source": [
    "# Regression Logistique : RFECV"
   ]
  },
  {
   "cell_type": "code",
   "execution_count": 133,
   "id": "ab9805e8",
   "metadata": {
    "scrolled": true
   },
   "outputs": [
    {
     "name": "stdout",
     "output_type": "stream",
     "text": [
      "Caractéristiques sélectionnées (13 meilleures) :\n",
      "SEX_M\n",
      "ENFANT_BIN\n",
      "13reconfort_entourage\n",
      "service_COVID19\n",
      "Anatomopathologie\n",
      "Biologie médicale\n",
      "Chirurgie tête et cou\n",
      "Chirurgie infantile/pédiatrique\n",
      "Chirurgie Gynéco-Obstétrique\n",
      "Chirurgie Maxillo-faciale\n",
      "Chirurgie: Neurochirurgie\n",
      "Chirurgie: Ophtalmologie\n",
      "Chirurgie : Orthopédie\n"
     ]
    }
   ],
   "source": [
    "from sklearn.feature_selection import RFECV\n",
    "\n",
    "# Créez le modèle de régression logistique\n",
    "clf = LogisticRegression(max_iter=1000)\n",
    "\n",
    "# Utilisez RFECV avec le modèle de régression logistique\n",
    "selector = RFECV(clf, cv=5)\n",
    "selector.fit(X_train, Y_train)\n",
    "\n",
    "# Triez les caractéristiques sélectionnées par ordre d'importance\n",
    "feature_ranks = selector.ranking_\n",
    "sorted_feature_indices = sorted(range(len(feature_ranks)), key=lambda x: feature_ranks[x])\n",
    "\n",
    "# Sélectionnez les 13 meilleures caractéristiques\n",
    "top_13_feature_indices = sorted_feature_indices[:13]\n",
    "\n",
    "# Imprimer les 13 meilleures caractéristiques\n",
    "print(\"Caractéristiques sélectionnées (13 meilleures) :\")\n",
    "for feature_list_index in top_13_feature_indices:\n",
    "    print(df2.columns[feature_list_index])"
   ]
  },
  {
   "cell_type": "markdown",
   "id": "a960992c",
   "metadata": {},
   "source": [
    "## SVM : RFECV"
   ]
  },
  {
   "cell_type": "code",
   "execution_count": 139,
   "id": "c3098bea",
   "metadata": {},
   "outputs": [
    {
     "name": "stdout",
     "output_type": "stream",
     "text": [
      "Caractéristiques sélectionnées (13 meilleures) :\n",
      "2. Quel âge avez-vous ?\n",
      "PUBLIC_VS_PRIVE_ET_EPBNL\n",
      "ANCIENNETE\n",
      "13reconfort_entourage\n",
      "service_COVID19\n",
      "Anatomopathologie\n",
      "Biologie médicale\n",
      "Chirurgie tête et cou\n",
      "Chirurgie générale\n",
      "Chirurgie infantile/pédiatrique\n",
      "Chirurgie Gynéco-Obstétrique\n",
      "Chirurgie Maxillo-faciale\n",
      "Chirurgie: Neurochirurgie\n"
     ]
    }
   ],
   "source": [
    "# Créez le modèle SVM\n",
    "clf = SVC(kernel='linear')\n",
    "\n",
    "# Utilisez RFECV avec le modèle SVM\n",
    "selector = RFECV(clf, cv=5)\n",
    "selector.fit(X_train, Y_train)\n",
    "\n",
    "# Triez les caractéristiques sélectionnées par ordre d'importance\n",
    "feature_ranks = selector.ranking_\n",
    "sorted_feature_indices = sorted(range(len(feature_ranks)), key=lambda x: feature_ranks[x])\n",
    "\n",
    "# Sélectionnez les 13 meilleures caractéristiques\n",
    "top_13_feature_indices = sorted_feature_indices[:13]\n",
    "\n",
    "# Imprimer les 13 meilleures caractéristiques\n",
    "print(\"Caractéristiques sélectionnées (13 meilleures) :\")\n",
    "for feature_list_index in top_13_feature_indices:\n",
    "    print(df.columns[feature_list_index])"
   ]
  },
  {
   "cell_type": "markdown",
   "id": "6500b853",
   "metadata": {},
   "source": [
    "## RF : RFECV"
   ]
  },
  {
   "cell_type": "code",
   "execution_count": 137,
   "id": "9587ca2d",
   "metadata": {},
   "outputs": [
    {
     "name": "stdout",
     "output_type": "stream",
     "text": [
      "Caractéristiques sélectionnées (13 meilleures) :\n",
      "2. Quel âge avez-vous ?\n",
      "SEX_M\n",
      "IMC\n",
      "PUBLIC_VS_PRIVE_ET_EPBNL\n",
      "ANCIENNETE\n",
      "11conjoint_domicile\n",
      "ENFANT_BIN\n",
      "14proche_aidant\n",
      "service_COVID19\n",
      "Chirurgie tête et cou\n",
      "Chirurgie Maxillo-faciale\n",
      "Chirurgie : Orthopédie\n",
      "Chirurgie plastique\n"
     ]
    }
   ],
   "source": [
    "# Créez le modèle RandomForest\n",
    "clf = RandomForestClassifier(n_estimators=100, random_state=42)\n",
    "\n",
    "# Utilisez RFECV avec le modèle RandomForest\n",
    "selector = RFECV(clf, cv=5)\n",
    "selector.fit(X_train, Y_train)\n",
    "\n",
    "# Triez les caractéristiques sélectionnées par ordre d'importance\n",
    "feature_ranks = selector.ranking_\n",
    "sorted_feature_indices = sorted(range(len(feature_ranks)), key=lambda x: feature_ranks[x])\n",
    "\n",
    "# Sélectionnez les 13 meilleures caractéristiques\n",
    "top_13_feature_indices = sorted_feature_indices[:13]\n",
    "\n",
    "# Imprimer les 13 meilleures caractéristiques\n",
    "print(\"Caractéristiques sélectionnées (13 meilleures) :\")\n",
    "for feature_list_index in top_13_feature_indices:\n",
    "    print(df.columns[feature_list_index])"
   ]
  },
  {
   "cell_type": "markdown",
   "id": "8e9ff6c3",
   "metadata": {},
   "source": [
    "## RF : GB"
   ]
  },
  {
   "cell_type": "code",
   "execution_count": 138,
   "id": "1afa3e52",
   "metadata": {},
   "outputs": [
    {
     "name": "stdout",
     "output_type": "stream",
     "text": [
      "Caractéristiques sélectionnées (13 meilleures) :\n",
      "2. Quel âge avez-vous ?\n",
      "IMC\n",
      "PUBLIC_VS_PRIVE_ET_EPBNL\n",
      "11conjoint_domicile\n",
      "service_COVID19\n",
      "Chirurgie tête et cou\n",
      "Chirurgie plastique\n",
      "Chirurgie Viscérale et Digestive\n",
      "Chirurgie Vasculaire\n",
      "Médecine : Gastroentérologie\n",
      "Médecine : Pédiatrie (Néonatologie)\n",
      "Médecine : Pédiatrie (hors néonatologie)\n",
      "Psychiatrie adulte\n"
     ]
    }
   ],
   "source": [
    "# Créez le modèle GradientBoosting\n",
    "clf = GradientBoostingClassifier(n_estimators=100, random_state=42)\n",
    "\n",
    "# Utilisez RFECV avec le modèle GradientBoosting\n",
    "selector = RFECV(clf, cv=5)\n",
    "selector.fit(X_train, Y_train)\n",
    "\n",
    "# Triez les caractéristiques sélectionnées par ordre d'importance\n",
    "feature_ranks = selector.ranking_\n",
    "sorted_feature_indices = sorted(range(len(feature_ranks)), key=lambda x: feature_ranks[x])\n",
    "\n",
    "# Sélectionnez les 13 meilleures caractéristiques\n",
    "top_13_feature_indices = sorted_feature_indices[:13]\n",
    "\n",
    "# Imprimer les 13 meilleures caractéristiques\n",
    "print(\"Caractéristiques sélectionnées (13 meilleures) :\")\n",
    "for feature_list_index in top_13_feature_indices:\n",
    "    print(df.columns[feature_list_index])"
   ]
  }
 ],
 "metadata": {
  "kernelspec": {
   "display_name": "Python 3 (ipykernel)",
   "language": "python",
   "name": "python3"
  },
  "language_info": {
   "codemirror_mode": {
    "name": "ipython",
    "version": 3
   },
   "file_extension": ".py",
   "mimetype": "text/x-python",
   "name": "python",
   "nbconvert_exporter": "python",
   "pygments_lexer": "ipython3",
   "version": "3.9.12"
  }
 },
 "nbformat": 4,
 "nbformat_minor": 5
}
